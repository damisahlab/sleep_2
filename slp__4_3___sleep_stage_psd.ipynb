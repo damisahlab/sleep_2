{
 "cells": [
  {
   "attachments": {},
   "cell_type": "markdown",
   "metadata": {},
   "source": [
    "### Configuration"
   ]
  },
  {
   "cell_type": "code",
   "execution_count": 1,
   "metadata": {},
   "outputs": [],
   "source": [
    "import os\n",
    "import numpy as np\n",
    "import pandas as pd\n",
    "import xarray as xr\n",
    "\n",
    "import mne\n",
    "import yasa\n",
    "from scipy.stats import zscore\n",
    "import plotnine as pn\n",
    "from plotnine import ggplot, aes, geom_line, geom_rect, scale_x_continuous, labs, theme_classic, theme, element_rect, scale_fill_identity\n",
    "\n",
    "from utils__helpers_macro import robust_zscore, welch_psd\n",
    "import utils__config"
   ]
  },
  {
   "cell_type": "code",
   "execution_count": 2,
   "metadata": {},
   "outputs": [
    {
     "data": {
      "text/plain": [
       "'Z:\\\\Layton\\\\Sleep_083023'"
      ]
     },
     "execution_count": 2,
     "metadata": {},
     "output_type": "execute_result"
    }
   ],
   "source": [
    "os.chdir(utils__config.working_directory)\n",
    "os.getcwd()"
   ]
  },
  {
   "attachments": {},
   "cell_type": "markdown",
   "metadata": {},
   "source": [
    "### Parameters"
   ]
  },
  {
   "cell_type": "code",
   "execution_count": 3,
   "metadata": {},
   "outputs": [],
   "source": [
    "fif_path = 'Cache/Subject01/Feb02/S01_Feb02_256hz.fif'\n",
    "potato_path = 'Cache/Subject01/Feb02/S01_potatogram.csv'\n",
    "bad_epoch_path = 'Cache/Subject01/Feb02/S01_bad_epochs.csv'\n",
    "bad_channel_path = 'Cache/Subject01/Feb02/S01_bad_channels.csv'\n",
    "\n",
    "psd_out_path = 'Results/S01_sleep_stage_psd.svg'"
   ]
  },
  {
   "attachments": {},
   "cell_type": "markdown",
   "metadata": {},
   "source": [
    "Please note that the number of samples must be whole-number divisible by (sampling_freq * epoch_length)"
   ]
  },
  {
   "cell_type": "code",
   "execution_count": 4,
   "metadata": {},
   "outputs": [],
   "source": [
    "sampling_freq = 256 # Hz\n",
    "epoch_length = 30 # seconds"
   ]
  },
  {
   "attachments": {},
   "cell_type": "markdown",
   "metadata": {},
   "source": [
    "### Load Data"
   ]
  },
  {
   "cell_type": "code",
   "execution_count": 5,
   "metadata": {},
   "outputs": [
    {
     "name": "stderr",
     "output_type": "stream",
     "text": [
      "C:\\Users\\lal85\\AppData\\Local\\Temp\\2\\ipykernel_25124\\3029478263.py:1: RuntimeWarning: This filename (Cache/Subject01/Feb02/S01_Feb02_256hz.fif) does not conform to MNE naming conventions. All raw files should end with raw.fif, raw_sss.fif, raw_tsss.fif, _meg.fif, _eeg.fif, _ieeg.fif, raw.fif.gz, raw_sss.fif.gz, raw_tsss.fif.gz, _meg.fif.gz, _eeg.fif.gz or _ieeg.fif.gz\n"
     ]
    },
    {
     "name": "stdout",
     "output_type": "stream",
     "text": [
      "NOTE: pick_types() is a legacy function. New code should use inst.pick(...).\n",
      "Channel count after bad channel removal: 68\n"
     ]
    }
   ],
   "source": [
    "raw = mne.io.read_raw_fif(fif_path, preload = True, verbose = False)\n",
    "\n",
    "# Select only macroelectrodes\n",
    "raw.pick_types(seeg = True, ecog = True)\n",
    "\n",
    "# Remove bad channels\n",
    "bad_channels = pd.read_csv(bad_channel_path)\n",
    "bad_channels = bad_channels[bad_channels['channel'].isin(raw.ch_names)]\n",
    "raw.drop_channels(ch_names = bad_channels['channel'].astype('string'))\n",
    "print('Channel count after bad channel removal:', len(raw.ch_names))\n",
    "\n",
    "# Load the upsampled hypnogram\n",
    "hypnogram = np.loadtxt(potato_path, delimiter = ',')"
   ]
  },
  {
   "attachments": {},
   "cell_type": "markdown",
   "metadata": {},
   "source": [
    "### Epoch Data"
   ]
  },
  {
   "attachments": {},
   "cell_type": "markdown",
   "metadata": {},
   "source": [
    "Add hypnogram as a channel to the Raw object"
   ]
  },
  {
   "cell_type": "code",
   "execution_count": 6,
   "metadata": {},
   "outputs": [
    {
     "name": "stdout",
     "output_type": "stream",
     "text": [
      "Creating RawArray with float64 data, n_channels=1, n_times=1843574\n",
      "    Range : 0 ... 1843573 =      0.000 ...  7201.457 secs\n",
      "Ready.\n"
     ]
    },
    {
     "data": {
      "text/html": [
       "<table class=\"table table-hover table-striped table-sm table-responsive small\">\n",
       "    <tr>\n",
       "        <th>Measurement date</th>\n",
       "        \n",
       "        <td>February 02, 2022  05:41:39 GMT</td>\n",
       "        \n",
       "    </tr>\n",
       "    <tr>\n",
       "        <th>Experimenter</th>\n",
       "        \n",
       "        <td>Unknown</td>\n",
       "        \n",
       "    </tr>\n",
       "        <th>Participant</th>\n",
       "        \n",
       "        <td>Unknown</td>\n",
       "        \n",
       "    </tr>\n",
       "    <tr>\n",
       "        <th>Digitized points</th>\n",
       "        \n",
       "        <td>0 points</td>\n",
       "        \n",
       "    </tr>\n",
       "    <tr>\n",
       "        <th>Good channels</th>\n",
       "        <td>68 sEEG, 1 misc</td>\n",
       "    </tr>\n",
       "    <tr>\n",
       "        <th>Bad channels</th>\n",
       "        <td>None</td>\n",
       "    </tr>\n",
       "    <tr>\n",
       "        <th>EOG channels</th>\n",
       "        <td>Not available</td>\n",
       "    </tr>\n",
       "    <tr>\n",
       "        <th>ECG channels</th>\n",
       "        <td>Not available</td>\n",
       "    \n",
       "    <tr>\n",
       "        <th>Sampling frequency</th>\n",
       "        <td>256.00 Hz</td>\n",
       "    </tr>\n",
       "    \n",
       "    \n",
       "    <tr>\n",
       "        <th>Highpass</th>\n",
       "        <td>0.00 Hz</td>\n",
       "    </tr>\n",
       "    \n",
       "    \n",
       "    <tr>\n",
       "        <th>Lowpass</th>\n",
       "        <td>128.00 Hz</td>\n",
       "    </tr>\n",
       "    \n",
       "    \n",
       "    \n",
       "    <tr>\n",
       "        <th>Filenames</th>\n",
       "        <td>S01_Feb02_256hz.fif</td>\n",
       "    </tr>\n",
       "    \n",
       "    <tr>\n",
       "        <th>Duration</th>\n",
       "        <td>02:00:02 (HH:MM:SS)</td>\n",
       "    </tr>\n",
       "</table>"
      ],
      "text/plain": [
       "<Raw | S01_Feb02_256hz.fif, 69 x 1843574 (7201.5 s), ~970.6 MB, data loaded>"
      ]
     },
     "execution_count": 6,
     "metadata": {},
     "output_type": "execute_result"
    }
   ],
   "source": [
    "# Hypnogram dictionary: \n",
    "# (-2) = Unassigned\n",
    "# (-1) = Artifact\n",
    "# (0) = Awake\n",
    "# (1) = N1\n",
    "# (2) = N2\n",
    "# (3) = N3\n",
    "# (4) = REM \n",
    "\n",
    "# Re-value sleep stages for incorporation into Epochs object\n",
    "hypnogram[(hypnogram != 1) & (hypnogram != 2) & (hypnogram != 3)] = 0\n",
    "hypnogram[(hypnogram == 1) | (hypnogram == 2) | (hypnogram == 3)] = 1\n",
    "\n",
    "# Create raw object from the hypnogram\n",
    "hypnogram = hypnogram[np.newaxis, :]\n",
    "\n",
    "hypno_info = mne.create_info(ch_names = ['hypno'], \n",
    "                             sfreq = raw.info['sfreq'], \n",
    "                             ch_types = ['misc'])\n",
    "\n",
    "hypno = mne.io.RawArray(data = hypnogram,\n",
    "                        info = hypno_info,\n",
    "                        first_samp = raw.first_samp)\n",
    "\n",
    "raw.add_channels([hypno], force_update_info = True)"
   ]
  },
  {
   "attachments": {},
   "cell_type": "markdown",
   "metadata": {},
   "source": [
    "Create dummy stim data and an empty stim channel, then fill the channel with the data"
   ]
  },
  {
   "cell_type": "code",
   "execution_count": 7,
   "metadata": {},
   "outputs": [
    {
     "name": "stdout",
     "output_type": "stream",
     "text": [
      "Creating RawArray with float64 data, n_channels=1, n_times=1843574\n",
      "    Range : 0 ... 1843573 =      0.000 ...  7201.457 secs\n",
      "Ready.\n"
     ]
    }
   ],
   "source": [
    "# Record the first sample (which is not 0 since the Raw\n",
    "# file was cropped from the original); you will need this\n",
    "# to appropriately select the epoch sample number\n",
    "start = raw.first_samp\n",
    "step = sampling_freq * epoch_length\n",
    "stop = raw.last_samp - step\n",
    "\n",
    "epoch_stim = np.arange(start, stop, step)\n",
    "\n",
    "# MNE Epochs expects a three column array where the second column\n",
    "# is a dummy spacer with 0's and the third is an integer indicating\n",
    "# the ID for the event. So we need to append these to our stim array.\n",
    "dummy_row = np.zeros(len(epoch_stim))\n",
    "event_row = np.ones(len(epoch_stim))\n",
    "\n",
    "epoch_stim = np.vstack((epoch_stim, dummy_row, event_row)).transpose()\n",
    "\n",
    "# Create a dummy numpy event array and MNE info object\n",
    "# and use them to create an empty dummy Raw channel\n",
    "events_info = mne.create_info(ch_names = ['epoch_stim'], \n",
    "                              sfreq = raw.info['sfreq'], \n",
    "                              ch_types = ['stim'])\n",
    "\n",
    "empty_events = np.zeros((1, len(raw.times)))\n",
    "\n",
    "events_channel = mne.io.RawArray(empty_events, events_info)\n",
    "\n",
    "# Create an event dictionary\n",
    "event_dictionary = {'epoch_start' : 1}"
   ]
  },
  {
   "attachments": {},
   "cell_type": "markdown",
   "metadata": {},
   "source": [
    "Epoch data using dummy stim data in the new channel"
   ]
  },
  {
   "cell_type": "code",
   "execution_count": 8,
   "metadata": {},
   "outputs": [
    {
     "name": "stdout",
     "output_type": "stream",
     "text": [
      "240 events found\n",
      "Event IDs: [1]\n",
      "Not setting metadata\n",
      "240 matching events found\n",
      "No baseline correction applied\n",
      "0 projection items activated\n",
      "Using data from preloaded Raw for 240 events and 7681 original time points ...\n",
      "0 bad epochs dropped\n"
     ]
    }
   ],
   "source": [
    "# Update the empty stim channel with the formatted epoch start times\n",
    "raw.add_channels([events_channel], force_update_info = True)\n",
    "raw.add_events(epoch_stim, 'epoch_stim')\n",
    "\n",
    "# Find events and create epochs\n",
    "events = mne.find_events(raw, \n",
    "                         stim_channel = 'epoch_stim', \n",
    "                         shortest_event = sampling_freq * epoch_length,\n",
    "                         initial_event = True)\n",
    "\n",
    "epochs = mne.Epochs(raw, \n",
    "                    preload = True, \n",
    "                    events = events, \n",
    "                    event_id = event_dictionary, \n",
    "                    baseline = None,\n",
    "                    verbose = True,\n",
    "                    tmin = 0, \n",
    "                    tmax = epoch_length)\n",
    "\n",
    "# Drop the event channel before exporting data\n",
    "epochs = epochs.drop_channels(['epoch_stim'])"
   ]
  },
  {
   "attachments": {},
   "cell_type": "markdown",
   "metadata": {},
   "source": [
    "Select epochs with more than 50% N2/3 sleep and save their sample number start times"
   ]
  },
  {
   "cell_type": "code",
   "execution_count": 9,
   "metadata": {},
   "outputs": [],
   "source": [
    "# Get epoched hypnogram and get SWS% per epoch\n",
    "hypochs = epochs.get_data(picks = ['hypno']).squeeze()\n",
    "hypochs = hypochs.mean(axis = 1).transpose()\n",
    "hypochs = pd.DataFrame(hypochs, columns = ['hypno_score'])\n",
    "\n",
    "# Keep epochs with more than 50% of SWS\n",
    "nopochs = pd.Series(hypochs[hypochs['hypno_score'] <= 0.50].index)\n",
    "hypochs = pd.Series(hypochs[hypochs['hypno_score'] > 0.50].index)\n",
    "\n",
    "# Remove hypno channel and get data\n",
    "epochs = epochs.drop_channels(['hypno'])\n",
    "\n",
    "# N2/3 sleep\n",
    "nosleep = epochs[nopochs.tolist()]\n",
    "nosleep = nosleep.get_data(units = 'uV').transpose(1, 0, 2).reshape(len(epochs.ch_names), -1)\n",
    "\n",
    "# Non-N2/3 sleep\n",
    "sleep = epochs[hypochs.tolist()]\n",
    "sleep = sleep.get_data(units = 'uV').transpose(1, 0, 2).reshape(len(epochs.ch_names), -1)"
   ]
  },
  {
   "attachments": {},
   "cell_type": "markdown",
   "metadata": {},
   "source": [
    "### Welch PSD"
   ]
  },
  {
   "cell_type": "code",
   "execution_count": 10,
   "metadata": {},
   "outputs": [
    {
     "name": "stdout",
     "output_type": "stream",
     "text": [
      "Effective window size : 1.000 (s)\n"
     ]
    },
    {
     "name": "stderr",
     "output_type": "stream",
     "text": [
      "[Parallel(n_jobs=4)]: Using backend LokyBackend with 4 concurrent workers.\n",
      "[Parallel(n_jobs=4)]: Done   2 out of   4 | elapsed:    2.6s remaining:    2.6s\n"
     ]
    },
    {
     "name": "stdout",
     "output_type": "stream",
     "text": [
      "Effective window size : 1.000 (s)\n"
     ]
    },
    {
     "name": "stderr",
     "output_type": "stream",
     "text": [
      "[Parallel(n_jobs=4)]: Done   4 out of   4 | elapsed:    2.9s finished\n",
      "[Parallel(n_jobs=4)]: Using backend LokyBackend with 4 concurrent workers.\n",
      "[Parallel(n_jobs=4)]: Done   2 out of   4 | elapsed:    0.3s remaining:    0.3s\n",
      "[Parallel(n_jobs=4)]: Done   4 out of   4 | elapsed:    0.4s finished\n"
     ]
    }
   ],
   "source": [
    "# Welch PSD\n",
    "tfr_sleep = welch_psd(data = sleep, chan_names = epochs.ch_names, sampling_freq = sampling_freq, n_jobs = 4)\n",
    "tfr_nosleep = welch_psd(data = nosleep, chan_names = epochs.ch_names, sampling_freq = sampling_freq, n_jobs = 4)\n",
    "\n",
    "# Average PSD across channels\n",
    "tfr_sleep = tfr_sleep.groupby('frequency').mean('log_power').reset_index()\n",
    "tfr_nosleep = tfr_nosleep.groupby('frequency').mean('log_power').reset_index()\n",
    "\n",
    "# Add sleep stage column\n",
    "tfr_sleep['stage'] = 'NREM'\n",
    "tfr_nosleep['stage'] = 'W/REM'\n",
    "\n",
    "# Merge sleep/nosleep tfr's\n",
    "tfr = pd.concat([tfr_sleep, tfr_nosleep])"
   ]
  },
  {
   "cell_type": "code",
   "execution_count": 11,
   "metadata": {},
   "outputs": [
    {
     "name": "stderr",
     "output_type": "stream",
     "text": [
      "c:\\Users\\lal85\\AppData\\Local\\miniconda3\\envs\\boss\\Lib\\site-packages\\plotnine\\ggplot.py:587: PlotnineWarning: Saving 5 x 3 in image.\n",
      "c:\\Users\\lal85\\AppData\\Local\\miniconda3\\envs\\boss\\Lib\\site-packages\\plotnine\\ggplot.py:588: PlotnineWarning: Filename: Results/S01_sleep_stage_psd.svg\n",
      "c:\\Users\\lal85\\AppData\\Local\\miniconda3\\envs\\boss\\Lib\\site-packages\\plotnine\\geoms\\geom_path.py:98: PlotnineWarning: geom_path: Removed 40 rows containing missing values.\n"
     ]
    }
   ],
   "source": [
    "# Define the data frame for the rectangles\n",
    "rect_df = pd.DataFrame({\n",
    "    'xmin': [1, 9],\n",
    "    'xmax': [4, 15],\n",
    "    'ymin': [-float('inf'), -float('inf')],\n",
    "    'ymax': [float('inf'), float('inf')],\n",
    "    'fill': ['#D3D3D3', '#D3D3D3']  # Light gray color\n",
    "})\n",
    "\n",
    "# Static plot with Plotnine\n",
    "p = (ggplot(tfr)\n",
    " + aes(x='frequency', y='log_power', color='stage')\n",
    " + geom_rect(data=rect_df, mapping=aes(xmin='xmin', xmax='xmax', ymin='ymin', ymax='ymax', fill='fill'), inherit_aes=False, alpha=0.5)\n",
    " + scale_fill_identity()  # Use actual color values in 'fill' column\n",
    " + geom_line()\n",
    " + scale_x_continuous(expand=(0, 0), limits=(1, 45))\n",
    " + labs(x='Frequency (Hz)', y='Log Power (dB)')\n",
    " + theme_classic()\n",
    " + theme(figure_size=(5, 3), panel_border=element_rect(color='black', size=1))\n",
    ")\n",
    "\n",
    "# Save the plot\n",
    "p.save(filename=psd_out_path, dpi=300)"
   ]
  }
 ],
 "metadata": {
  "kernelspec": {
   "display_name": "sandbox",
   "language": "python",
   "name": "python3"
  },
  "language_info": {
   "codemirror_mode": {
    "name": "ipython",
    "version": 3
   },
   "file_extension": ".py",
   "mimetype": "text/x-python",
   "name": "python",
   "nbconvert_exporter": "python",
   "pygments_lexer": "ipython3",
   "version": "3.11.4"
  },
  "orig_nbformat": 4
 },
 "nbformat": 4,
 "nbformat_minor": 2
}
