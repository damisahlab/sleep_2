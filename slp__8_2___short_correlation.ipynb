{
 "cells": [
  {
   "attachments": {},
   "cell_type": "markdown",
   "metadata": {},
   "source": [
    "### Configuration"
   ]
  },
  {
   "cell_type": "code",
   "execution_count": 6,
   "metadata": {},
   "outputs": [],
   "source": [
    "import os\n",
    "import re\n",
    "import numpy as np\n",
    "import pandas as pd\n",
    "import datetime\n",
    "\n",
    "import pandas as pd\n",
    "from scipy.stats import spearmanr\n",
    "#from dcor import distance_correlation\n",
    "from pingouin import distance_corr\n",
    "from statsmodels.stats.multitest import fdrcorrection\n",
    "\n",
    "from utils__helpers_corr import correlations\n",
    "import utils__config"
   ]
  },
  {
   "cell_type": "code",
   "execution_count": 7,
   "metadata": {},
   "outputs": [
    {
     "data": {
      "text/plain": [
       "'g:\\\\My Drive\\\\Residency\\\\Research\\\\Lab - Damisah\\\\Project - Sleep'"
      ]
     },
     "execution_count": 7,
     "metadata": {},
     "output_type": "execute_result"
    }
   ],
   "source": [
    "os.chdir(utils__config.working_directory)\n",
    "os.getcwd()"
   ]
  },
  {
   "attachments": {},
   "cell_type": "markdown",
   "metadata": {},
   "source": [
    "### Parameters"
   ]
  },
  {
   "attachments": {},
   "cell_type": "markdown",
   "metadata": {},
   "source": [
    "You will need to run this script once for **1s epochs** and once for **10s epochs.**"
   ]
  },
  {
   "cell_type": "code",
   "execution_count": 8,
   "metadata": {},
   "outputs": [],
   "source": [
    "sw_epoch_path = 'Cache/Subject01/S01_sw_epochs_10s.csv'\n",
    "spike_epoch_path = 'Cache/Subject01/S01_spike_epochs_10s.csv'\n",
    "legui_path = 'Cache/Subject01/S01_electrodes.csv'\n",
    "swa_out_path = 'Cache/Subject01/S01_swa_correlation_10s.csv'\n",
    "sw_out_path = 'Cache/Subject01/S01_sw_correlation_10s.csv'"
   ]
  },
  {
   "cell_type": "code",
   "execution_count": 9,
   "metadata": {},
   "outputs": [],
   "source": [
    "# sw_epoch_path = 'Cache/Subject01/S01_sw_epochs_10s.csv'\n",
    "# spike_epoch_path = 'Cache/Subject01/S01_spike_epochs_10s.csv'\n",
    "# legui_path = 'Cache/Subject01/S01_electrodes.csv'\n",
    "# swa_out_path = 'Cache/Subject01/S01_swa_correlation_10s.csv'\n",
    "# sw_out_path = 'Cache/Subject01/S01_sw_correlation_10s.csv'"
   ]
  },
  {
   "attachments": {},
   "cell_type": "markdown",
   "metadata": {},
   "source": [
    "### Load Data"
   ]
  },
  {
   "cell_type": "code",
   "execution_count": 12,
   "metadata": {},
   "outputs": [],
   "source": [
    "# Load data\n",
    "sw = pd.read_csv(sw_epoch_path)\n",
    "spikes = pd.read_csv(spike_epoch_path)\n",
    "legui = pd.read_csv(legui_path)\n",
    "\n",
    "# Merge with LeGUI to get channel laterality\n",
    "legui = legui[['elec_label', 'hemisphere', 'roi_3', 'roi_4', 'lobe_1']]\n",
    "legui.columns = ['channel', 'laterality', 'roi_3', 'roi_4', 'lobe_1']\n",
    "sw = sw.merge(legui, on = 'channel', how = 'inner')"
   ]
  },
  {
   "attachments": {},
   "cell_type": "markdown",
   "metadata": {},
   "source": [
    "### Correlation with SWA by epoch"
   ]
  },
  {
   "cell_type": "code",
   "execution_count": 17,
   "metadata": {},
   "outputs": [],
   "source": [
    "corr = correlations(sw, spikes, sw_metric = 'zlog_power', roi_name = 'roi_3')\n",
    "corr = corr.merge(legui[['channel', 'roi_3', 'roi_4', 'lobe_1']], on = 'channel', how = 'inner')\n",
    "corr.to_csv(swa_out_path, index = False)"
   ]
  },
  {
   "attachments": {},
   "cell_type": "markdown",
   "metadata": {},
   "source": [
    "### Correlation with %SW by epoch"
   ]
  },
  {
   "cell_type": "code",
   "execution_count": 19,
   "metadata": {},
   "outputs": [],
   "source": [
    "corr = correlations(sw, spikes, sw_metric = 'sw_ratio', roi_name = 'roi_3')\n",
    "corr = corr.merge(legui[['channel', 'roi_3', 'roi_4', 'lobe_1']], on = 'channel', how = 'inner')\n",
    "corr.to_csv(sw_out_path, index = False)"
   ]
  }
 ],
 "metadata": {
  "kernelspec": {
   "display_name": "sandbox",
   "language": "python",
   "name": "python3"
  },
  "language_info": {
   "codemirror_mode": {
    "name": "ipython",
    "version": 3
   },
   "file_extension": ".py",
   "mimetype": "text/x-python",
   "name": "python",
   "nbconvert_exporter": "python",
   "pygments_lexer": "ipython3",
   "version": "3.9.13"
  },
  "orig_nbformat": 4,
  "vscode": {
   "interpreter": {
    "hash": "bceaa3bdda3825794b37c15d2000316b6f4a45a3d4f5e14660beed4f1d5f7638"
   }
  }
 },
 "nbformat": 4,
 "nbformat_minor": 2
}
