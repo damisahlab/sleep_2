{
 "cells": [
  {
   "cell_type": "markdown",
   "metadata": {},
   "source": [
    "### Configuration"
   ]
  },
  {
   "cell_type": "code",
   "execution_count": 1,
   "metadata": {},
   "outputs": [],
   "source": [
    "import os\n",
    "import numpy as np\n",
    "import pandas as pd\n",
    "import xarray as xr\n",
    "\n",
    "import mne\n",
    "from scipy.stats import zscore, circmean\n",
    "from joblib import Parallel, delayed\n",
    "\n",
    "from utils__helpers_macro import hilbert_powerphase\n",
    "import utils__config"
   ]
  },
  {
   "cell_type": "code",
   "execution_count": 2,
   "metadata": {},
   "outputs": [
    {
     "data": {
      "text/plain": [
       "'Z:\\\\Layton\\\\Sleep_083023'"
      ]
     },
     "execution_count": 2,
     "metadata": {},
     "output_type": "execute_result"
    }
   ],
   "source": [
    "os.chdir(utils__config.working_directory)\n",
    "os.getcwd()"
   ]
  },
  {
   "cell_type": "markdown",
   "metadata": {},
   "source": [
    "### Parameters"
   ]
  },
  {
   "cell_type": "code",
   "execution_count": 1,
   "metadata": {},
   "outputs": [],
   "source": [
    "macro_fif_path = 'Cache/Subject05/Jul11//S05_Jul11_256hz.fif'\n",
    "micro_fif_path = 'Cache/Subject05/Jul11/S05_Jul11_micro_1024hz.fif'\n",
    "bad_channel_path = 'Cache/Subject05/Jul11/S05_bad_channels.csv'\n",
    "sw_path = 'Cache/Subject05/Jul11/S05_SW.csv'\n",
    "legui_path = 'Cache/Subject05/S05_electrodes.csv'"
   ]
  },
  {
   "cell_type": "code",
   "execution_count": null,
   "metadata": {},
   "outputs": [],
   "source": [
    "n_jobs = -2"
   ]
  },
  {
   "cell_type": "markdown",
   "metadata": {},
   "source": [
    "### Sub-Delta Phase"
   ]
  },
  {
   "cell_type": "code",
   "execution_count": 4,
   "metadata": {},
   "outputs": [
    {
     "name": "stderr",
     "output_type": "stream",
     "text": [
      "C:\\Users\\lal85\\AppData\\Local\\Temp\\2\\ipykernel_11528\\1640275602.py:2: RuntimeWarning: This filename (Cache/Subject05/Jul11//S05_Jul11_256hz.fif) does not conform to MNE naming conventions. All raw files should end with raw.fif, raw_sss.fif, raw_tsss.fif, _meg.fif, _eeg.fif, _ieeg.fif, raw.fif.gz, raw_sss.fif.gz, raw_tsss.fif.gz, _meg.fif.gz, _eeg.fif.gz or _ieeg.fif.gz\n",
      "  delta = mne.io.read_raw_fif(macro_fif_path, preload = True, verbose = False)\n"
     ]
    },
    {
     "name": "stdout",
     "output_type": "stream",
     "text": [
      "NOTE: pick_types() is a legacy function. New code should use inst.pick(...).\n",
      "Filtering raw data in 1 contiguous segment\n",
      "Setting up band-pass filter from 0.3 - 1.5 Hz\n",
      "\n",
      "FIR filter parameters\n",
      "---------------------\n",
      "Designing a one-pass, zero-phase, non-causal bandpass filter:\n",
      "- Windowed time-domain design (firwin) method\n",
      "- Hamming window with 0.0194 passband ripple and 53 dB stopband attenuation\n",
      "- Lower passband edge: 0.30\n",
      "- Lower transition bandwidth: 0.30 Hz (-6 dB cutoff frequency: 0.15 Hz)\n",
      "- Upper passband edge: 1.50 Hz\n",
      "- Upper transition bandwidth: 2.00 Hz (-6 dB cutoff frequency: 2.50 Hz)\n",
      "- Filter length: 2817 samples (11.004 s)\n",
      "\n"
     ]
    },
    {
     "name": "stderr",
     "output_type": "stream",
     "text": [
      "[Parallel(n_jobs=-2)]: Using backend LokyBackend with 31 concurrent workers.\n",
      "[Parallel(n_jobs=-2)]: Done  34 out of  53 | elapsed:    8.0s remaining:    4.4s\n",
      "[Parallel(n_jobs=-2)]: Done  45 out of  53 | elapsed:    8.5s remaining:    1.4s\n",
      "[Parallel(n_jobs=-2)]: Done  53 out of  53 | elapsed:    8.8s finished\n"
     ]
    },
    {
     "name": "stdout",
     "output_type": "stream",
     "text": [
      "Converting \"channel\" to \"category\"...\n",
      "Converting \"ch_type\" to \"category\"...\n"
     ]
    }
   ],
   "source": [
    "# Load macro EEG data\n",
    "delta = mne.io.read_raw_fif(macro_fif_path, preload = True, verbose = False)\n",
    "\n",
    "# Select only macroelectrodes\n",
    "delta.pick_types(seeg = True, ecog = True)\n",
    "\n",
    "# Remove rejected channels\n",
    "bad_channels = pd.read_csv(bad_channel_path)\n",
    "bad_channels = bad_channels[bad_channels['channel'].isin(delta.ch_names)]\n",
    "delta.drop_channels(ch_names = bad_channels['channel'].astype('string'))\n",
    "\n",
    "# Extract Power and Phase\n",
    "delta = hilbert_powerphase(data = delta, lower = 0.3, upper = 1.5, njobs = n_jobs)\n",
    "delta = delta[['time', 'channel', 'power', 'phase']]"
   ]
  },
  {
   "cell_type": "markdown",
   "metadata": {},
   "source": [
    "### High-Frequency Activity"
   ]
  },
  {
   "cell_type": "code",
   "execution_count": 5,
   "metadata": {},
   "outputs": [],
   "source": [
    "# def process_channel(ch_name, raw_path):\n",
    "#     # Load the raw file without preloading the data\n",
    "#     raw = mne.io.read_raw_fif(raw_path, preload=False, verbose=False)\n",
    "    \n",
    "#     # Only pick the channels that we are interested in\n",
    "#     raw.pick_channels([ch_name])\n",
    "    \n",
    "#     # Now, load the data for the specific channel\n",
    "#     raw.load_data()\n",
    "    \n",
    "#     # Bandpass filter the channel data with n_jobs=1 since parallelization is handled by joblib\n",
    "#     raw.filter(l_freq=70, h_freq=200, n_jobs=1)\n",
    "    \n",
    "#     # Extract data and times\n",
    "#     data, times = raw[:][0], raw.times\n",
    "    \n",
    "#     # Create time bins\n",
    "#     time_bins = ((times * 1000).astype(int) // 10 * 10).astype(float) / 1000.0\n",
    "    \n",
    "#     # Create a DataFrame and bin the data\n",
    "#     df = pd.DataFrame({'time': times, 'hfa': data.flatten()})\n",
    "#     df['time_bin'] = time_bins\n",
    "#     df_grouped = df.groupby('time_bin')['hfa'].mean().reset_index()\n",
    "    \n",
    "#     # Z-score the binned data\n",
    "#     df_grouped['hfa'] = (df_grouped['hfa'] - df_grouped['hfa'].mean()) / df_grouped['hfa'].std()\n",
    "    \n",
    "#     # Add the channel name to the DataFrame\n",
    "#     df_grouped['micro_channel'] = ch_name\n",
    "    \n",
    "#     return df_grouped"
   ]
  },
  {
   "cell_type": "code",
   "execution_count": 13,
   "metadata": {},
   "outputs": [],
   "source": [
    "def process_channel(ch_name, raw_path):\n",
    "    # Load the raw file without preloading the data\n",
    "    raw = mne.io.read_raw_fif(raw_path, preload=False, verbose=False)\n",
    "    \n",
    "    # Only pick the channels that we are interested in\n",
    "    raw.pick_channels([ch_name])\n",
    "    \n",
    "    # Now, load the data for the specific channel\n",
    "    raw.load_data()\n",
    "\n",
    "    # Extract data into a numpy array and reshape for tfr_array_morlet\n",
    "    data, times = raw[:, :]\n",
    "    data = data[np.newaxis, :, :]  # Reshape data to (n_epochs, n_channels, n_times)\n",
    "\n",
    "    # Define frequencies for the Morlet wavelet transform\n",
    "    frequencies = [70, 200]\n",
    "    n_cycles = [freq / 2 for freq in frequencies]  # Adjust n_cycles for each frequency\n",
    "\n",
    "    # Compute power using Morlet wavelet transform with tfr_array_morlet\n",
    "    power = mne.time_frequency.tfr_array_morlet(data, sfreq=raw.info['sfreq'], freqs=frequencies, \n",
    "                                                n_cycles=n_cycles, output='power', \n",
    "                                                decim=1)\n",
    "\n",
    "    # Extract power data and average across frequencies\n",
    "    power_data = power.mean(axis=2).flatten()  # Averaging across frequencies\n",
    "    power_data = power_data.reshape(-1)  # Flatten the array\n",
    "\n",
    "    # Create time bins\n",
    "    time_bins = ((times * 1000).astype(int) // 10 * 10).astype(float) / 1000.0\n",
    "\n",
    "    # Create a DataFrame and bin the data\n",
    "    df = pd.DataFrame({'time': times, 'hfa_power': power_data})\n",
    "    df['time_bin'] = time_bins\n",
    "    df_grouped = df.groupby('time_bin')['hfa_power'].mean().reset_index()\n",
    "    \n",
    "    # Z-score the binned data using scipy.stats.zscore\n",
    "    df_grouped['hfa_power'] = zscore(df_grouped['hfa_power'])\n",
    "\n",
    "    # Add the channel name to the DataFrame\n",
    "    df_grouped['micro_channel'] = ch_name\n",
    "    \n",
    "    return df_grouped"
   ]
  },
  {
   "cell_type": "code",
   "execution_count": 14,
   "metadata": {},
   "outputs": [
    {
     "name": "stderr",
     "output_type": "stream",
     "text": [
      "C:\\Users\\lal85\\AppData\\Local\\Temp\\2\\ipykernel_11528\\2811397473.py:2: RuntimeWarning: This filename (Cache/Subject05/Jul11/S05_Jul11_micro_1024hz.fif) does not conform to MNE naming conventions. All raw files should end with raw.fif, raw_sss.fif, raw_tsss.fif, _meg.fif, _eeg.fif, _ieeg.fif, raw.fif.gz, raw_sss.fif.gz, raw_tsss.fif.gz, _meg.fif.gz, _eeg.fif.gz or _ieeg.fif.gz\n",
      "  raw = mne.io.read_raw_fif(micro_fif_path, preload=False, verbose=False)\n"
     ]
    }
   ],
   "source": [
    "# List of channel names can be obtained from the raw file (assuming it is not too large to load just for this purpose)\n",
    "raw = mne.io.read_raw_fif(micro_fif_path, preload=False, verbose=False)\n",
    "channel_names = raw.ch_names\n",
    "\n",
    "# Process each channel in parallel using joblib\n",
    "processed_data = Parallel(n_jobs=n_jobs)(\n",
    "    delayed(process_channel)(ch_name, micro_fif_path) for ch_name in channel_names\n",
    ")\n",
    "\n",
    "# Concatenate the processed data for all channels into a single DataFrame\n",
    "hfa_long = pd.concat(processed_data, ignore_index=True)"
   ]
  },
  {
   "cell_type": "markdown",
   "metadata": {},
   "source": [
    "### Slow Waves"
   ]
  },
  {
   "cell_type": "code",
   "execution_count": 16,
   "metadata": {},
   "outputs": [],
   "source": [
    "# Load Slow Wave data\n",
    "sw_times = pd.read_csv(sw_path)\n",
    "\n",
    "# Merge with LeGUI to get channel laterality\n",
    "legui = pd.read_csv(legui_path)\n",
    "legui = legui[['elec_label', 'hemisphere', 'roi_1']]\n",
    "legui.columns = ['Channel', 'laterality', 'region']\n",
    "sw_times = sw_times.merge(legui, on = 'Channel', how = 'inner')\n",
    "\n",
    "# Select and rename SW columns\n",
    "sw_times = sw_times[['ID', 'Channel', 'laterality', 'region', 'Start', 'End',\n",
    "                     'NegPeak', 'MidCrossing', 'PosPeak', 'ValNegPeak', 'PTP']]\n",
    "sw_times.columns = ['sw_id', 'channel_id', 'sw_laterality', 'sw_region', 'start', 'end',\n",
    "                    'negative_peak', 'mid_crossing', 'positive_peak', 'npeak_amp', 'ptp_amp']"
   ]
  },
  {
   "cell_type": "markdown",
   "metadata": {},
   "source": [
    "### Merge Data"
   ]
  },
  {
   "cell_type": "code",
   "execution_count": 17,
   "metadata": {},
   "outputs": [],
   "source": [
    "# Convert the start and end times to an IntervalIndex\n",
    "#sw_times['interval'] = pd.IntervalIndex.from_arrays(sw_times['start'], sw_times['end'], closed='both')\n",
    "\n",
    "# Ensure that both DataFrames are sorted appropriately\n",
    "delta = delta.sort_values(by='time')\n",
    "sw_times = sw_times.sort_values(by='start')\n",
    "\n",
    "# Retype before merging\n",
    "delta['channel'] = delta['channel'].astype('str')\n",
    "\n",
    "# Rename before merging\n",
    "sw_times = sw_times.rename(columns={'channel_id': 'channel'})"
   ]
  },
  {
   "cell_type": "code",
   "execution_count": 18,
   "metadata": {},
   "outputs": [
    {
     "name": "stderr",
     "output_type": "stream",
     "text": [
      "[Parallel(n_jobs=-2)]: Using backend LokyBackend with 31 concurrent workers.\n",
      "[Parallel(n_jobs=-2)]: Done   1 tasks      | elapsed:  4.1min\n",
      "c:\\Users\\lal85\\AppData\\Local\\miniconda3\\envs\\boss\\Lib\\site-packages\\joblib\\externals\\loky\\process_executor.py:752: UserWarning: A worker stopped while some jobs were given to the executor. This can be caused by a too short worker timeout or by a memory leak.\n",
      "  warnings.warn(\n",
      "[Parallel(n_jobs=-2)]: Done   2 out of  17 | elapsed:  6.2min remaining: 46.8min\n",
      "[Parallel(n_jobs=-2)]: Done   4 out of  17 | elapsed: 10.3min remaining: 33.6min\n",
      "c:\\Users\\lal85\\AppData\\Local\\miniconda3\\envs\\boss\\Lib\\site-packages\\joblib\\externals\\loky\\process_executor.py:752: UserWarning: A worker stopped while some jobs were given to the executor. This can be caused by a too short worker timeout or by a memory leak.\n",
      "  warnings.warn(\n",
      "[Parallel(n_jobs=-2)]: Done   6 out of  17 | elapsed: 14.4min remaining: 26.4min\n",
      "c:\\Users\\lal85\\AppData\\Local\\miniconda3\\envs\\boss\\Lib\\site-packages\\joblib\\externals\\loky\\process_executor.py:752: UserWarning: A worker stopped while some jobs were given to the executor. This can be caused by a too short worker timeout or by a memory leak.\n",
      "  warnings.warn(\n",
      "[Parallel(n_jobs=-2)]: Done   8 out of  17 | elapsed: 18.5min remaining: 20.8min\n",
      "[Parallel(n_jobs=-2)]: Done  10 out of  17 | elapsed: 22.6min remaining: 15.8min\n",
      "c:\\Users\\lal85\\AppData\\Local\\miniconda3\\envs\\boss\\Lib\\site-packages\\joblib\\externals\\loky\\process_executor.py:752: UserWarning: A worker stopped while some jobs were given to the executor. This can be caused by a too short worker timeout or by a memory leak.\n",
      "  warnings.warn(\n",
      "[Parallel(n_jobs=-2)]: Done  12 out of  17 | elapsed: 26.7min remaining: 11.1min\n",
      "c:\\Users\\lal85\\AppData\\Local\\miniconda3\\envs\\boss\\Lib\\site-packages\\joblib\\externals\\loky\\process_executor.py:752: UserWarning: A worker stopped while some jobs were given to the executor. This can be caused by a too short worker timeout or by a memory leak.\n",
      "  warnings.warn(\n",
      "[Parallel(n_jobs=-2)]: Done  14 out of  17 | elapsed: 30.7min remaining:  6.6min\n",
      "[Parallel(n_jobs=-2)]: Done  17 out of  17 | elapsed: 36.3min finished\n"
     ]
    }
   ],
   "source": [
    "from joblib import Parallel, delayed\n",
    "\n",
    "def process_group(name, group_sw, delta):\n",
    "    group_filtered_dfs = []\n",
    "    \n",
    "    # Filter the delta dataframe for the current channel\n",
    "    group_delta = delta[delta['channel'] == name]\n",
    "\n",
    "    for _, row in group_sw.iterrows():\n",
    "        mask = group_delta['time'].between(row['start'], row['end'])\n",
    "        group_filtered_dfs.append(group_delta[mask])\n",
    "\n",
    "    return pd.concat(group_filtered_dfs, ignore_index=True)\n",
    "\n",
    "# Use the group name and dataframe as inputs to the function\n",
    "results = Parallel(n_jobs=n_jobs, verbose=10)(\n",
    "    delayed(process_group)(name, group, delta) for name, group in sw_times.groupby('channel')\n",
    ")\n",
    "\n",
    "# Concatenate all the filtered DataFrames into a single DataFrame\n",
    "result = pd.concat(results, ignore_index=True)"
   ]
  },
  {
   "cell_type": "code",
   "execution_count": 19,
   "metadata": {},
   "outputs": [],
   "source": [
    "# Convert time to milliseconds, perform integer division for binning, then convert back to seconds for bin starting points\n",
    "result['time_bin'] = ((result['time'] * 1000).astype(int) // 10 * 10) / 1000.0\n",
    "\n",
    "# Calculate the midpoint of each bin (adding 5 milliseconds, or 0.005 seconds, to the starting point)\n",
    "result['time_bin_mid'] = result['time_bin'] + 0.005\n",
    "\n",
    "# Group by Channel and Time Bin, and Aggregate using circmean\n",
    "result = result.groupby(['channel', 'time_bin_mid']).agg(circular_mean_phase=('phase', lambda x: circmean(x, high=np.pi, low=-np.pi) if len(x) > 0 else np.nan)).reset_index()\n",
    "\n",
    "result.columns = ['channel', 'time_bin', 'phase']"
   ]
  },
  {
   "cell_type": "markdown",
   "metadata": {},
   "source": [
    "### Final merge and save "
   ]
  },
  {
   "cell_type": "code",
   "execution_count": 20,
   "metadata": {},
   "outputs": [],
   "source": [
    "# Assuming hfa_long and result are your dataframes\n",
    "unique_micro_channels = hfa_long['micro_channel'].unique()\n",
    "merged_dfs = []\n",
    "\n",
    "for channel in unique_micro_channels:\n",
    "    # Filter hfa_long for the current micro_channel\n",
    "    temp_hfa = hfa_long[hfa_long['micro_channel'] == channel]\n",
    "    \n",
    "    # Merge on 'time_bin', ensuring both dataframes are sorted by 'time_bin'\n",
    "    merged_df = pd.merge_asof(result.sort_values('time_bin'),  \n",
    "                              temp_hfa.sort_values('time_bin'), \n",
    "                              on='time_bin')\n",
    "    \n",
    "    # Append the merged dataframe to the list\n",
    "    merged_dfs.append(merged_df)\n",
    "\n",
    "# Concatenate all the merged dataframes\n",
    "final_result = pd.concat(merged_dfs, ignore_index=True)"
   ]
  },
  {
   "cell_type": "code",
   "execution_count": 21,
   "metadata": {},
   "outputs": [],
   "source": [
    "# Define the number of bins and calculate the bin width\n",
    "num_bins = 50\n",
    "bin_width = 2 * np.pi / num_bins\n",
    "\n",
    "# Calculate the bin index for each phase\n",
    "final_result['phase_bin_index'] = np.floor((final_result['phase'] + np.pi) / bin_width).astype(int)\n",
    "\n",
    "# Calculate the midpoint of each bin\n",
    "final_result['phase_bin_midpoint'] = (final_result['phase_bin_index'] * bin_width) - np.pi + (bin_width / 2)\n",
    "\n",
    "# Drop the 'phase_bin' and 'phase_bin_index' columns\n",
    "final_result.drop(['phase_bin_index'], axis=1, inplace=True)\n",
    "\n",
    "# Rename 'phase_bin_midpoint' to 'phase_bin'\n",
    "final_result.rename(columns={'phase_bin_midpoint': 'phase_bin'}, inplace=True)"
   ]
  },
  {
   "cell_type": "code",
   "execution_count": 25,
   "metadata": {},
   "outputs": [
    {
     "data": {
      "text/html": [
       "<div>\n",
       "<style scoped>\n",
       "    .dataframe tbody tr th:only-of-type {\n",
       "        vertical-align: middle;\n",
       "    }\n",
       "\n",
       "    .dataframe tbody tr th {\n",
       "        vertical-align: top;\n",
       "    }\n",
       "\n",
       "    .dataframe thead th {\n",
       "        text-align: right;\n",
       "    }\n",
       "</style>\n",
       "<table border=\"1\" class=\"dataframe\">\n",
       "  <thead>\n",
       "    <tr style=\"text-align: right;\">\n",
       "      <th></th>\n",
       "      <th>channel</th>\n",
       "      <th>time_bin</th>\n",
       "      <th>phase</th>\n",
       "      <th>hfa_power</th>\n",
       "      <th>micro_channel</th>\n",
       "      <th>phase_bin</th>\n",
       "    </tr>\n",
       "  </thead>\n",
       "  <tbody>\n",
       "    <tr>\n",
       "      <th>0</th>\n",
       "      <td>RAM1</td>\n",
       "      <td>1021.925</td>\n",
       "      <td>1.540187</td>\n",
       "      <td>0.050916</td>\n",
       "      <td>Channel193</td>\n",
       "      <td>1.570796</td>\n",
       "    </tr>\n",
       "    <tr>\n",
       "      <th>1</th>\n",
       "      <td>RAM1</td>\n",
       "      <td>1021.935</td>\n",
       "      <td>1.595519</td>\n",
       "      <td>0.049849</td>\n",
       "      <td>Channel193</td>\n",
       "      <td>1.570796</td>\n",
       "    </tr>\n",
       "    <tr>\n",
       "      <th>2</th>\n",
       "      <td>RAM1</td>\n",
       "      <td>1021.945</td>\n",
       "      <td>1.664798</td>\n",
       "      <td>0.048767</td>\n",
       "      <td>Channel193</td>\n",
       "      <td>1.696460</td>\n",
       "    </tr>\n",
       "    <tr>\n",
       "      <th>3</th>\n",
       "      <td>RAM1</td>\n",
       "      <td>1021.955</td>\n",
       "      <td>1.734181</td>\n",
       "      <td>0.047324</td>\n",
       "      <td>Channel193</td>\n",
       "      <td>1.696460</td>\n",
       "    </tr>\n",
       "    <tr>\n",
       "      <th>4</th>\n",
       "      <td>RAM1</td>\n",
       "      <td>1021.965</td>\n",
       "      <td>1.803705</td>\n",
       "      <td>0.045321</td>\n",
       "      <td>Channel193</td>\n",
       "      <td>1.822124</td>\n",
       "    </tr>\n",
       "    <tr>\n",
       "      <th>...</th>\n",
       "      <td>...</td>\n",
       "      <td>...</td>\n",
       "      <td>...</td>\n",
       "      <td>...</td>\n",
       "      <td>...</td>\n",
       "      <td>...</td>\n",
       "    </tr>\n",
       "    <tr>\n",
       "      <th>200710779</th>\n",
       "      <td>RHC1</td>\n",
       "      <td>33929.375</td>\n",
       "      <td>1.334802</td>\n",
       "      <td>-0.085211</td>\n",
       "      <td>Channel256</td>\n",
       "      <td>1.319469</td>\n",
       "    </tr>\n",
       "    <tr>\n",
       "      <th>200710780</th>\n",
       "      <td>RHC1</td>\n",
       "      <td>33929.385</td>\n",
       "      <td>1.421065</td>\n",
       "      <td>-0.086271</td>\n",
       "      <td>Channel256</td>\n",
       "      <td>1.445133</td>\n",
       "    </tr>\n",
       "    <tr>\n",
       "      <th>200710781</th>\n",
       "      <td>RHC1</td>\n",
       "      <td>33929.395</td>\n",
       "      <td>1.507248</td>\n",
       "      <td>-0.087380</td>\n",
       "      <td>Channel256</td>\n",
       "      <td>1.445133</td>\n",
       "    </tr>\n",
       "    <tr>\n",
       "      <th>200710782</th>\n",
       "      <td>RHC1</td>\n",
       "      <td>33929.405</td>\n",
       "      <td>1.593272</td>\n",
       "      <td>-0.088547</td>\n",
       "      <td>Channel256</td>\n",
       "      <td>1.570796</td>\n",
       "    </tr>\n",
       "    <tr>\n",
       "      <th>200710783</th>\n",
       "      <td>RHC1</td>\n",
       "      <td>33929.415</td>\n",
       "      <td>1.661882</td>\n",
       "      <td>-0.089790</td>\n",
       "      <td>Channel256</td>\n",
       "      <td>1.696460</td>\n",
       "    </tr>\n",
       "  </tbody>\n",
       "</table>\n",
       "<p>200710784 rows × 6 columns</p>\n",
       "</div>"
      ],
      "text/plain": [
       "          channel   time_bin     phase  hfa_power micro_channel  phase_bin\n",
       "0            RAM1   1021.925  1.540187   0.050916    Channel193   1.570796\n",
       "1            RAM1   1021.935  1.595519   0.049849    Channel193   1.570796\n",
       "2            RAM1   1021.945  1.664798   0.048767    Channel193   1.696460\n",
       "3            RAM1   1021.955  1.734181   0.047324    Channel193   1.696460\n",
       "4            RAM1   1021.965  1.803705   0.045321    Channel193   1.822124\n",
       "...           ...        ...       ...        ...           ...        ...\n",
       "200710779    RHC1  33929.375  1.334802  -0.085211    Channel256   1.319469\n",
       "200710780    RHC1  33929.385  1.421065  -0.086271    Channel256   1.445133\n",
       "200710781    RHC1  33929.395  1.507248  -0.087380    Channel256   1.445133\n",
       "200710782    RHC1  33929.405  1.593272  -0.088547    Channel256   1.570796\n",
       "200710783    RHC1  33929.415  1.661882  -0.089790    Channel256   1.696460\n",
       "\n",
       "[200710784 rows x 6 columns]"
      ]
     },
     "execution_count": 25,
     "metadata": {},
     "output_type": "execute_result"
    }
   ],
   "source": [
    "final_result"
   ]
  },
  {
   "cell_type": "markdown",
   "metadata": {},
   "source": [
    "### Plotting"
   ]
  },
  {
   "cell_type": "code",
   "execution_count": null,
   "metadata": {},
   "outputs": [],
   "source": [
    "# Bin HFA values\n",
    "scale_factor = 1000  # Adjust as needed\n",
    "bin_size = 10  # Adjust as needed\n",
    "final_result['hfa_bin'] = ((final_result['hfa_power'] * scale_factor).astype(int) // bin_size * bin_size) / scale_factor\n",
    "\n",
    "# Group and count occurrences\n",
    "grouped = final_result.groupby(['channel', 'micro_channel', 'phase_bin', 'hfa_bin']).size().reset_index(name='count')"
   ]
  },
  {
   "cell_type": "code",
   "execution_count": 33,
   "metadata": {},
   "outputs": [],
   "source": [
    "grouped.to_csv('wat.csv', index = False)"
   ]
  },
  {
   "cell_type": "code",
   "execution_count": 31,
   "metadata": {},
   "outputs": [
    {
     "name": "stderr",
     "output_type": "stream",
     "text": [
      "c:\\Users\\lal85\\AppData\\Local\\miniconda3\\envs\\boss\\Lib\\site-packages\\seaborn\\_oldcore.py:1498: FutureWarning: is_categorical_dtype is deprecated and will be removed in a future version. Use isinstance(dtype, CategoricalDtype) instead\n",
      "  if pd.api.types.is_categorical_dtype(vector):\n",
      "c:\\Users\\lal85\\AppData\\Local\\miniconda3\\envs\\boss\\Lib\\site-packages\\seaborn\\_oldcore.py:1498: FutureWarning: is_categorical_dtype is deprecated and will be removed in a future version. Use isinstance(dtype, CategoricalDtype) instead\n",
      "  if pd.api.types.is_categorical_dtype(vector):\n"
     ]
    },
    {
     "ename": "KeyboardInterrupt",
     "evalue": "",
     "output_type": "error",
     "traceback": [
      "\u001b[1;31m---------------------------------------------------------------------------\u001b[0m",
      "\u001b[1;31mKeyboardInterrupt\u001b[0m                         Traceback (most recent call last)",
      "\u001b[1;32mz:\\Layton\\Sleep_083023\\Source\\DEV__D4_MicroLFP_4___HFA.ipynb Cell 23\u001b[0m line \u001b[0;36m2\n\u001b[0;32m     <a href='vscode-notebook-cell:/z%3A/Layton/Sleep_083023/Source/DEV__D4_MicroLFP_4___HFA.ipynb#X62sZmlsZQ%3D%3D?line=17'>18</a>\u001b[0m g \u001b[39m=\u001b[39m sns\u001b[39m.\u001b[39mFacetGrid(grouped, row\u001b[39m=\u001b[39m\u001b[39m'\u001b[39m\u001b[39mmicro_channel\u001b[39m\u001b[39m'\u001b[39m, col\u001b[39m=\u001b[39m\u001b[39m'\u001b[39m\u001b[39mchannel\u001b[39m\u001b[39m'\u001b[39m, margin_titles\u001b[39m=\u001b[39m\u001b[39mTrue\u001b[39;00m)\n\u001b[0;32m     <a href='vscode-notebook-cell:/z%3A/Layton/Sleep_083023/Source/DEV__D4_MicroLFP_4___HFA.ipynb#X62sZmlsZQ%3D%3D?line=19'>20</a>\u001b[0m \u001b[39m# Use map_dataframe to apply the custom heatmap plotting function\u001b[39;00m\n\u001b[1;32m---> <a href='vscode-notebook-cell:/z%3A/Layton/Sleep_083023/Source/DEV__D4_MicroLFP_4___HFA.ipynb#X62sZmlsZQ%3D%3D?line=20'>21</a>\u001b[0m g\u001b[39m.\u001b[39;49mmap_dataframe(heatmap, x\u001b[39m=\u001b[39;49m\u001b[39m'\u001b[39;49m\u001b[39mphase_bin\u001b[39;49m\u001b[39m'\u001b[39;49m, y\u001b[39m=\u001b[39;49m\u001b[39m'\u001b[39;49m\u001b[39mhfa_bin\u001b[39;49m\u001b[39m'\u001b[39;49m, color\u001b[39m=\u001b[39;49m\u001b[39m'\u001b[39;49m\u001b[39mcount\u001b[39;49m\u001b[39m'\u001b[39;49m)\n\u001b[0;32m     <a href='vscode-notebook-cell:/z%3A/Layton/Sleep_083023/Source/DEV__D4_MicroLFP_4___HFA.ipynb#X62sZmlsZQ%3D%3D?line=22'>23</a>\u001b[0m \u001b[39m# Additional plot formatting\u001b[39;00m\n\u001b[0;32m     <a href='vscode-notebook-cell:/z%3A/Layton/Sleep_083023/Source/DEV__D4_MicroLFP_4___HFA.ipynb#X62sZmlsZQ%3D%3D?line=23'>24</a>\u001b[0m g\u001b[39m.\u001b[39mset_axis_labels(\u001b[39m\"\u001b[39m\u001b[39mPhase Bin\u001b[39m\u001b[39m\"\u001b[39m, \u001b[39m\"\u001b[39m\u001b[39mHFA Bin Count\u001b[39m\u001b[39m\"\u001b[39m)\n",
      "File \u001b[1;32mc:\\Users\\lal85\\AppData\\Local\\miniconda3\\envs\\boss\\Lib\\site-packages\\seaborn\\axisgrid.py:819\u001b[0m, in \u001b[0;36mFacetGrid.map_dataframe\u001b[1;34m(self, func, *args, **kwargs)\u001b[0m\n\u001b[0;32m    816\u001b[0m     kwargs[\u001b[39m\"\u001b[39m\u001b[39mdata\u001b[39m\u001b[39m\"\u001b[39m] \u001b[39m=\u001b[39m data_ijk\n\u001b[0;32m    818\u001b[0m     \u001b[39m# Draw the plot\u001b[39;00m\n\u001b[1;32m--> 819\u001b[0m     \u001b[39mself\u001b[39;49m\u001b[39m.\u001b[39;49m_facet_plot(func, ax, args, kwargs)\n\u001b[0;32m    821\u001b[0m \u001b[39m# For axis labels, prefer to use positional args for backcompat\u001b[39;00m\n\u001b[0;32m    822\u001b[0m \u001b[39m# but also extract the x/y kwargs and use if no corresponding arg\u001b[39;00m\n\u001b[0;32m    823\u001b[0m axis_labels \u001b[39m=\u001b[39m [kwargs\u001b[39m.\u001b[39mget(\u001b[39m\"\u001b[39m\u001b[39mx\u001b[39m\u001b[39m\"\u001b[39m, \u001b[39mNone\u001b[39;00m), kwargs\u001b[39m.\u001b[39mget(\u001b[39m\"\u001b[39m\u001b[39my\u001b[39m\u001b[39m\"\u001b[39m, \u001b[39mNone\u001b[39;00m)]\n",
      "File \u001b[1;32mc:\\Users\\lal85\\AppData\\Local\\miniconda3\\envs\\boss\\Lib\\site-packages\\seaborn\\axisgrid.py:848\u001b[0m, in \u001b[0;36mFacetGrid._facet_plot\u001b[1;34m(self, func, ax, plot_args, plot_kwargs)\u001b[0m\n\u001b[0;32m    846\u001b[0m     plot_args \u001b[39m=\u001b[39m []\n\u001b[0;32m    847\u001b[0m     plot_kwargs[\u001b[39m\"\u001b[39m\u001b[39max\u001b[39m\u001b[39m\"\u001b[39m] \u001b[39m=\u001b[39m ax\n\u001b[1;32m--> 848\u001b[0m func(\u001b[39m*\u001b[39;49mplot_args, \u001b[39m*\u001b[39;49m\u001b[39m*\u001b[39;49mplot_kwargs)\n\u001b[0;32m    850\u001b[0m \u001b[39m# Sort out the supporting information\u001b[39;00m\n\u001b[0;32m    851\u001b[0m \u001b[39mself\u001b[39m\u001b[39m.\u001b[39m_update_legend_data(ax)\n",
      "\u001b[1;32mz:\\Layton\\Sleep_083023\\Source\\DEV__D4_MicroLFP_4___HFA.ipynb Cell 23\u001b[0m line \u001b[0;36m1\n\u001b[0;32m     <a href='vscode-notebook-cell:/z%3A/Layton/Sleep_083023/Source/DEV__D4_MicroLFP_4___HFA.ipynb#X62sZmlsZQ%3D%3D?line=12'>13</a>\u001b[0m \u001b[39mdef\u001b[39;00m \u001b[39mheatmap\u001b[39m(data, x, y, color, \u001b[39m*\u001b[39m\u001b[39m*\u001b[39mkwargs):\n\u001b[0;32m     <a href='vscode-notebook-cell:/z%3A/Layton/Sleep_083023/Source/DEV__D4_MicroLFP_4___HFA.ipynb#X62sZmlsZQ%3D%3D?line=13'>14</a>\u001b[0m     pivot_data \u001b[39m=\u001b[39m data\u001b[39m.\u001b[39mpivot_table(index\u001b[39m=\u001b[39my, columns\u001b[39m=\u001b[39mx, values\u001b[39m=\u001b[39mcolor)\n\u001b[1;32m---> <a href='vscode-notebook-cell:/z%3A/Layton/Sleep_083023/Source/DEV__D4_MicroLFP_4___HFA.ipynb#X62sZmlsZQ%3D%3D?line=14'>15</a>\u001b[0m     sns\u001b[39m.\u001b[39;49mheatmap(pivot_data, \u001b[39m*\u001b[39;49m\u001b[39m*\u001b[39;49mkwargs)\n",
      "File \u001b[1;32mc:\\Users\\lal85\\AppData\\Local\\miniconda3\\envs\\boss\\Lib\\site-packages\\seaborn\\matrix.py:459\u001b[0m, in \u001b[0;36mheatmap\u001b[1;34m(data, vmin, vmax, cmap, center, robust, annot, fmt, annot_kws, linewidths, linecolor, cbar, cbar_kws, cbar_ax, square, xticklabels, yticklabels, mask, ax, **kwargs)\u001b[0m\n\u001b[0;32m    457\u001b[0m \u001b[39mif\u001b[39;00m square:\n\u001b[0;32m    458\u001b[0m     ax\u001b[39m.\u001b[39mset_aspect(\u001b[39m\"\u001b[39m\u001b[39mequal\u001b[39m\u001b[39m\"\u001b[39m)\n\u001b[1;32m--> 459\u001b[0m plotter\u001b[39m.\u001b[39;49mplot(ax, cbar_ax, kwargs)\n\u001b[0;32m    460\u001b[0m \u001b[39mreturn\u001b[39;00m ax\n",
      "File \u001b[1;32mc:\\Users\\lal85\\AppData\\Local\\miniconda3\\envs\\boss\\Lib\\site-packages\\seaborn\\matrix.py:340\u001b[0m, in \u001b[0;36m_HeatMapper.plot\u001b[1;34m(self, ax, cax, kws)\u001b[0m\n\u001b[0;32m    337\u001b[0m plt\u001b[39m.\u001b[39msetp(ytl, va\u001b[39m=\u001b[39m\u001b[39m\"\u001b[39m\u001b[39mcenter\u001b[39m\u001b[39m\"\u001b[39m)  \u001b[39m# GH2484\u001b[39;00m\n\u001b[0;32m    339\u001b[0m \u001b[39m# Possibly rotate them if they overlap\u001b[39;00m\n\u001b[1;32m--> 340\u001b[0m _draw_figure(ax\u001b[39m.\u001b[39;49mfigure)\n\u001b[0;32m    342\u001b[0m \u001b[39mif\u001b[39;00m axis_ticklabels_overlap(xtl):\n\u001b[0;32m    343\u001b[0m     plt\u001b[39m.\u001b[39msetp(xtl, rotation\u001b[39m=\u001b[39m\u001b[39m\"\u001b[39m\u001b[39mvertical\u001b[39m\u001b[39m\"\u001b[39m)\n",
      "File \u001b[1;32mc:\\Users\\lal85\\AppData\\Local\\miniconda3\\envs\\boss\\Lib\\site-packages\\seaborn\\utils.py:80\u001b[0m, in \u001b[0;36m_draw_figure\u001b[1;34m(fig)\u001b[0m\n\u001b[0;32m     78\u001b[0m \u001b[39m\u001b[39m\u001b[39m\"\"\"Force draw of a matplotlib figure, accounting for back-compat.\"\"\"\u001b[39;00m\n\u001b[0;32m     79\u001b[0m \u001b[39m# See https://github.com/matplotlib/matplotlib/issues/19197 for context\u001b[39;00m\n\u001b[1;32m---> 80\u001b[0m fig\u001b[39m.\u001b[39;49mcanvas\u001b[39m.\u001b[39;49mdraw()\n\u001b[0;32m     81\u001b[0m \u001b[39mif\u001b[39;00m fig\u001b[39m.\u001b[39mstale:\n\u001b[0;32m     82\u001b[0m     \u001b[39mtry\u001b[39;00m:\n",
      "File \u001b[1;32mc:\\Users\\lal85\\AppData\\Local\\miniconda3\\envs\\boss\\Lib\\site-packages\\matplotlib\\backends\\backend_agg.py:400\u001b[0m, in \u001b[0;36mFigureCanvasAgg.draw\u001b[1;34m(self)\u001b[0m\n\u001b[0;32m    396\u001b[0m \u001b[39m# Acquire a lock on the shared font cache.\u001b[39;00m\n\u001b[0;32m    397\u001b[0m \u001b[39mwith\u001b[39;00m RendererAgg\u001b[39m.\u001b[39mlock, \\\n\u001b[0;32m    398\u001b[0m      (\u001b[39mself\u001b[39m\u001b[39m.\u001b[39mtoolbar\u001b[39m.\u001b[39m_wait_cursor_for_draw_cm() \u001b[39mif\u001b[39;00m \u001b[39mself\u001b[39m\u001b[39m.\u001b[39mtoolbar\n\u001b[0;32m    399\u001b[0m       \u001b[39melse\u001b[39;00m nullcontext()):\n\u001b[1;32m--> 400\u001b[0m     \u001b[39mself\u001b[39;49m\u001b[39m.\u001b[39;49mfigure\u001b[39m.\u001b[39;49mdraw(\u001b[39mself\u001b[39;49m\u001b[39m.\u001b[39;49mrenderer)\n\u001b[0;32m    401\u001b[0m     \u001b[39m# A GUI class may be need to update a window using this draw, so\u001b[39;00m\n\u001b[0;32m    402\u001b[0m     \u001b[39m# don't forget to call the superclass.\u001b[39;00m\n\u001b[0;32m    403\u001b[0m     \u001b[39msuper\u001b[39m()\u001b[39m.\u001b[39mdraw()\n",
      "File \u001b[1;32mc:\\Users\\lal85\\AppData\\Local\\miniconda3\\envs\\boss\\Lib\\site-packages\\matplotlib\\artist.py:95\u001b[0m, in \u001b[0;36m_finalize_rasterization.<locals>.draw_wrapper\u001b[1;34m(artist, renderer, *args, **kwargs)\u001b[0m\n\u001b[0;32m     93\u001b[0m \u001b[39m@wraps\u001b[39m(draw)\n\u001b[0;32m     94\u001b[0m \u001b[39mdef\u001b[39;00m \u001b[39mdraw_wrapper\u001b[39m(artist, renderer, \u001b[39m*\u001b[39margs, \u001b[39m*\u001b[39m\u001b[39m*\u001b[39mkwargs):\n\u001b[1;32m---> 95\u001b[0m     result \u001b[39m=\u001b[39m draw(artist, renderer, \u001b[39m*\u001b[39;49margs, \u001b[39m*\u001b[39;49m\u001b[39m*\u001b[39;49mkwargs)\n\u001b[0;32m     96\u001b[0m     \u001b[39mif\u001b[39;00m renderer\u001b[39m.\u001b[39m_rasterizing:\n\u001b[0;32m     97\u001b[0m         renderer\u001b[39m.\u001b[39mstop_rasterizing()\n",
      "File \u001b[1;32mc:\\Users\\lal85\\AppData\\Local\\miniconda3\\envs\\boss\\Lib\\site-packages\\matplotlib\\artist.py:72\u001b[0m, in \u001b[0;36mallow_rasterization.<locals>.draw_wrapper\u001b[1;34m(artist, renderer)\u001b[0m\n\u001b[0;32m     69\u001b[0m     \u001b[39mif\u001b[39;00m artist\u001b[39m.\u001b[39mget_agg_filter() \u001b[39mis\u001b[39;00m \u001b[39mnot\u001b[39;00m \u001b[39mNone\u001b[39;00m:\n\u001b[0;32m     70\u001b[0m         renderer\u001b[39m.\u001b[39mstart_filter()\n\u001b[1;32m---> 72\u001b[0m     \u001b[39mreturn\u001b[39;00m draw(artist, renderer)\n\u001b[0;32m     73\u001b[0m \u001b[39mfinally\u001b[39;00m:\n\u001b[0;32m     74\u001b[0m     \u001b[39mif\u001b[39;00m artist\u001b[39m.\u001b[39mget_agg_filter() \u001b[39mis\u001b[39;00m \u001b[39mnot\u001b[39;00m \u001b[39mNone\u001b[39;00m:\n",
      "File \u001b[1;32mc:\\Users\\lal85\\AppData\\Local\\miniconda3\\envs\\boss\\Lib\\site-packages\\matplotlib\\figure.py:3175\u001b[0m, in \u001b[0;36mFigure.draw\u001b[1;34m(self, renderer)\u001b[0m\n\u001b[0;32m   3172\u001b[0m         \u001b[39m# ValueError can occur when resizing a window.\u001b[39;00m\n\u001b[0;32m   3174\u001b[0m \u001b[39mself\u001b[39m\u001b[39m.\u001b[39mpatch\u001b[39m.\u001b[39mdraw(renderer)\n\u001b[1;32m-> 3175\u001b[0m mimage\u001b[39m.\u001b[39;49m_draw_list_compositing_images(\n\u001b[0;32m   3176\u001b[0m     renderer, \u001b[39mself\u001b[39;49m, artists, \u001b[39mself\u001b[39;49m\u001b[39m.\u001b[39;49msuppressComposite)\n\u001b[0;32m   3178\u001b[0m \u001b[39mfor\u001b[39;00m sfig \u001b[39min\u001b[39;00m \u001b[39mself\u001b[39m\u001b[39m.\u001b[39msubfigs:\n\u001b[0;32m   3179\u001b[0m     sfig\u001b[39m.\u001b[39mdraw(renderer)\n",
      "File \u001b[1;32mc:\\Users\\lal85\\AppData\\Local\\miniconda3\\envs\\boss\\Lib\\site-packages\\matplotlib\\image.py:131\u001b[0m, in \u001b[0;36m_draw_list_compositing_images\u001b[1;34m(renderer, parent, artists, suppress_composite)\u001b[0m\n\u001b[0;32m    129\u001b[0m \u001b[39mif\u001b[39;00m not_composite \u001b[39mor\u001b[39;00m \u001b[39mnot\u001b[39;00m has_images:\n\u001b[0;32m    130\u001b[0m     \u001b[39mfor\u001b[39;00m a \u001b[39min\u001b[39;00m artists:\n\u001b[1;32m--> 131\u001b[0m         a\u001b[39m.\u001b[39;49mdraw(renderer)\n\u001b[0;32m    132\u001b[0m \u001b[39melse\u001b[39;00m:\n\u001b[0;32m    133\u001b[0m     \u001b[39m# Composite any adjacent images together\u001b[39;00m\n\u001b[0;32m    134\u001b[0m     image_group \u001b[39m=\u001b[39m []\n",
      "File \u001b[1;32mc:\\Users\\lal85\\AppData\\Local\\miniconda3\\envs\\boss\\Lib\\site-packages\\matplotlib\\artist.py:72\u001b[0m, in \u001b[0;36mallow_rasterization.<locals>.draw_wrapper\u001b[1;34m(artist, renderer)\u001b[0m\n\u001b[0;32m     69\u001b[0m     \u001b[39mif\u001b[39;00m artist\u001b[39m.\u001b[39mget_agg_filter() \u001b[39mis\u001b[39;00m \u001b[39mnot\u001b[39;00m \u001b[39mNone\u001b[39;00m:\n\u001b[0;32m     70\u001b[0m         renderer\u001b[39m.\u001b[39mstart_filter()\n\u001b[1;32m---> 72\u001b[0m     \u001b[39mreturn\u001b[39;00m draw(artist, renderer)\n\u001b[0;32m     73\u001b[0m \u001b[39mfinally\u001b[39;00m:\n\u001b[0;32m     74\u001b[0m     \u001b[39mif\u001b[39;00m artist\u001b[39m.\u001b[39mget_agg_filter() \u001b[39mis\u001b[39;00m \u001b[39mnot\u001b[39;00m \u001b[39mNone\u001b[39;00m:\n",
      "File \u001b[1;32mc:\\Users\\lal85\\AppData\\Local\\miniconda3\\envs\\boss\\Lib\\site-packages\\matplotlib\\axes\\_base.py:3064\u001b[0m, in \u001b[0;36m_AxesBase.draw\u001b[1;34m(self, renderer)\u001b[0m\n\u001b[0;32m   3061\u001b[0m \u001b[39mif\u001b[39;00m artists_rasterized:\n\u001b[0;32m   3062\u001b[0m     _draw_rasterized(\u001b[39mself\u001b[39m\u001b[39m.\u001b[39mfigure, artists_rasterized, renderer)\n\u001b[1;32m-> 3064\u001b[0m mimage\u001b[39m.\u001b[39;49m_draw_list_compositing_images(\n\u001b[0;32m   3065\u001b[0m     renderer, \u001b[39mself\u001b[39;49m, artists, \u001b[39mself\u001b[39;49m\u001b[39m.\u001b[39;49mfigure\u001b[39m.\u001b[39;49msuppressComposite)\n\u001b[0;32m   3067\u001b[0m renderer\u001b[39m.\u001b[39mclose_group(\u001b[39m'\u001b[39m\u001b[39maxes\u001b[39m\u001b[39m'\u001b[39m)\n\u001b[0;32m   3068\u001b[0m \u001b[39mself\u001b[39m\u001b[39m.\u001b[39mstale \u001b[39m=\u001b[39m \u001b[39mFalse\u001b[39;00m\n",
      "File \u001b[1;32mc:\\Users\\lal85\\AppData\\Local\\miniconda3\\envs\\boss\\Lib\\site-packages\\matplotlib\\image.py:131\u001b[0m, in \u001b[0;36m_draw_list_compositing_images\u001b[1;34m(renderer, parent, artists, suppress_composite)\u001b[0m\n\u001b[0;32m    129\u001b[0m \u001b[39mif\u001b[39;00m not_composite \u001b[39mor\u001b[39;00m \u001b[39mnot\u001b[39;00m has_images:\n\u001b[0;32m    130\u001b[0m     \u001b[39mfor\u001b[39;00m a \u001b[39min\u001b[39;00m artists:\n\u001b[1;32m--> 131\u001b[0m         a\u001b[39m.\u001b[39;49mdraw(renderer)\n\u001b[0;32m    132\u001b[0m \u001b[39melse\u001b[39;00m:\n\u001b[0;32m    133\u001b[0m     \u001b[39m# Composite any adjacent images together\u001b[39;00m\n\u001b[0;32m    134\u001b[0m     image_group \u001b[39m=\u001b[39m []\n",
      "File \u001b[1;32mc:\\Users\\lal85\\AppData\\Local\\miniconda3\\envs\\boss\\Lib\\site-packages\\matplotlib\\artist.py:72\u001b[0m, in \u001b[0;36mallow_rasterization.<locals>.draw_wrapper\u001b[1;34m(artist, renderer)\u001b[0m\n\u001b[0;32m     69\u001b[0m     \u001b[39mif\u001b[39;00m artist\u001b[39m.\u001b[39mget_agg_filter() \u001b[39mis\u001b[39;00m \u001b[39mnot\u001b[39;00m \u001b[39mNone\u001b[39;00m:\n\u001b[0;32m     70\u001b[0m         renderer\u001b[39m.\u001b[39mstart_filter()\n\u001b[1;32m---> 72\u001b[0m     \u001b[39mreturn\u001b[39;00m draw(artist, renderer)\n\u001b[0;32m     73\u001b[0m \u001b[39mfinally\u001b[39;00m:\n\u001b[0;32m     74\u001b[0m     \u001b[39mif\u001b[39;00m artist\u001b[39m.\u001b[39mget_agg_filter() \u001b[39mis\u001b[39;00m \u001b[39mnot\u001b[39;00m \u001b[39mNone\u001b[39;00m:\n",
      "File \u001b[1;32mc:\\Users\\lal85\\AppData\\Local\\miniconda3\\envs\\boss\\Lib\\site-packages\\matplotlib\\axis.py:1380\u001b[0m, in \u001b[0;36mAxis.draw\u001b[1;34m(self, renderer, *args, **kwargs)\u001b[0m\n\u001b[0;32m   1377\u001b[0m tlb1, tlb2 \u001b[39m=\u001b[39m \u001b[39mself\u001b[39m\u001b[39m.\u001b[39m_get_ticklabel_bboxes(ticks_to_draw, renderer)\n\u001b[0;32m   1379\u001b[0m \u001b[39mfor\u001b[39;00m tick \u001b[39min\u001b[39;00m ticks_to_draw:\n\u001b[1;32m-> 1380\u001b[0m     tick\u001b[39m.\u001b[39;49mdraw(renderer)\n\u001b[0;32m   1382\u001b[0m \u001b[39m# Shift label away from axes to avoid overlapping ticklabels.\u001b[39;00m\n\u001b[0;32m   1383\u001b[0m \u001b[39mself\u001b[39m\u001b[39m.\u001b[39m_update_label_position(renderer)\n",
      "File \u001b[1;32mc:\\Users\\lal85\\AppData\\Local\\miniconda3\\envs\\boss\\Lib\\site-packages\\matplotlib\\artist.py:72\u001b[0m, in \u001b[0;36mallow_rasterization.<locals>.draw_wrapper\u001b[1;34m(artist, renderer)\u001b[0m\n\u001b[0;32m     69\u001b[0m     \u001b[39mif\u001b[39;00m artist\u001b[39m.\u001b[39mget_agg_filter() \u001b[39mis\u001b[39;00m \u001b[39mnot\u001b[39;00m \u001b[39mNone\u001b[39;00m:\n\u001b[0;32m     70\u001b[0m         renderer\u001b[39m.\u001b[39mstart_filter()\n\u001b[1;32m---> 72\u001b[0m     \u001b[39mreturn\u001b[39;00m draw(artist, renderer)\n\u001b[0;32m     73\u001b[0m \u001b[39mfinally\u001b[39;00m:\n\u001b[0;32m     74\u001b[0m     \u001b[39mif\u001b[39;00m artist\u001b[39m.\u001b[39mget_agg_filter() \u001b[39mis\u001b[39;00m \u001b[39mnot\u001b[39;00m \u001b[39mNone\u001b[39;00m:\n",
      "File \u001b[1;32mc:\\Users\\lal85\\AppData\\Local\\miniconda3\\envs\\boss\\Lib\\site-packages\\matplotlib\\axis.py:301\u001b[0m, in \u001b[0;36mTick.draw\u001b[1;34m(self, renderer)\u001b[0m\n\u001b[0;32m    298\u001b[0m renderer\u001b[39m.\u001b[39mopen_group(\u001b[39mself\u001b[39m\u001b[39m.\u001b[39m\u001b[39m__name__\u001b[39m, gid\u001b[39m=\u001b[39m\u001b[39mself\u001b[39m\u001b[39m.\u001b[39mget_gid())\n\u001b[0;32m    299\u001b[0m \u001b[39mfor\u001b[39;00m artist \u001b[39min\u001b[39;00m [\u001b[39mself\u001b[39m\u001b[39m.\u001b[39mgridline, \u001b[39mself\u001b[39m\u001b[39m.\u001b[39mtick1line, \u001b[39mself\u001b[39m\u001b[39m.\u001b[39mtick2line,\n\u001b[0;32m    300\u001b[0m                \u001b[39mself\u001b[39m\u001b[39m.\u001b[39mlabel1, \u001b[39mself\u001b[39m\u001b[39m.\u001b[39mlabel2]:\n\u001b[1;32m--> 301\u001b[0m     artist\u001b[39m.\u001b[39;49mdraw(renderer)\n\u001b[0;32m    302\u001b[0m renderer\u001b[39m.\u001b[39mclose_group(\u001b[39mself\u001b[39m\u001b[39m.\u001b[39m\u001b[39m__name__\u001b[39m)\n\u001b[0;32m    303\u001b[0m \u001b[39mself\u001b[39m\u001b[39m.\u001b[39mstale \u001b[39m=\u001b[39m \u001b[39mFalse\u001b[39;00m\n",
      "File \u001b[1;32mc:\\Users\\lal85\\AppData\\Local\\miniconda3\\envs\\boss\\Lib\\site-packages\\matplotlib\\artist.py:72\u001b[0m, in \u001b[0;36mallow_rasterization.<locals>.draw_wrapper\u001b[1;34m(artist, renderer)\u001b[0m\n\u001b[0;32m     69\u001b[0m     \u001b[39mif\u001b[39;00m artist\u001b[39m.\u001b[39mget_agg_filter() \u001b[39mis\u001b[39;00m \u001b[39mnot\u001b[39;00m \u001b[39mNone\u001b[39;00m:\n\u001b[0;32m     70\u001b[0m         renderer\u001b[39m.\u001b[39mstart_filter()\n\u001b[1;32m---> 72\u001b[0m     \u001b[39mreturn\u001b[39;00m draw(artist, renderer)\n\u001b[0;32m     73\u001b[0m \u001b[39mfinally\u001b[39;00m:\n\u001b[0;32m     74\u001b[0m     \u001b[39mif\u001b[39;00m artist\u001b[39m.\u001b[39mget_agg_filter() \u001b[39mis\u001b[39;00m \u001b[39mnot\u001b[39;00m \u001b[39mNone\u001b[39;00m:\n",
      "File \u001b[1;32mc:\\Users\\lal85\\AppData\\Local\\miniconda3\\envs\\boss\\Lib\\site-packages\\matplotlib\\text.py:800\u001b[0m, in \u001b[0;36mText.draw\u001b[1;34m(self, renderer)\u001b[0m\n\u001b[0;32m    796\u001b[0m             textrenderer\u001b[39m.\u001b[39mdraw_tex(gc, x, y, clean_line,\n\u001b[0;32m    797\u001b[0m                                   \u001b[39mself\u001b[39m\u001b[39m.\u001b[39m_fontproperties, angle,\n\u001b[0;32m    798\u001b[0m                                   mtext\u001b[39m=\u001b[39mmtext)\n\u001b[0;32m    799\u001b[0m         \u001b[39melse\u001b[39;00m:\n\u001b[1;32m--> 800\u001b[0m             textrenderer\u001b[39m.\u001b[39;49mdraw_text(gc, x, y, clean_line,\n\u001b[0;32m    801\u001b[0m                                    \u001b[39mself\u001b[39;49m\u001b[39m.\u001b[39;49m_fontproperties, angle,\n\u001b[0;32m    802\u001b[0m                                    ismath\u001b[39m=\u001b[39;49mismath, mtext\u001b[39m=\u001b[39;49mmtext)\n\u001b[0;32m    804\u001b[0m gc\u001b[39m.\u001b[39mrestore()\n\u001b[0;32m    805\u001b[0m renderer\u001b[39m.\u001b[39mclose_group(\u001b[39m'\u001b[39m\u001b[39mtext\u001b[39m\u001b[39m'\u001b[39m)\n",
      "File \u001b[1;32mc:\\Users\\lal85\\AppData\\Local\\miniconda3\\envs\\boss\\Lib\\site-packages\\matplotlib\\backends\\backend_agg.py:207\u001b[0m, in \u001b[0;36mRendererAgg.draw_text\u001b[1;34m(self, gc, x, y, s, prop, angle, ismath, mtext)\u001b[0m\n\u001b[0;32m    204\u001b[0m font \u001b[39m=\u001b[39m \u001b[39mself\u001b[39m\u001b[39m.\u001b[39m_prepare_font(prop)\n\u001b[0;32m    205\u001b[0m \u001b[39m# We pass '0' for angle here, since it will be rotated (in raster\u001b[39;00m\n\u001b[0;32m    206\u001b[0m \u001b[39m# space) in the following call to draw_text_image).\u001b[39;00m\n\u001b[1;32m--> 207\u001b[0m font\u001b[39m.\u001b[39;49mset_text(s, \u001b[39m0\u001b[39;49m, flags\u001b[39m=\u001b[39;49mget_hinting_flag())\n\u001b[0;32m    208\u001b[0m font\u001b[39m.\u001b[39mdraw_glyphs_to_bitmap(\n\u001b[0;32m    209\u001b[0m     antialiased\u001b[39m=\u001b[39mmpl\u001b[39m.\u001b[39mrcParams[\u001b[39m'\u001b[39m\u001b[39mtext.antialiased\u001b[39m\u001b[39m'\u001b[39m])\n\u001b[0;32m    210\u001b[0m d \u001b[39m=\u001b[39m font\u001b[39m.\u001b[39mget_descent() \u001b[39m/\u001b[39m \u001b[39m64.0\u001b[39m\n",
      "\u001b[1;31mKeyboardInterrupt\u001b[0m: "
     ]
    },
    {
     "name": "stdout",
     "output_type": "stream",
     "text": [
      "Error in callback <function flush_figures at 0x000001F87B6CC7C0> (for post_execute):\n"
     ]
    },
    {
     "ename": "KeyboardInterrupt",
     "evalue": "",
     "output_type": "error",
     "traceback": [
      "\u001b[1;31m---------------------------------------------------------------------------\u001b[0m",
      "\u001b[1;31mKeyboardInterrupt\u001b[0m                         Traceback (most recent call last)",
      "File \u001b[1;32mc:\\Users\\lal85\\AppData\\Local\\miniconda3\\envs\\boss\\Lib\\site-packages\\matplotlib_inline\\backend_inline.py:126\u001b[0m, in \u001b[0;36mflush_figures\u001b[1;34m()\u001b[0m\n\u001b[0;32m    123\u001b[0m \u001b[39mif\u001b[39;00m InlineBackend\u001b[39m.\u001b[39minstance()\u001b[39m.\u001b[39mclose_figures:\n\u001b[0;32m    124\u001b[0m     \u001b[39m# ignore the tracking, just draw and close all figures\u001b[39;00m\n\u001b[0;32m    125\u001b[0m     \u001b[39mtry\u001b[39;00m:\n\u001b[1;32m--> 126\u001b[0m         \u001b[39mreturn\u001b[39;00m show(\u001b[39mTrue\u001b[39;49;00m)\n\u001b[0;32m    127\u001b[0m     \u001b[39mexcept\u001b[39;00m \u001b[39mException\u001b[39;00m \u001b[39mas\u001b[39;00m e:\n\u001b[0;32m    128\u001b[0m         \u001b[39m# safely show traceback if in IPython, else raise\u001b[39;00m\n\u001b[0;32m    129\u001b[0m         ip \u001b[39m=\u001b[39m get_ipython()\n",
      "File \u001b[1;32mc:\\Users\\lal85\\AppData\\Local\\miniconda3\\envs\\boss\\Lib\\site-packages\\matplotlib_inline\\backend_inline.py:90\u001b[0m, in \u001b[0;36mshow\u001b[1;34m(close, block)\u001b[0m\n\u001b[0;32m     88\u001b[0m \u001b[39mtry\u001b[39;00m:\n\u001b[0;32m     89\u001b[0m     \u001b[39mfor\u001b[39;00m figure_manager \u001b[39min\u001b[39;00m Gcf\u001b[39m.\u001b[39mget_all_fig_managers():\n\u001b[1;32m---> 90\u001b[0m         display(\n\u001b[0;32m     91\u001b[0m             figure_manager\u001b[39m.\u001b[39;49mcanvas\u001b[39m.\u001b[39;49mfigure,\n\u001b[0;32m     92\u001b[0m             metadata\u001b[39m=\u001b[39;49m_fetch_figure_metadata(figure_manager\u001b[39m.\u001b[39;49mcanvas\u001b[39m.\u001b[39;49mfigure)\n\u001b[0;32m     93\u001b[0m         )\n\u001b[0;32m     94\u001b[0m \u001b[39mfinally\u001b[39;00m:\n\u001b[0;32m     95\u001b[0m     show\u001b[39m.\u001b[39m_to_draw \u001b[39m=\u001b[39m []\n",
      "File \u001b[1;32mc:\\Users\\lal85\\AppData\\Local\\miniconda3\\envs\\boss\\Lib\\site-packages\\IPython\\core\\display_functions.py:298\u001b[0m, in \u001b[0;36mdisplay\u001b[1;34m(include, exclude, metadata, transient, display_id, raw, clear, *objs, **kwargs)\u001b[0m\n\u001b[0;32m    296\u001b[0m     publish_display_data(data\u001b[39m=\u001b[39mobj, metadata\u001b[39m=\u001b[39mmetadata, \u001b[39m*\u001b[39m\u001b[39m*\u001b[39mkwargs)\n\u001b[0;32m    297\u001b[0m \u001b[39melse\u001b[39;00m:\n\u001b[1;32m--> 298\u001b[0m     format_dict, md_dict \u001b[39m=\u001b[39m \u001b[39mformat\u001b[39;49m(obj, include\u001b[39m=\u001b[39;49minclude, exclude\u001b[39m=\u001b[39;49mexclude)\n\u001b[0;32m    299\u001b[0m     \u001b[39mif\u001b[39;00m \u001b[39mnot\u001b[39;00m format_dict:\n\u001b[0;32m    300\u001b[0m         \u001b[39m# nothing to display (e.g. _ipython_display_ took over)\u001b[39;00m\n\u001b[0;32m    301\u001b[0m         \u001b[39mcontinue\u001b[39;00m\n",
      "File \u001b[1;32mc:\\Users\\lal85\\AppData\\Local\\miniconda3\\envs\\boss\\Lib\\site-packages\\IPython\\core\\formatters.py:179\u001b[0m, in \u001b[0;36mDisplayFormatter.format\u001b[1;34m(self, obj, include, exclude)\u001b[0m\n\u001b[0;32m    177\u001b[0m md \u001b[39m=\u001b[39m \u001b[39mNone\u001b[39;00m\n\u001b[0;32m    178\u001b[0m \u001b[39mtry\u001b[39;00m:\n\u001b[1;32m--> 179\u001b[0m     data \u001b[39m=\u001b[39m formatter(obj)\n\u001b[0;32m    180\u001b[0m \u001b[39mexcept\u001b[39;00m:\n\u001b[0;32m    181\u001b[0m     \u001b[39m# FIXME: log the exception\u001b[39;00m\n\u001b[0;32m    182\u001b[0m     \u001b[39mraise\u001b[39;00m\n",
      "File \u001b[1;32mc:\\Users\\lal85\\AppData\\Local\\miniconda3\\envs\\boss\\Lib\\site-packages\\decorator.py:232\u001b[0m, in \u001b[0;36mdecorate.<locals>.fun\u001b[1;34m(*args, **kw)\u001b[0m\n\u001b[0;32m    230\u001b[0m \u001b[39mif\u001b[39;00m \u001b[39mnot\u001b[39;00m kwsyntax:\n\u001b[0;32m    231\u001b[0m     args, kw \u001b[39m=\u001b[39m fix(args, kw, sig)\n\u001b[1;32m--> 232\u001b[0m \u001b[39mreturn\u001b[39;00m caller(func, \u001b[39m*\u001b[39;49m(extras \u001b[39m+\u001b[39;49m args), \u001b[39m*\u001b[39;49m\u001b[39m*\u001b[39;49mkw)\n",
      "File \u001b[1;32mc:\\Users\\lal85\\AppData\\Local\\miniconda3\\envs\\boss\\Lib\\site-packages\\IPython\\core\\formatters.py:223\u001b[0m, in \u001b[0;36mcatch_format_error\u001b[1;34m(method, self, *args, **kwargs)\u001b[0m\n\u001b[0;32m    221\u001b[0m \u001b[39m\u001b[39m\u001b[39m\"\"\"show traceback on failed format call\"\"\"\u001b[39;00m\n\u001b[0;32m    222\u001b[0m \u001b[39mtry\u001b[39;00m:\n\u001b[1;32m--> 223\u001b[0m     r \u001b[39m=\u001b[39m method(\u001b[39mself\u001b[39;49m, \u001b[39m*\u001b[39;49margs, \u001b[39m*\u001b[39;49m\u001b[39m*\u001b[39;49mkwargs)\n\u001b[0;32m    224\u001b[0m \u001b[39mexcept\u001b[39;00m \u001b[39mNotImplementedError\u001b[39;00m:\n\u001b[0;32m    225\u001b[0m     \u001b[39m# don't warn on NotImplementedErrors\u001b[39;00m\n\u001b[0;32m    226\u001b[0m     \u001b[39mreturn\u001b[39;00m \u001b[39mself\u001b[39m\u001b[39m.\u001b[39m_check_return(\u001b[39mNone\u001b[39;00m, args[\u001b[39m0\u001b[39m])\n",
      "File \u001b[1;32mc:\\Users\\lal85\\AppData\\Local\\miniconda3\\envs\\boss\\Lib\\site-packages\\IPython\\core\\formatters.py:340\u001b[0m, in \u001b[0;36mBaseFormatter.__call__\u001b[1;34m(self, obj)\u001b[0m\n\u001b[0;32m    338\u001b[0m     \u001b[39mpass\u001b[39;00m\n\u001b[0;32m    339\u001b[0m \u001b[39melse\u001b[39;00m:\n\u001b[1;32m--> 340\u001b[0m     \u001b[39mreturn\u001b[39;00m printer(obj)\n\u001b[0;32m    341\u001b[0m \u001b[39m# Finally look for special method names\u001b[39;00m\n\u001b[0;32m    342\u001b[0m method \u001b[39m=\u001b[39m get_real_method(obj, \u001b[39mself\u001b[39m\u001b[39m.\u001b[39mprint_method)\n",
      "File \u001b[1;32mc:\\Users\\lal85\\AppData\\Local\\miniconda3\\envs\\boss\\Lib\\site-packages\\IPython\\core\\pylabtools.py:152\u001b[0m, in \u001b[0;36mprint_figure\u001b[1;34m(fig, fmt, bbox_inches, base64, **kwargs)\u001b[0m\n\u001b[0;32m    149\u001b[0m     \u001b[39mfrom\u001b[39;00m \u001b[39mmatplotlib\u001b[39;00m\u001b[39m.\u001b[39;00m\u001b[39mbackend_bases\u001b[39;00m \u001b[39mimport\u001b[39;00m FigureCanvasBase\n\u001b[0;32m    150\u001b[0m     FigureCanvasBase(fig)\n\u001b[1;32m--> 152\u001b[0m fig\u001b[39m.\u001b[39;49mcanvas\u001b[39m.\u001b[39;49mprint_figure(bytes_io, \u001b[39m*\u001b[39;49m\u001b[39m*\u001b[39;49mkw)\n\u001b[0;32m    153\u001b[0m data \u001b[39m=\u001b[39m bytes_io\u001b[39m.\u001b[39mgetvalue()\n\u001b[0;32m    154\u001b[0m \u001b[39mif\u001b[39;00m fmt \u001b[39m==\u001b[39m \u001b[39m'\u001b[39m\u001b[39msvg\u001b[39m\u001b[39m'\u001b[39m:\n",
      "File \u001b[1;32mc:\\Users\\lal85\\AppData\\Local\\miniconda3\\envs\\boss\\Lib\\site-packages\\matplotlib\\backend_bases.py:2342\u001b[0m, in \u001b[0;36mFigureCanvasBase.print_figure\u001b[1;34m(self, filename, dpi, facecolor, edgecolor, orientation, format, bbox_inches, pad_inches, bbox_extra_artists, backend, **kwargs)\u001b[0m\n\u001b[0;32m   2336\u001b[0m     renderer \u001b[39m=\u001b[39m _get_renderer(\n\u001b[0;32m   2337\u001b[0m         \u001b[39mself\u001b[39m\u001b[39m.\u001b[39mfigure,\n\u001b[0;32m   2338\u001b[0m         functools\u001b[39m.\u001b[39mpartial(\n\u001b[0;32m   2339\u001b[0m             print_method, orientation\u001b[39m=\u001b[39morientation)\n\u001b[0;32m   2340\u001b[0m     )\n\u001b[0;32m   2341\u001b[0m     \u001b[39mwith\u001b[39;00m \u001b[39mgetattr\u001b[39m(renderer, \u001b[39m\"\u001b[39m\u001b[39m_draw_disabled\u001b[39m\u001b[39m\"\u001b[39m, nullcontext)():\n\u001b[1;32m-> 2342\u001b[0m         \u001b[39mself\u001b[39;49m\u001b[39m.\u001b[39;49mfigure\u001b[39m.\u001b[39;49mdraw(renderer)\n\u001b[0;32m   2344\u001b[0m \u001b[39mif\u001b[39;00m bbox_inches:\n\u001b[0;32m   2345\u001b[0m     \u001b[39mif\u001b[39;00m bbox_inches \u001b[39m==\u001b[39m \u001b[39m\"\u001b[39m\u001b[39mtight\u001b[39m\u001b[39m\"\u001b[39m:\n",
      "File \u001b[1;32mc:\\Users\\lal85\\AppData\\Local\\miniconda3\\envs\\boss\\Lib\\site-packages\\matplotlib\\artist.py:95\u001b[0m, in \u001b[0;36m_finalize_rasterization.<locals>.draw_wrapper\u001b[1;34m(artist, renderer, *args, **kwargs)\u001b[0m\n\u001b[0;32m     93\u001b[0m \u001b[39m@wraps\u001b[39m(draw)\n\u001b[0;32m     94\u001b[0m \u001b[39mdef\u001b[39;00m \u001b[39mdraw_wrapper\u001b[39m(artist, renderer, \u001b[39m*\u001b[39margs, \u001b[39m*\u001b[39m\u001b[39m*\u001b[39mkwargs):\n\u001b[1;32m---> 95\u001b[0m     result \u001b[39m=\u001b[39m draw(artist, renderer, \u001b[39m*\u001b[39;49margs, \u001b[39m*\u001b[39;49m\u001b[39m*\u001b[39;49mkwargs)\n\u001b[0;32m     96\u001b[0m     \u001b[39mif\u001b[39;00m renderer\u001b[39m.\u001b[39m_rasterizing:\n\u001b[0;32m     97\u001b[0m         renderer\u001b[39m.\u001b[39mstop_rasterizing()\n",
      "File \u001b[1;32mc:\\Users\\lal85\\AppData\\Local\\miniconda3\\envs\\boss\\Lib\\site-packages\\matplotlib\\artist.py:72\u001b[0m, in \u001b[0;36mallow_rasterization.<locals>.draw_wrapper\u001b[1;34m(artist, renderer)\u001b[0m\n\u001b[0;32m     69\u001b[0m     \u001b[39mif\u001b[39;00m artist\u001b[39m.\u001b[39mget_agg_filter() \u001b[39mis\u001b[39;00m \u001b[39mnot\u001b[39;00m \u001b[39mNone\u001b[39;00m:\n\u001b[0;32m     70\u001b[0m         renderer\u001b[39m.\u001b[39mstart_filter()\n\u001b[1;32m---> 72\u001b[0m     \u001b[39mreturn\u001b[39;00m draw(artist, renderer)\n\u001b[0;32m     73\u001b[0m \u001b[39mfinally\u001b[39;00m:\n\u001b[0;32m     74\u001b[0m     \u001b[39mif\u001b[39;00m artist\u001b[39m.\u001b[39mget_agg_filter() \u001b[39mis\u001b[39;00m \u001b[39mnot\u001b[39;00m \u001b[39mNone\u001b[39;00m:\n",
      "File \u001b[1;32mc:\\Users\\lal85\\AppData\\Local\\miniconda3\\envs\\boss\\Lib\\site-packages\\matplotlib\\figure.py:3175\u001b[0m, in \u001b[0;36mFigure.draw\u001b[1;34m(self, renderer)\u001b[0m\n\u001b[0;32m   3172\u001b[0m         \u001b[39m# ValueError can occur when resizing a window.\u001b[39;00m\n\u001b[0;32m   3174\u001b[0m \u001b[39mself\u001b[39m\u001b[39m.\u001b[39mpatch\u001b[39m.\u001b[39mdraw(renderer)\n\u001b[1;32m-> 3175\u001b[0m mimage\u001b[39m.\u001b[39;49m_draw_list_compositing_images(\n\u001b[0;32m   3176\u001b[0m     renderer, \u001b[39mself\u001b[39;49m, artists, \u001b[39mself\u001b[39;49m\u001b[39m.\u001b[39;49msuppressComposite)\n\u001b[0;32m   3178\u001b[0m \u001b[39mfor\u001b[39;00m sfig \u001b[39min\u001b[39;00m \u001b[39mself\u001b[39m\u001b[39m.\u001b[39msubfigs:\n\u001b[0;32m   3179\u001b[0m     sfig\u001b[39m.\u001b[39mdraw(renderer)\n",
      "File \u001b[1;32mc:\\Users\\lal85\\AppData\\Local\\miniconda3\\envs\\boss\\Lib\\site-packages\\matplotlib\\image.py:131\u001b[0m, in \u001b[0;36m_draw_list_compositing_images\u001b[1;34m(renderer, parent, artists, suppress_composite)\u001b[0m\n\u001b[0;32m    129\u001b[0m \u001b[39mif\u001b[39;00m not_composite \u001b[39mor\u001b[39;00m \u001b[39mnot\u001b[39;00m has_images:\n\u001b[0;32m    130\u001b[0m     \u001b[39mfor\u001b[39;00m a \u001b[39min\u001b[39;00m artists:\n\u001b[1;32m--> 131\u001b[0m         a\u001b[39m.\u001b[39;49mdraw(renderer)\n\u001b[0;32m    132\u001b[0m \u001b[39melse\u001b[39;00m:\n\u001b[0;32m    133\u001b[0m     \u001b[39m# Composite any adjacent images together\u001b[39;00m\n\u001b[0;32m    134\u001b[0m     image_group \u001b[39m=\u001b[39m []\n",
      "File \u001b[1;32mc:\\Users\\lal85\\AppData\\Local\\miniconda3\\envs\\boss\\Lib\\site-packages\\matplotlib\\artist.py:72\u001b[0m, in \u001b[0;36mallow_rasterization.<locals>.draw_wrapper\u001b[1;34m(artist, renderer)\u001b[0m\n\u001b[0;32m     69\u001b[0m     \u001b[39mif\u001b[39;00m artist\u001b[39m.\u001b[39mget_agg_filter() \u001b[39mis\u001b[39;00m \u001b[39mnot\u001b[39;00m \u001b[39mNone\u001b[39;00m:\n\u001b[0;32m     70\u001b[0m         renderer\u001b[39m.\u001b[39mstart_filter()\n\u001b[1;32m---> 72\u001b[0m     \u001b[39mreturn\u001b[39;00m draw(artist, renderer)\n\u001b[0;32m     73\u001b[0m \u001b[39mfinally\u001b[39;00m:\n\u001b[0;32m     74\u001b[0m     \u001b[39mif\u001b[39;00m artist\u001b[39m.\u001b[39mget_agg_filter() \u001b[39mis\u001b[39;00m \u001b[39mnot\u001b[39;00m \u001b[39mNone\u001b[39;00m:\n",
      "File \u001b[1;32mc:\\Users\\lal85\\AppData\\Local\\miniconda3\\envs\\boss\\Lib\\site-packages\\matplotlib\\axes\\_base.py:3028\u001b[0m, in \u001b[0;36m_AxesBase.draw\u001b[1;34m(self, renderer)\u001b[0m\n\u001b[0;32m   3025\u001b[0m     \u001b[39mfor\u001b[39;00m spine \u001b[39min\u001b[39;00m \u001b[39mself\u001b[39m\u001b[39m.\u001b[39mspines\u001b[39m.\u001b[39mvalues():\n\u001b[0;32m   3026\u001b[0m         artists\u001b[39m.\u001b[39mremove(spine)\n\u001b[1;32m-> 3028\u001b[0m \u001b[39mself\u001b[39;49m\u001b[39m.\u001b[39;49m_update_title_position(renderer)\n\u001b[0;32m   3030\u001b[0m \u001b[39mif\u001b[39;00m \u001b[39mnot\u001b[39;00m \u001b[39mself\u001b[39m\u001b[39m.\u001b[39maxison:\n\u001b[0;32m   3031\u001b[0m     \u001b[39mfor\u001b[39;00m _axis \u001b[39min\u001b[39;00m \u001b[39mself\u001b[39m\u001b[39m.\u001b[39m_axis_map\u001b[39m.\u001b[39mvalues():\n",
      "File \u001b[1;32mc:\\Users\\lal85\\AppData\\Local\\miniconda3\\envs\\boss\\Lib\\site-packages\\matplotlib\\axes\\_base.py:2963\u001b[0m, in \u001b[0;36m_AxesBase._update_title_position\u001b[1;34m(self, renderer)\u001b[0m\n\u001b[0;32m   2960\u001b[0m bb \u001b[39m=\u001b[39m \u001b[39mNone\u001b[39;00m\n\u001b[0;32m   2961\u001b[0m \u001b[39mif\u001b[39;00m (ax\u001b[39m.\u001b[39mxaxis\u001b[39m.\u001b[39mget_ticks_position() \u001b[39min\u001b[39;00m [\u001b[39m'\u001b[39m\u001b[39mtop\u001b[39m\u001b[39m'\u001b[39m, \u001b[39m'\u001b[39m\u001b[39munknown\u001b[39m\u001b[39m'\u001b[39m]\n\u001b[0;32m   2962\u001b[0m         \u001b[39mor\u001b[39;00m ax\u001b[39m.\u001b[39mxaxis\u001b[39m.\u001b[39mget_label_position() \u001b[39m==\u001b[39m \u001b[39m'\u001b[39m\u001b[39mtop\u001b[39m\u001b[39m'\u001b[39m):\n\u001b[1;32m-> 2963\u001b[0m     bb \u001b[39m=\u001b[39m ax\u001b[39m.\u001b[39;49mxaxis\u001b[39m.\u001b[39;49mget_tightbbox(renderer)\n\u001b[0;32m   2964\u001b[0m \u001b[39mif\u001b[39;00m bb \u001b[39mis\u001b[39;00m \u001b[39mNone\u001b[39;00m:\n\u001b[0;32m   2965\u001b[0m     \u001b[39mif\u001b[39;00m \u001b[39m'\u001b[39m\u001b[39moutline\u001b[39m\u001b[39m'\u001b[39m \u001b[39min\u001b[39;00m ax\u001b[39m.\u001b[39mspines:\n\u001b[0;32m   2966\u001b[0m         \u001b[39m# Special case for colorbars:\u001b[39;00m\n",
      "File \u001b[1;32mc:\\Users\\lal85\\AppData\\Local\\miniconda3\\envs\\boss\\Lib\\site-packages\\matplotlib\\axis.py:1325\u001b[0m, in \u001b[0;36mAxis.get_tightbbox\u001b[1;34m(self, renderer, for_layout_only)\u001b[0m\n\u001b[0;32m   1322\u001b[0m     renderer \u001b[39m=\u001b[39m \u001b[39mself\u001b[39m\u001b[39m.\u001b[39mfigure\u001b[39m.\u001b[39m_get_renderer()\n\u001b[0;32m   1323\u001b[0m ticks_to_draw \u001b[39m=\u001b[39m \u001b[39mself\u001b[39m\u001b[39m.\u001b[39m_update_ticks()\n\u001b[1;32m-> 1325\u001b[0m \u001b[39mself\u001b[39;49m\u001b[39m.\u001b[39;49m_update_label_position(renderer)\n\u001b[0;32m   1327\u001b[0m \u001b[39m# go back to just this axis's tick labels\u001b[39;00m\n\u001b[0;32m   1328\u001b[0m tlb1, tlb2 \u001b[39m=\u001b[39m \u001b[39mself\u001b[39m\u001b[39m.\u001b[39m_get_ticklabel_bboxes(ticks_to_draw, renderer)\n",
      "File \u001b[1;32mc:\\Users\\lal85\\AppData\\Local\\miniconda3\\envs\\boss\\Lib\\site-packages\\matplotlib\\axis.py:2310\u001b[0m, in \u001b[0;36mXAxis._update_label_position\u001b[1;34m(self, renderer)\u001b[0m\n\u001b[0;32m   2308\u001b[0m \u001b[39mtry\u001b[39;00m:\n\u001b[0;32m   2309\u001b[0m     spine \u001b[39m=\u001b[39m \u001b[39mself\u001b[39m\u001b[39m.\u001b[39maxes\u001b[39m.\u001b[39mspines[\u001b[39m'\u001b[39m\u001b[39mbottom\u001b[39m\u001b[39m'\u001b[39m]\n\u001b[1;32m-> 2310\u001b[0m     spinebbox \u001b[39m=\u001b[39m spine\u001b[39m.\u001b[39;49mget_window_extent()\n\u001b[0;32m   2311\u001b[0m \u001b[39mexcept\u001b[39;00m \u001b[39mKeyError\u001b[39;00m:\n\u001b[0;32m   2312\u001b[0m     \u001b[39m# use Axes if spine doesn't exist\u001b[39;00m\n\u001b[0;32m   2313\u001b[0m     spinebbox \u001b[39m=\u001b[39m \u001b[39mself\u001b[39m\u001b[39m.\u001b[39maxes\u001b[39m.\u001b[39mbbox\n",
      "File \u001b[1;32mc:\\Users\\lal85\\AppData\\Local\\miniconda3\\envs\\boss\\Lib\\site-packages\\matplotlib\\spines.py:154\u001b[0m, in \u001b[0;36mSpine.get_window_extent\u001b[1;34m(self, renderer)\u001b[0m\n\u001b[0;32m    152\u001b[0m \u001b[39m# make sure the location is updated so that transforms etc are correct:\u001b[39;00m\n\u001b[0;32m    153\u001b[0m \u001b[39mself\u001b[39m\u001b[39m.\u001b[39m_adjust_location()\n\u001b[1;32m--> 154\u001b[0m bb \u001b[39m=\u001b[39m \u001b[39msuper\u001b[39;49m()\u001b[39m.\u001b[39;49mget_window_extent(renderer\u001b[39m=\u001b[39;49mrenderer)\n\u001b[0;32m    155\u001b[0m \u001b[39mif\u001b[39;00m \u001b[39mself\u001b[39m\u001b[39m.\u001b[39maxis \u001b[39mis\u001b[39;00m \u001b[39mNone\u001b[39;00m \u001b[39mor\u001b[39;00m \u001b[39mnot\u001b[39;00m \u001b[39mself\u001b[39m\u001b[39m.\u001b[39maxis\u001b[39m.\u001b[39mget_visible():\n\u001b[0;32m    156\u001b[0m     \u001b[39mreturn\u001b[39;00m bb\n",
      "File \u001b[1;32mc:\\Users\\lal85\\AppData\\Local\\miniconda3\\envs\\boss\\Lib\\site-packages\\matplotlib\\patches.py:604\u001b[0m, in \u001b[0;36mPatch.get_window_extent\u001b[1;34m(self, renderer)\u001b[0m\n\u001b[0;32m    603\u001b[0m \u001b[39mdef\u001b[39;00m \u001b[39mget_window_extent\u001b[39m(\u001b[39mself\u001b[39m, renderer\u001b[39m=\u001b[39m\u001b[39mNone\u001b[39;00m):\n\u001b[1;32m--> 604\u001b[0m     \u001b[39mreturn\u001b[39;00m \u001b[39mself\u001b[39;49m\u001b[39m.\u001b[39;49mget_path()\u001b[39m.\u001b[39;49mget_extents(\u001b[39mself\u001b[39;49m\u001b[39m.\u001b[39;49mget_transform())\n",
      "File \u001b[1;32mc:\\Users\\lal85\\AppData\\Local\\miniconda3\\envs\\boss\\Lib\\site-packages\\matplotlib\\path.py:621\u001b[0m, in \u001b[0;36mPath.get_extents\u001b[1;34m(self, transform, **kwargs)\u001b[0m\n\u001b[0;32m    619\u001b[0m \u001b[39mfrom\u001b[39;00m \u001b[39m.\u001b[39;00m\u001b[39mtransforms\u001b[39;00m \u001b[39mimport\u001b[39;00m Bbox\n\u001b[0;32m    620\u001b[0m \u001b[39mif\u001b[39;00m transform \u001b[39mis\u001b[39;00m \u001b[39mnot\u001b[39;00m \u001b[39mNone\u001b[39;00m:\n\u001b[1;32m--> 621\u001b[0m     \u001b[39mself\u001b[39m \u001b[39m=\u001b[39m transform\u001b[39m.\u001b[39;49mtransform_path(\u001b[39mself\u001b[39;49m)\n\u001b[0;32m    622\u001b[0m \u001b[39mif\u001b[39;00m \u001b[39mself\u001b[39m\u001b[39m.\u001b[39mcodes \u001b[39mis\u001b[39;00m \u001b[39mNone\u001b[39;00m:\n\u001b[0;32m    623\u001b[0m     xys \u001b[39m=\u001b[39m \u001b[39mself\u001b[39m\u001b[39m.\u001b[39mvertices\n",
      "File \u001b[1;32mc:\\Users\\lal85\\AppData\\Local\\miniconda3\\envs\\boss\\Lib\\site-packages\\matplotlib\\transforms.py:1603\u001b[0m, in \u001b[0;36mTransform.transform_path\u001b[1;34m(self, path)\u001b[0m\n\u001b[0;32m   1596\u001b[0m \u001b[39mdef\u001b[39;00m \u001b[39mtransform_path\u001b[39m(\u001b[39mself\u001b[39m, path):\n\u001b[0;32m   1597\u001b[0m \u001b[39m    \u001b[39m\u001b[39m\"\"\"\u001b[39;00m\n\u001b[0;32m   1598\u001b[0m \u001b[39m    Apply the transform to `.Path` *path*, returning a new `.Path`.\u001b[39;00m\n\u001b[0;32m   1599\u001b[0m \n\u001b[0;32m   1600\u001b[0m \u001b[39m    In some cases, this transform may insert curves into the path\u001b[39;00m\n\u001b[0;32m   1601\u001b[0m \u001b[39m    that began as line segments.\u001b[39;00m\n\u001b[0;32m   1602\u001b[0m \u001b[39m    \"\"\"\u001b[39;00m\n\u001b[1;32m-> 1603\u001b[0m     \u001b[39mreturn\u001b[39;00m \u001b[39mself\u001b[39;49m\u001b[39m.\u001b[39;49mtransform_path_affine(\u001b[39mself\u001b[39;49m\u001b[39m.\u001b[39;49mtransform_path_non_affine(path))\n",
      "File \u001b[1;32mc:\\Users\\lal85\\AppData\\Local\\miniconda3\\envs\\boss\\Lib\\site-packages\\matplotlib\\transforms.py:1613\u001b[0m, in \u001b[0;36mTransform.transform_path_affine\u001b[1;34m(self, path)\u001b[0m\n\u001b[0;32m   1605\u001b[0m \u001b[39mdef\u001b[39;00m \u001b[39mtransform_path_affine\u001b[39m(\u001b[39mself\u001b[39m, path):\n\u001b[0;32m   1606\u001b[0m \u001b[39m    \u001b[39m\u001b[39m\"\"\"\u001b[39;00m\n\u001b[0;32m   1607\u001b[0m \u001b[39m    Apply the affine part of this transform to `.Path` *path*, returning a\u001b[39;00m\n\u001b[0;32m   1608\u001b[0m \u001b[39m    new `.Path`.\u001b[39;00m\n\u001b[1;32m   (...)\u001b[0m\n\u001b[0;32m   1611\u001b[0m \u001b[39m    ``transform_path_affine(transform_path_non_affine(values))``.\u001b[39;00m\n\u001b[0;32m   1612\u001b[0m \u001b[39m    \"\"\"\u001b[39;00m\n\u001b[1;32m-> 1613\u001b[0m     \u001b[39mreturn\u001b[39;00m \u001b[39mself\u001b[39;49m\u001b[39m.\u001b[39;49mget_affine()\u001b[39m.\u001b[39mtransform_path_affine(path)\n",
      "File \u001b[1;32mc:\\Users\\lal85\\AppData\\Local\\miniconda3\\envs\\boss\\Lib\\site-packages\\matplotlib\\transforms.py:2268\u001b[0m, in \u001b[0;36mBlendedGenericTransform.get_affine\u001b[1;34m(self)\u001b[0m\n\u001b[0;32m   2266\u001b[0m     \u001b[39mself\u001b[39m\u001b[39m.\u001b[39m_affine \u001b[39m=\u001b[39m \u001b[39mself\u001b[39m\u001b[39m.\u001b[39m_x\u001b[39m.\u001b[39mget_affine()\n\u001b[0;32m   2267\u001b[0m \u001b[39melse\u001b[39;00m:\n\u001b[1;32m-> 2268\u001b[0m     x_mtx \u001b[39m=\u001b[39m \u001b[39mself\u001b[39;49m\u001b[39m.\u001b[39;49m_x\u001b[39m.\u001b[39;49mget_affine()\u001b[39m.\u001b[39mget_matrix()\n\u001b[0;32m   2269\u001b[0m     y_mtx \u001b[39m=\u001b[39m \u001b[39mself\u001b[39m\u001b[39m.\u001b[39m_y\u001b[39m.\u001b[39mget_affine()\u001b[39m.\u001b[39mget_matrix()\n\u001b[0;32m   2270\u001b[0m     \u001b[39m# We already know the transforms are separable, so we can skip\u001b[39;00m\n\u001b[0;32m   2271\u001b[0m     \u001b[39m# setting b and c to zero.\u001b[39;00m\n",
      "File \u001b[1;32mc:\\Users\\lal85\\AppData\\Local\\miniconda3\\envs\\boss\\Lib\\site-packages\\matplotlib\\transforms.py:2449\u001b[0m, in \u001b[0;36mCompositeGenericTransform.get_affine\u001b[1;34m(self)\u001b[0m\n\u001b[0;32m   2447\u001b[0m     \u001b[39mreturn\u001b[39;00m \u001b[39mself\u001b[39m\u001b[39m.\u001b[39m_b\u001b[39m.\u001b[39mget_affine()\n\u001b[0;32m   2448\u001b[0m \u001b[39melse\u001b[39;00m:\n\u001b[1;32m-> 2449\u001b[0m     \u001b[39mreturn\u001b[39;00m Affine2D(np\u001b[39m.\u001b[39;49mdot(\u001b[39mself\u001b[39;49m\u001b[39m.\u001b[39;49m_b\u001b[39m.\u001b[39;49mget_affine()\u001b[39m.\u001b[39;49mget_matrix(),\n\u001b[0;32m   2450\u001b[0m                            \u001b[39mself\u001b[39;49m\u001b[39m.\u001b[39;49m_a\u001b[39m.\u001b[39;49mget_affine()\u001b[39m.\u001b[39;49mget_matrix()))\n",
      "File \u001b[1;32m<__array_function__ internals>:200\u001b[0m, in \u001b[0;36mdot\u001b[1;34m(*args, **kwargs)\u001b[0m\n",
      "\u001b[1;31mKeyboardInterrupt\u001b[0m: "
     ]
    }
   ],
   "source": [
    "import matplotlib.pyplot as plt\n",
    "import seaborn as sns\n",
    "\n",
    "# Custom plotting function for heatmaps\n",
    "def heatmap(data, x, y, color, **kwargs):\n",
    "    pivot_data = data.pivot_table(index=y, columns=x, values=color)\n",
    "    sns.heatmap(pivot_data, **kwargs)\n",
    "\n",
    "# Create the Facet Grid\n",
    "g = sns.FacetGrid(grouped, row='micro_channel', col='channel', margin_titles=True)\n",
    "\n",
    "# Use map_dataframe to apply the custom heatmap plotting function\n",
    "g.map_dataframe(heatmap, x='phase_bin', y='hfa_bin', color='count')\n",
    "\n",
    "# Additional plot formatting\n",
    "g.set_axis_labels(\"Phase Bin\", \"HFA Bin Count\")\n",
    "g.set_titles(col_template=\"{col_name}\", row_template=\"{row_name}\")\n",
    "plt.xticks(rotation=90)\n",
    "plt.show()"
   ]
  }
 ],
 "metadata": {
  "kernelspec": {
   "display_name": "sandbox",
   "language": "python",
   "name": "python3"
  },
  "language_info": {
   "codemirror_mode": {
    "name": "ipython",
    "version": 3
   },
   "file_extension": ".py",
   "mimetype": "text/x-python",
   "name": "python",
   "nbconvert_exporter": "python",
   "pygments_lexer": "ipython3",
   "version": "3.9.13"
  },
  "orig_nbformat": 4
 },
 "nbformat": 4,
 "nbformat_minor": 2
}
