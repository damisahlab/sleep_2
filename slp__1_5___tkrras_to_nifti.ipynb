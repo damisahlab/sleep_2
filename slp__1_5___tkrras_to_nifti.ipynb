{
 "cells": [
  {
   "attachments": {},
   "cell_type": "markdown",
   "metadata": {},
   "source": [
    "### Configuration"
   ]
  },
  {
   "cell_type": "code",
   "execution_count": 1,
   "metadata": {},
   "outputs": [],
   "source": [
    "import os\n",
    "import re\n",
    "import numpy as np\n",
    "import pandas as pd\n",
    "\n",
    "import nibabel as nib\n",
    "import numpy.matlib as matlib\n",
    "from scipy.interpolate import interpn"
   ]
  },
  {
   "cell_type": "code",
   "execution_count": 2,
   "metadata": {},
   "outputs": [
    {
     "data": {
      "text/plain": [
       "'g:\\\\My Drive\\\\Residency\\\\Research\\\\Lab - Damisah\\\\Project - Sleep'"
      ]
     },
     "execution_count": 2,
     "metadata": {},
     "output_type": "execute_result"
    }
   ],
   "source": [
    "import utils__config\n",
    "os.chdir(utils__config.working_directory)\n",
    "os.getcwd()"
   ]
  },
  {
   "attachments": {},
   "cell_type": "markdown",
   "metadata": {},
   "source": [
    "### Parameters"
   ]
  },
  {
   "attachments": {},
   "cell_type": "markdown",
   "metadata": {},
   "source": [
    "**We are using a 2mm brain for voxel placement; this will reduce the accuracy. So try to source a 1mm MNI152 T1 brain**"
   ]
  },
  {
   "cell_type": "code",
   "execution_count": 7,
   "metadata": {},
   "outputs": [],
   "source": [
    "elec_path = 'Cache/Subject01/S01_electrodes_tkrRAS.csv'\n",
    "template_path = 'Data/Brain_Templates/MNI152_T1_2mm_brain.nii.gz'\n",
    "#template_path = 'Data/Brain_Templates/spm152.nii.gz'\n",
    "output_path = 'Cache/Subject01/S01_electrodes.nii.gz'"
   ]
  },
  {
   "attachments": {},
   "cell_type": "markdown",
   "metadata": {},
   "source": [
    "### Convert tkrRAS -> Voxels and save as NIfTI"
   ]
  },
  {
   "attachments": {},
   "cell_type": "markdown",
   "metadata": {},
   "source": [
    "Adapted from: https://github.com/jadecci/coord2nii"
   ]
  },
  {
   "cell_type": "code",
   "execution_count": 8,
   "metadata": {},
   "outputs": [
    {
     "name": "stderr",
     "output_type": "stream",
     "text": [
      "C:\\Users\\Layton\\AppData\\Local\\Temp\\ipykernel_324\\2071448565.py:11: DeprecationWarning: get_data() is deprecated in favor of get_fdata(), which has a more predictable return type. To obtain get_data() behavior going forward, use numpy.asanyarray(img.dataobj).\n",
      "\n",
      "* deprecated from version: 3.0\n",
      "* Will raise <class 'nibabel.deprecator.ExpiredDeprecationError'> as of version: 5.0\n",
      "  data = template.get_data()\n"
     ]
    },
    {
     "ename": "ValueError",
     "evalue": "One of the requested xi is out of bounds in dimension 0",
     "output_type": "error",
     "traceback": [
      "\u001b[1;31m---------------------------------------------------------------------------\u001b[0m",
      "\u001b[1;31mValueError\u001b[0m                                Traceback (most recent call last)",
      "\u001b[1;32mg:\\My Drive\\Residency\\Research\\Lab - Damisah\\Project - Sleep\\Source\\0.4 - tkrRAS to NIfTI.ipynb Cell 9\u001b[0m in \u001b[0;36m<cell line: 20>\u001b[1;34m()\u001b[0m\n\u001b[0;32m     <a href='vscode-notebook-cell:/g%3A/My%20Drive/Residency/Research/Lab%20-%20Damisah/Project%20-%20Sleep/Source/0.4%20-%20tkrRAS%20to%20NIfTI.ipynb#X11sZmlsZQ%3D%3D?line=17'>18</a>\u001b[0m grid_pts \u001b[39m=\u001b[39m [\u001b[39mrange\u001b[39m(data\u001b[39m.\u001b[39mshape[\u001b[39m0\u001b[39m]), \u001b[39mrange\u001b[39m(data\u001b[39m.\u001b[39mshape[\u001b[39m1\u001b[39m]), \u001b[39mrange\u001b[39m(data\u001b[39m.\u001b[39mshape[\u001b[39m2\u001b[39m])]\n\u001b[0;32m     <a href='vscode-notebook-cell:/g%3A/My%20Drive/Residency/Research/Lab%20-%20Damisah/Project%20-%20Sleep/Source/0.4%20-%20tkrRAS%20to%20NIfTI.ipynb#X11sZmlsZQ%3D%3D?line=18'>19</a>\u001b[0m linear_ind \u001b[39m=\u001b[39m np\u001b[39m.\u001b[39marange(np\u001b[39m.\u001b[39mprod(data\u001b[39m.\u001b[39mshape))\u001b[39m.\u001b[39mreshape(data\u001b[39m.\u001b[39mshape)\n\u001b[1;32m---> <a href='vscode-notebook-cell:/g%3A/My%20Drive/Residency/Research/Lab%20-%20Damisah/Project%20-%20Sleep/Source/0.4%20-%20tkrRAS%20to%20NIfTI.ipynb#X11sZmlsZQ%3D%3D?line=19'>20</a>\u001b[0m vox_ind \u001b[39m=\u001b[39m interpn(grid_pts, linear_ind, vox_coords\u001b[39m.\u001b[39;49mT, \u001b[39m'\u001b[39;49m\u001b[39mnearest\u001b[39;49m\u001b[39m'\u001b[39;49m)\n\u001b[0;32m     <a href='vscode-notebook-cell:/g%3A/My%20Drive/Residency/Research/Lab%20-%20Damisah/Project%20-%20Sleep/Source/0.4%20-%20tkrRAS%20to%20NIfTI.ipynb#X11sZmlsZQ%3D%3D?line=21'>22</a>\u001b[0m \u001b[39m# Write a value of 1 to each selected voxel\u001b[39;00m\n\u001b[0;32m     <a href='vscode-notebook-cell:/g%3A/My%20Drive/Residency/Research/Lab%20-%20Damisah/Project%20-%20Sleep/Source/0.4%20-%20tkrRAS%20to%20NIfTI.ipynb#X11sZmlsZQ%3D%3D?line=22'>23</a>\u001b[0m vol \u001b[39m=\u001b[39m np\u001b[39m.\u001b[39mzeros(data\u001b[39m.\u001b[39mshape)\n",
      "File \u001b[1;32mc:\\Users\\Layton\\miniconda3\\envs\\sandbox\\lib\\site-packages\\scipy\\interpolate\\_interpolate.py:2709\u001b[0m, in \u001b[0;36minterpn\u001b[1;34m(points, values, xi, method, bounds_error, fill_value)\u001b[0m\n\u001b[0;32m   2706\u001b[0m     \u001b[39mfor\u001b[39;00m i, p \u001b[39min\u001b[39;00m \u001b[39menumerate\u001b[39m(xi\u001b[39m.\u001b[39mT):\n\u001b[0;32m   2707\u001b[0m         \u001b[39mif\u001b[39;00m \u001b[39mnot\u001b[39;00m np\u001b[39m.\u001b[39mlogical_and(np\u001b[39m.\u001b[39mall(grid[i][\u001b[39m0\u001b[39m] \u001b[39m<\u001b[39m\u001b[39m=\u001b[39m p),\n\u001b[0;32m   2708\u001b[0m                                             np\u001b[39m.\u001b[39mall(p \u001b[39m<\u001b[39m\u001b[39m=\u001b[39m grid[i][\u001b[39m-\u001b[39m\u001b[39m1\u001b[39m])):\n\u001b[1;32m-> 2709\u001b[0m             \u001b[39mraise\u001b[39;00m \u001b[39mValueError\u001b[39;00m(\u001b[39m\"\u001b[39m\u001b[39mOne of the requested xi is out of bounds \u001b[39m\u001b[39m\"\u001b[39m\n\u001b[0;32m   2710\u001b[0m                             \u001b[39m\"\u001b[39m\u001b[39min dimension \u001b[39m\u001b[39m%d\u001b[39;00m\u001b[39m\"\u001b[39m \u001b[39m%\u001b[39m i)\n\u001b[0;32m   2712\u001b[0m \u001b[39m# perform interpolation\u001b[39;00m\n\u001b[0;32m   2713\u001b[0m \u001b[39mif\u001b[39;00m method \u001b[39m==\u001b[39m \u001b[39m\"\u001b[39m\u001b[39mlinear\u001b[39m\u001b[39m\"\u001b[39m:\n",
      "\u001b[1;31mValueError\u001b[0m: One of the requested xi is out of bounds in dimension 0"
     ]
    }
   ],
   "source": [
    "# Load electrodes, convert to numpy, and transpose\n",
    "elec = pd.read_csv(elec_path)\n",
    "coords = elec[['Coord_x', 'Coord_y', 'Coord_z']].to_numpy().T\n",
    "\n",
    "# Convert MNI152? to RAS (only if using MNI152? coords)\n",
    "# coords[0, :] = - coords[0, :]\n",
    "\n",
    "# Load MRI template (must be in MNI space)\n",
    "template = nib.load(template_path)\n",
    "vox2ras = template.get_sform()\n",
    "data = template.get_data()\n",
    "\n",
    "# Convert tkrRAS -> Voxel coordinates\n",
    "ras_centered = coords - matlib.repmat(vox2ras[0:3, 3], coords.shape[1], 1).T\n",
    "vox_coords = np.linalg.inv(vox2ras[0:3, 0:3]) @ ras_centered\n",
    "\n",
    "# Find the nearest voxel for the voxel coordinates\n",
    "grid_pts = [range(data.shape[0]), range(data.shape[1]), range(data.shape[2])]\n",
    "linear_ind = np.arange(np.prod(data.shape)).reshape(data.shape)\n",
    "vox_ind = interpn(grid_pts, linear_ind, vox_coords.T, 'nearest')\n",
    "\n",
    "# Write a value of 1 to each selected voxel\n",
    "vol = np.zeros(data.shape)\n",
    "vol[np.unravel_index(vox_ind.astype(int), data.shape)] = 1\n",
    "\n",
    "# Save the new volume as a NIfTI file\n",
    "img = nib.Nifti1Image(vol, template.affine, template.header)\n",
    "nib.save(img, output_path)"
   ]
  }
 ],
 "metadata": {
  "kernelspec": {
   "display_name": "sandbox",
   "language": "python",
   "name": "python3"
  },
  "language_info": {
   "codemirror_mode": {
    "name": "ipython",
    "version": 3
   },
   "file_extension": ".py",
   "mimetype": "text/x-python",
   "name": "python",
   "nbconvert_exporter": "python",
   "pygments_lexer": "ipython3",
   "version": "3.9.12"
  },
  "orig_nbformat": 4
 },
 "nbformat": 4,
 "nbformat_minor": 2
}
