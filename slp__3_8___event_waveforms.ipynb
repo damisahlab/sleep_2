{
 "cells": [
  {
   "attachments": {},
   "cell_type": "markdown",
   "metadata": {},
   "source": [
    "### Configuration"
   ]
  },
  {
   "cell_type": "code",
   "execution_count": 6,
   "metadata": {},
   "outputs": [],
   "source": [
    "import os\n",
    "import numpy as np\n",
    "import pandas as pd\n",
    "\n",
    "import mne\n",
    "from tqdm import tqdm\n",
    "\n",
    "import utils__config"
   ]
  },
  {
   "cell_type": "code",
   "execution_count": 7,
   "metadata": {},
   "outputs": [
    {
     "data": {
      "text/plain": [
       "'Z:\\\\Layton\\\\Sleep_083023'"
      ]
     },
     "execution_count": 7,
     "metadata": {},
     "output_type": "execute_result"
    }
   ],
   "source": [
    "os.chdir(utils__config.working_directory)\n",
    "os.getcwd()"
   ]
  },
  {
   "attachments": {},
   "cell_type": "markdown",
   "metadata": {},
   "source": [
    "### Parameters"
   ]
  },
  {
   "cell_type": "code",
   "execution_count": 8,
   "metadata": {},
   "outputs": [],
   "source": [
    "fif_path = 'Cache/Subject01/Feb02/S01_Feb02_256hz.fif'\n",
    "dict_path = 'Data/Subject01/Feb02/S01_dictionary.xlsx'\n",
    "\n",
    "sw_path = 'Cache/Subject01/Feb02/S01_SW.csv'\n",
    "kc_path = 'Cache/Subject01/Feb02/S01_KC.csv'\n",
    "save_path = 'Cache/Subject01/Feb02/S01_event_epochs.csv'"
   ]
  },
  {
   "cell_type": "code",
   "execution_count": 9,
   "metadata": {},
   "outputs": [],
   "source": [
    "sampling_freq = 256"
   ]
  },
  {
   "attachments": {},
   "cell_type": "markdown",
   "metadata": {},
   "source": [
    "### Load Raw data"
   ]
  },
  {
   "cell_type": "code",
   "execution_count": 10,
   "metadata": {},
   "outputs": [
    {
     "name": "stdout",
     "output_type": "stream",
     "text": [
      "Opening raw data file Cache/Subject01/Feb02/S01_Feb02_256hz.fif...\n"
     ]
    },
    {
     "name": "stderr",
     "output_type": "stream",
     "text": [
      "C:\\Users\\lal85\\AppData\\Local\\Temp\\2\\ipykernel_7976\\2216903412.py:2: RuntimeWarning: This filename (Cache/Subject01/Feb02/S01_Feb02_256hz.fif) does not conform to MNE naming conventions. All raw files should end with raw.fif, raw_sss.fif, raw_tsss.fif, _meg.fif, _eeg.fif, _ieeg.fif, raw.fif.gz, raw_sss.fif.gz, raw_tsss.fif.gz, _meg.fif.gz, _eeg.fif.gz or _ieeg.fif.gz\n",
      "  raw = mne.io.read_raw_fif(fif_path, preload = True, verbose = None)\n"
     ]
    },
    {
     "name": "stdout",
     "output_type": "stream",
     "text": [
      "Isotrak not found\n",
      "    Range : 0 ... 1843573 =      0.000 ...  7201.457 secs\n",
      "Ready.\n",
      "Reading 0 ... 1843573  =      0.000 ...  7201.457 secs...\n",
      "Creating RawArray with float64 data, n_channels=1, n_times=1843574\n",
      "    Range : 0 ... 1843573 =      0.000 ...  7201.457 secs\n",
      "Ready.\n"
     ]
    }
   ],
   "source": [
    "# Load LFP data\n",
    "raw = mne.io.read_raw_fif(fif_path, preload = True, verbose = None)\n",
    "\n",
    "# Record the first sample (which is not 0 since the Raw\n",
    "# file was cropped from the original); you will need this\n",
    "# to appropriately select the sleep event sample number\n",
    "first_raw_sample = raw.first_samp\n",
    "\n",
    "# Remove unnecessary channels\n",
    "#dictionary = pd.read_excel(dict_path)\n",
    "#dictionary = dictionary[(dictionary['type'] == 'macro') & (dictionary['status'] == 'accept')]['name'].tolist()\n",
    "#raw.pick_channels(ch_names = dictionary)\n",
    "\n",
    "# Create a dummy numpy event array and MNE info object\n",
    "# and use them to create an empty dummy Raw channel\n",
    "events_info = mne.create_info(ch_names = ['events'], \n",
    "                              sfreq = raw.info['sfreq'], \n",
    "                              ch_types = ['stim'])\n",
    "\n",
    "empty_events = np.zeros((1, len(raw.times)))\n",
    "\n",
    "events_channel = mne.io.RawArray(data = empty_events, \n",
    "                                 info = events_info,\n",
    "                                 first_samp = first_raw_sample)"
   ]
  },
  {
   "attachments": {},
   "cell_type": "markdown",
   "metadata": {},
   "source": [
    "### Slow Waves"
   ]
  },
  {
   "cell_type": "code",
   "execution_count": 11,
   "metadata": {},
   "outputs": [],
   "source": [
    "# Load detected slow waves\n",
    "sw_times = pd.read_csv(sw_path)\n",
    "sw_times = sw_times[['Channel', 'Start', 'End', 'Duration', 'NegPeak', 'MidCrossing', 'PosPeak']]\n",
    "sw_times.columns = ['channel', 'start', 'end', 'duration', 'neg_peak', 'mid_cross', 'pos_peak']\n",
    "\n",
    "# Find MNE sample times for when SW's were present\n",
    "sw_times['sample'] = (sw_times.neg_peak * sampling_freq) + first_raw_sample\n",
    "sw_times['sample'] = sw_times['sample'].round(0).astype('int64')\n",
    "\n",
    "# Create a numpy array formatted according to MNE requirements\n",
    "# (please note that the dummy_0 column is just a spacer and has \n",
    "#  no meaning except internally to MNE, which expects 0's; \n",
    "#  however, the event_id column should contain the integer that\n",
    "#  corresponds to the relevant event in your event dictionary)\n",
    "sw_times['dummy_0'] = 0\n",
    "sw_times['event_id'] = 1"
   ]
  },
  {
   "attachments": {},
   "cell_type": "markdown",
   "metadata": {},
   "source": [
    "### K-Complexes"
   ]
  },
  {
   "cell_type": "code",
   "execution_count": 12,
   "metadata": {},
   "outputs": [],
   "source": [
    "# Load detected slow waves\n",
    "kc_times = pd.read_csv(kc_path)\n",
    "kc_times = kc_times[['Channel', 'Start', 'End', 'Duration', 'NegPeak', 'MidCrossing', 'PosPeak']]\n",
    "kc_times.columns = ['channel', 'start', 'end', 'duration', 'neg_peak', 'mid_cross', 'pos_peak']\n",
    "\n",
    "# Find MNE sample times for when SW's were present\n",
    "kc_times['sample'] = (kc_times.neg_peak * sampling_freq) + first_raw_sample\n",
    "kc_times['sample'] = kc_times['sample'].round(0).astype('int64')\n",
    "\n",
    "# Create a numpy array formatted according to MNE requirements\n",
    "# (please note that the dummy_0 column is just a spacer and has \n",
    "#  no meaning except internally to MNE, which expects 0's; \n",
    "#  however, the event_id column should contain the integer that\n",
    "#  corresponds to the relevant event in your event dictionary)\n",
    "kc_times['dummy_0'] = 0\n",
    "kc_times['event_id'] = 2"
   ]
  },
  {
   "attachments": {},
   "cell_type": "markdown",
   "metadata": {},
   "source": [
    "### Mark events and export by channel"
   ]
  },
  {
   "cell_type": "code",
   "execution_count": 13,
   "metadata": {},
   "outputs": [
    {
     "name": "stderr",
     "output_type": "stream",
     "text": [
      "  0%|          | 0/34 [00:00<?, ?it/s]"
     ]
    },
    {
     "name": "stdout",
     "output_type": "stream",
     "text": [
      "NOTE: pick_channels() is a legacy function. New code should use inst.pick(...).\n",
      "247 events found\n",
      "Event IDs: [1]\n",
      "Not setting metadata\n",
      "247 matching events found\n",
      "No baseline correction applied\n",
      "0 projection items activated\n",
      "Using data from preloaded Raw for 247 events and 1025 original time points ...\n",
      "0 bad epochs dropped\n"
     ]
    },
    {
     "name": "stderr",
     "output_type": "stream",
     "text": [
      "  3%|▎         | 1/34 [00:00<00:14,  2.24it/s]"
     ]
    },
    {
     "name": "stdout",
     "output_type": "stream",
     "text": [
      "NOTE: pick_channels() is a legacy function. New code should use inst.pick(...).\n",
      "237 events found\n",
      "Event IDs: [1]\n",
      "Not setting metadata\n",
      "237 matching events found\n",
      "No baseline correction applied\n",
      "0 projection items activated\n",
      "Using data from preloaded Raw for 237 events and 1025 original time points ...\n",
      "0 bad epochs dropped\n"
     ]
    },
    {
     "name": "stderr",
     "output_type": "stream",
     "text": [
      "  6%|▌         | 2/34 [00:00<00:12,  2.47it/s]"
     ]
    },
    {
     "name": "stdout",
     "output_type": "stream",
     "text": [
      "NOTE: pick_channels() is a legacy function. New code should use inst.pick(...).\n",
      "387 events found\n",
      "Event IDs: [1]\n",
      "Not setting metadata\n",
      "387 matching events found\n",
      "No baseline correction applied\n",
      "0 projection items activated\n",
      "Using data from preloaded Raw for 387 events and 1025 original time points ...\n",
      "0 bad epochs dropped\n"
     ]
    },
    {
     "name": "stderr",
     "output_type": "stream",
     "text": [
      "  9%|▉         | 3/34 [00:01<00:13,  2.33it/s]"
     ]
    },
    {
     "name": "stdout",
     "output_type": "stream",
     "text": [
      "NOTE: pick_channels() is a legacy function. New code should use inst.pick(...).\n",
      "204 events found\n",
      "Event IDs: [1]\n",
      "Not setting metadata\n",
      "204 matching events found\n",
      "No baseline correction applied\n",
      "0 projection items activated\n",
      "Using data from preloaded Raw for 204 events and 1025 original time points ...\n",
      "0 bad epochs dropped\n"
     ]
    },
    {
     "name": "stderr",
     "output_type": "stream",
     "text": [
      " 12%|█▏        | 4/34 [00:01<00:12,  2.46it/s]"
     ]
    },
    {
     "name": "stdout",
     "output_type": "stream",
     "text": [
      "NOTE: pick_channels() is a legacy function. New code should use inst.pick(...).\n",
      "579 events found\n",
      "Event IDs: [1 2 3]\n",
      "Not setting metadata\n",
      "578 matching events found\n",
      "No baseline correction applied\n",
      "0 projection items activated\n",
      "Using data from preloaded Raw for 578 events and 1025 original time points ...\n",
      "0 bad epochs dropped\n"
     ]
    },
    {
     "name": "stderr",
     "output_type": "stream",
     "text": [
      " 15%|█▍        | 5/34 [00:02<00:13,  2.22it/s]"
     ]
    },
    {
     "name": "stdout",
     "output_type": "stream",
     "text": [
      "NOTE: pick_channels() is a legacy function. New code should use inst.pick(...).\n",
      "826 events found\n",
      "Event IDs: [1 2 3]\n",
      "Not setting metadata\n",
      "825 matching events found\n",
      "No baseline correction applied\n",
      "0 projection items activated\n",
      "Using data from preloaded Raw for 825 events and 1025 original time points ...\n",
      "0 bad epochs dropped\n"
     ]
    },
    {
     "name": "stderr",
     "output_type": "stream",
     "text": [
      " 18%|█▊        | 6/34 [00:02<00:14,  1.95it/s]"
     ]
    },
    {
     "name": "stdout",
     "output_type": "stream",
     "text": [
      "NOTE: pick_channels() is a legacy function. New code should use inst.pick(...).\n",
      "350 events found\n",
      "Event IDs: [1]\n",
      "Not setting metadata\n",
      "350 matching events found\n",
      "No baseline correction applied\n",
      "0 projection items activated\n",
      "Using data from preloaded Raw for 350 events and 1025 original time points ...\n",
      "0 bad epochs dropped\n"
     ]
    },
    {
     "name": "stderr",
     "output_type": "stream",
     "text": [
      " 21%|██        | 7/34 [00:03<00:13,  2.05it/s]"
     ]
    },
    {
     "name": "stdout",
     "output_type": "stream",
     "text": [
      "NOTE: pick_channels() is a legacy function. New code should use inst.pick(...).\n",
      "436 events found\n",
      "Event IDs: [1]\n",
      "Not setting metadata\n",
      "436 matching events found\n",
      "No baseline correction applied\n",
      "0 projection items activated\n",
      "Using data from preloaded Raw for 436 events and 1025 original time points ...\n",
      "0 bad epochs dropped\n"
     ]
    },
    {
     "name": "stderr",
     "output_type": "stream",
     "text": [
      " 24%|██▎       | 8/34 [00:03<00:12,  2.08it/s]"
     ]
    },
    {
     "name": "stdout",
     "output_type": "stream",
     "text": [
      "NOTE: pick_channels() is a legacy function. New code should use inst.pick(...).\n",
      "316 events found\n",
      "Event IDs: [1]\n",
      "Not setting metadata\n",
      "316 matching events found\n",
      "No baseline correction applied\n",
      "0 projection items activated\n",
      "Using data from preloaded Raw for 316 events and 1025 original time points ...\n",
      "0 bad epochs dropped\n"
     ]
    },
    {
     "name": "stderr",
     "output_type": "stream",
     "text": [
      " 26%|██▋       | 9/34 [00:04<00:11,  2.09it/s]"
     ]
    },
    {
     "name": "stdout",
     "output_type": "stream",
     "text": [
      "NOTE: pick_channels() is a legacy function. New code should use inst.pick(...).\n",
      "465 events found\n",
      "Event IDs: [1]\n",
      "Not setting metadata\n",
      "465 matching events found\n",
      "No baseline correction applied\n",
      "0 projection items activated\n",
      "Using data from preloaded Raw for 465 events and 1025 original time points ...\n",
      "0 bad epochs dropped\n"
     ]
    },
    {
     "name": "stderr",
     "output_type": "stream",
     "text": [
      " 29%|██▉       | 10/34 [00:04<00:11,  2.10it/s]"
     ]
    },
    {
     "name": "stdout",
     "output_type": "stream",
     "text": [
      "NOTE: pick_channels() is a legacy function. New code should use inst.pick(...).\n",
      "768 events found\n",
      "Event IDs: [1 2 3]\n",
      "Not setting metadata\n",
      "767 matching events found\n",
      "No baseline correction applied\n",
      "0 projection items activated\n",
      "Using data from preloaded Raw for 767 events and 1025 original time points ...\n",
      "0 bad epochs dropped\n"
     ]
    },
    {
     "name": "stderr",
     "output_type": "stream",
     "text": [
      " 32%|███▏      | 11/34 [00:05<00:11,  1.94it/s]"
     ]
    },
    {
     "name": "stdout",
     "output_type": "stream",
     "text": [
      "NOTE: pick_channels() is a legacy function. New code should use inst.pick(...).\n",
      "1095 events found\n",
      "Event IDs: [1 2]\n",
      "Not setting metadata\n",
      "1095 matching events found\n",
      "No baseline correction applied\n",
      "0 projection items activated\n",
      "Using data from preloaded Raw for 1095 events and 1025 original time points ...\n",
      "0 bad epochs dropped\n"
     ]
    },
    {
     "name": "stderr",
     "output_type": "stream",
     "text": [
      " 35%|███▌      | 12/34 [00:06<00:12,  1.72it/s]"
     ]
    },
    {
     "name": "stdout",
     "output_type": "stream",
     "text": [
      "NOTE: pick_channels() is a legacy function. New code should use inst.pick(...).\n",
      "888 events found\n",
      "Event IDs: [1 2]\n",
      "Not setting metadata\n",
      "888 matching events found\n",
      "No baseline correction applied\n",
      "0 projection items activated\n",
      "Using data from preloaded Raw for 888 events and 1025 original time points ...\n",
      "0 bad epochs dropped\n"
     ]
    },
    {
     "name": "stderr",
     "output_type": "stream",
     "text": [
      " 38%|███▊      | 13/34 [00:06<00:12,  1.65it/s]"
     ]
    },
    {
     "name": "stdout",
     "output_type": "stream",
     "text": [
      "NOTE: pick_channels() is a legacy function. New code should use inst.pick(...).\n",
      "810 events found\n",
      "Event IDs: [1]\n",
      "Not setting metadata\n",
      "810 matching events found\n",
      "No baseline correction applied\n",
      "0 projection items activated\n",
      "Using data from preloaded Raw for 810 events and 1025 original time points ...\n",
      "0 bad epochs dropped\n"
     ]
    },
    {
     "name": "stderr",
     "output_type": "stream",
     "text": [
      " 41%|████      | 14/34 [00:07<00:12,  1.64it/s]"
     ]
    },
    {
     "name": "stdout",
     "output_type": "stream",
     "text": [
      "NOTE: pick_channels() is a legacy function. New code should use inst.pick(...).\n",
      "244 events found\n",
      "Event IDs: [1]\n",
      "Not setting metadata\n",
      "244 matching events found\n",
      "No baseline correction applied\n",
      "0 projection items activated\n",
      "Using data from preloaded Raw for 244 events and 1025 original time points ...\n",
      "0 bad epochs dropped\n"
     ]
    },
    {
     "name": "stderr",
     "output_type": "stream",
     "text": [
      " 44%|████▍     | 15/34 [00:07<00:10,  1.85it/s]"
     ]
    },
    {
     "name": "stdout",
     "output_type": "stream",
     "text": [
      "NOTE: pick_channels() is a legacy function. New code should use inst.pick(...).\n",
      "298 events found\n",
      "Event IDs: [1]\n",
      "Not setting metadata\n",
      "298 matching events found\n",
      "No baseline correction applied\n",
      "0 projection items activated\n",
      "Using data from preloaded Raw for 298 events and 1025 original time points ...\n",
      "0 bad epochs dropped\n"
     ]
    },
    {
     "name": "stderr",
     "output_type": "stream",
     "text": [
      " 47%|████▋     | 16/34 [00:08<00:09,  1.99it/s]"
     ]
    },
    {
     "name": "stdout",
     "output_type": "stream",
     "text": [
      "NOTE: pick_channels() is a legacy function. New code should use inst.pick(...).\n",
      "436 events found\n",
      "Event IDs: [1]\n",
      "Not setting metadata\n",
      "436 matching events found\n",
      "No baseline correction applied\n",
      "0 projection items activated\n",
      "Using data from preloaded Raw for 436 events and 1025 original time points ...\n",
      "0 bad epochs dropped\n"
     ]
    },
    {
     "name": "stderr",
     "output_type": "stream",
     "text": [
      " 50%|█████     | 17/34 [00:08<00:08,  2.04it/s]"
     ]
    },
    {
     "name": "stdout",
     "output_type": "stream",
     "text": [
      "NOTE: pick_channels() is a legacy function. New code should use inst.pick(...).\n",
      "990 events found\n",
      "Event IDs: [1]\n",
      "Not setting metadata\n",
      "990 matching events found\n",
      "No baseline correction applied\n",
      "0 projection items activated\n",
      "Using data from preloaded Raw for 990 events and 1025 original time points ...\n",
      "0 bad epochs dropped\n"
     ]
    },
    {
     "name": "stderr",
     "output_type": "stream",
     "text": [
      " 53%|█████▎    | 18/34 [00:09<00:09,  1.78it/s]"
     ]
    },
    {
     "name": "stdout",
     "output_type": "stream",
     "text": [
      "NOTE: pick_channels() is a legacy function. New code should use inst.pick(...).\n",
      "1018 events found\n",
      "Event IDs: [1 2 3]\n",
      "Not setting metadata\n",
      "1017 matching events found\n",
      "No baseline correction applied\n",
      "0 projection items activated\n",
      "Using data from preloaded Raw for 1017 events and 1025 original time points ...\n",
      "0 bad epochs dropped\n"
     ]
    },
    {
     "name": "stderr",
     "output_type": "stream",
     "text": [
      " 56%|█████▌    | 19/34 [00:10<00:09,  1.59it/s]"
     ]
    },
    {
     "name": "stdout",
     "output_type": "stream",
     "text": [
      "NOTE: pick_channels() is a legacy function. New code should use inst.pick(...).\n",
      "345 events found\n",
      "Event IDs: [1]\n",
      "Not setting metadata\n",
      "345 matching events found\n",
      "No baseline correction applied\n",
      "0 projection items activated\n",
      "Using data from preloaded Raw for 345 events and 1025 original time points ...\n",
      "0 bad epochs dropped\n"
     ]
    },
    {
     "name": "stderr",
     "output_type": "stream",
     "text": [
      " 59%|█████▉    | 20/34 [00:10<00:07,  1.76it/s]"
     ]
    },
    {
     "name": "stdout",
     "output_type": "stream",
     "text": [
      "NOTE: pick_channels() is a legacy function. New code should use inst.pick(...).\n",
      "379 events found\n",
      "Event IDs: [1]\n",
      "Not setting metadata\n",
      "379 matching events found\n",
      "No baseline correction applied\n",
      "0 projection items activated\n",
      "Using data from preloaded Raw for 379 events and 1025 original time points ...\n",
      "0 bad epochs dropped\n"
     ]
    },
    {
     "name": "stderr",
     "output_type": "stream",
     "text": [
      " 62%|██████▏   | 21/34 [00:10<00:06,  1.89it/s]"
     ]
    },
    {
     "name": "stdout",
     "output_type": "stream",
     "text": [
      "NOTE: pick_channels() is a legacy function. New code should use inst.pick(...).\n",
      "837 events found\n",
      "Event IDs: [1]\n",
      "Not setting metadata\n",
      "837 matching events found\n",
      "No baseline correction applied\n",
      "0 projection items activated\n",
      "Using data from preloaded Raw for 837 events and 1025 original time points ...\n",
      "0 bad epochs dropped\n"
     ]
    },
    {
     "name": "stderr",
     "output_type": "stream",
     "text": [
      " 65%|██████▍   | 22/34 [00:11<00:06,  1.76it/s]"
     ]
    },
    {
     "name": "stdout",
     "output_type": "stream",
     "text": [
      "NOTE: pick_channels() is a legacy function. New code should use inst.pick(...).\n",
      "547 events found\n",
      "Event IDs: [1]\n",
      "Not setting metadata\n",
      "547 matching events found\n",
      "No baseline correction applied\n",
      "0 projection items activated\n",
      "Using data from preloaded Raw for 547 events and 1025 original time points ...\n",
      "0 bad epochs dropped\n"
     ]
    },
    {
     "name": "stderr",
     "output_type": "stream",
     "text": [
      " 68%|██████▊   | 23/34 [00:12<00:06,  1.80it/s]"
     ]
    },
    {
     "name": "stdout",
     "output_type": "stream",
     "text": [
      "NOTE: pick_channels() is a legacy function. New code should use inst.pick(...).\n",
      "1014 events found\n",
      "Event IDs: [1 2]\n",
      "Not setting metadata\n",
      "1014 matching events found\n",
      "No baseline correction applied\n",
      "0 projection items activated\n",
      "Using data from preloaded Raw for 1014 events and 1025 original time points ...\n",
      "0 bad epochs dropped\n"
     ]
    },
    {
     "name": "stderr",
     "output_type": "stream",
     "text": [
      " 71%|███████   | 24/34 [00:12<00:06,  1.67it/s]"
     ]
    },
    {
     "name": "stdout",
     "output_type": "stream",
     "text": [
      "NOTE: pick_channels() is a legacy function. New code should use inst.pick(...).\n",
      "311 events found\n",
      "Event IDs: [1]\n",
      "Not setting metadata\n",
      "311 matching events found\n",
      "No baseline correction applied\n",
      "0 projection items activated\n",
      "Using data from preloaded Raw for 311 events and 1025 original time points ...\n",
      "0 bad epochs dropped\n"
     ]
    },
    {
     "name": "stderr",
     "output_type": "stream",
     "text": [
      " 74%|███████▎  | 25/34 [00:13<00:04,  1.83it/s]"
     ]
    },
    {
     "name": "stdout",
     "output_type": "stream",
     "text": [
      "NOTE: pick_channels() is a legacy function. New code should use inst.pick(...).\n",
      "1321 events found\n",
      "Event IDs: [1 2]\n",
      "Not setting metadata\n",
      "1321 matching events found\n",
      "No baseline correction applied\n",
      "0 projection items activated\n",
      "Using data from preloaded Raw for 1321 events and 1025 original time points ...\n",
      "1 bad epochs dropped\n"
     ]
    },
    {
     "name": "stderr",
     "output_type": "stream",
     "text": [
      " 76%|███████▋  | 26/34 [00:14<00:05,  1.58it/s]"
     ]
    },
    {
     "name": "stdout",
     "output_type": "stream",
     "text": [
      "NOTE: pick_channels() is a legacy function. New code should use inst.pick(...).\n",
      "1162 events found\n",
      "Event IDs: [1 2 3]\n",
      "Not setting metadata\n",
      "1161 matching events found\n",
      "No baseline correction applied\n",
      "0 projection items activated\n",
      "Using data from preloaded Raw for 1161 events and 1025 original time points ...\n",
      "0 bad epochs dropped\n"
     ]
    },
    {
     "name": "stderr",
     "output_type": "stream",
     "text": [
      " 79%|███████▉  | 27/34 [00:14<00:04,  1.49it/s]"
     ]
    },
    {
     "name": "stdout",
     "output_type": "stream",
     "text": [
      "NOTE: pick_channels() is a legacy function. New code should use inst.pick(...).\n",
      "256 events found\n",
      "Event IDs: [1]\n",
      "Not setting metadata\n",
      "256 matching events found\n",
      "No baseline correction applied\n",
      "0 projection items activated\n",
      "Using data from preloaded Raw for 256 events and 1025 original time points ...\n",
      "0 bad epochs dropped\n"
     ]
    },
    {
     "name": "stderr",
     "output_type": "stream",
     "text": [
      " 82%|████████▏ | 28/34 [00:15<00:03,  1.63it/s]"
     ]
    },
    {
     "name": "stdout",
     "output_type": "stream",
     "text": [
      "NOTE: pick_channels() is a legacy function. New code should use inst.pick(...).\n",
      "256 events found\n",
      "Event IDs: [1]\n",
      "Not setting metadata\n",
      "256 matching events found\n",
      "No baseline correction applied\n",
      "0 projection items activated\n",
      "Using data from preloaded Raw for 256 events and 1025 original time points ...\n",
      "0 bad epochs dropped\n"
     ]
    },
    {
     "name": "stderr",
     "output_type": "stream",
     "text": [
      " 85%|████████▌ | 29/34 [00:15<00:02,  1.83it/s]"
     ]
    },
    {
     "name": "stdout",
     "output_type": "stream",
     "text": [
      "NOTE: pick_channels() is a legacy function. New code should use inst.pick(...).\n",
      "356 events found\n",
      "Event IDs: [1]\n",
      "Not setting metadata\n",
      "356 matching events found\n",
      "No baseline correction applied\n",
      "0 projection items activated\n",
      "Using data from preloaded Raw for 356 events and 1025 original time points ...\n",
      "0 bad epochs dropped\n"
     ]
    },
    {
     "name": "stderr",
     "output_type": "stream",
     "text": [
      " 88%|████████▊ | 30/34 [00:16<00:02,  1.93it/s]"
     ]
    },
    {
     "name": "stdout",
     "output_type": "stream",
     "text": [
      "NOTE: pick_channels() is a legacy function. New code should use inst.pick(...).\n",
      "1071 events found\n",
      "Event IDs: [1 2]\n",
      "Not setting metadata\n",
      "1071 matching events found\n",
      "No baseline correction applied\n",
      "0 projection items activated\n",
      "Using data from preloaded Raw for 1071 events and 1025 original time points ...\n",
      "0 bad epochs dropped\n"
     ]
    },
    {
     "name": "stderr",
     "output_type": "stream",
     "text": [
      " 91%|█████████ | 31/34 [00:16<00:01,  1.73it/s]"
     ]
    },
    {
     "name": "stdout",
     "output_type": "stream",
     "text": [
      "NOTE: pick_channels() is a legacy function. New code should use inst.pick(...).\n",
      "1050 events found\n",
      "Event IDs: [1 2 3]\n",
      "Not setting metadata\n",
      "1048 matching events found\n",
      "No baseline correction applied\n",
      "0 projection items activated\n",
      "Using data from preloaded Raw for 1048 events and 1025 original time points ...\n",
      "0 bad epochs dropped\n"
     ]
    },
    {
     "name": "stderr",
     "output_type": "stream",
     "text": [
      " 94%|█████████▍| 32/34 [00:17<00:01,  1.60it/s]"
     ]
    },
    {
     "name": "stdout",
     "output_type": "stream",
     "text": [
      "NOTE: pick_channels() is a legacy function. New code should use inst.pick(...).\n",
      "1284 events found\n",
      "Event IDs: [1 2 3]\n",
      "Not setting metadata\n",
      "1283 matching events found\n",
      "No baseline correction applied\n",
      "0 projection items activated\n",
      "Using data from preloaded Raw for 1283 events and 1025 original time points ...\n",
      "0 bad epochs dropped\n"
     ]
    },
    {
     "name": "stderr",
     "output_type": "stream",
     "text": [
      " 97%|█████████▋| 33/34 [00:18<00:00,  1.46it/s]"
     ]
    },
    {
     "name": "stdout",
     "output_type": "stream",
     "text": [
      "NOTE: pick_channels() is a legacy function. New code should use inst.pick(...).\n",
      "1357 events found\n",
      "Event IDs: [1 2]\n",
      "Not setting metadata\n",
      "1357 matching events found\n",
      "No baseline correction applied\n",
      "0 projection items activated\n",
      "Using data from preloaded Raw for 1357 events and 1025 original time points ...\n",
      "0 bad epochs dropped\n"
     ]
    },
    {
     "name": "stderr",
     "output_type": "stream",
     "text": [
      "100%|██████████| 34/34 [00:19<00:00,  1.76it/s]\n"
     ]
    }
   ],
   "source": [
    "event_frame = pd.DataFrame()\n",
    "\n",
    "# Loop through only those channels with detected SW or KC\n",
    "sw_kc_channels = pd.concat([sw_times['channel'], kc_times['channel']]).unique()\n",
    "\n",
    "for channel in tqdm(sw_kc_channels):\n",
    "\n",
    "    # Create a channel-specific Raw object\n",
    "    temp_raw = raw.copy().pick_channels(ch_names = [channel])\n",
    "\n",
    "    # Create channel-specific Event numpy arrays\n",
    "    chan_sw = np.array(sw_times[sw_times.channel == channel][['sample', 'dummy_0', 'event_id']])\n",
    "    chan_kc = np.array(kc_times[kc_times.channel == channel][['sample', 'dummy_0', 'event_id']])\n",
    "\n",
    "    # Add the empty dummy channel to the data\n",
    "    temp_raw.add_channels([events_channel], force_update_info = True)\n",
    "\n",
    "    # Now update the dummy events ('stim') channel with the \n",
    "    # event times and then convert them to MNE events\n",
    "    event_dictionary = {'slow_wave' : 1}\n",
    "    \n",
    "    temp_raw.add_events(chan_sw, 'events')\n",
    "\n",
    "    # If any K-Complexes were detected, overwrite above\n",
    "    if (len(chan_kc) > 0):\n",
    "\n",
    "        event_dictionary = {'slow_wave' : 1,\n",
    "                            'k_complex' : 2}\n",
    "        \n",
    "        temp_raw.add_events(chan_kc, 'events')\n",
    "\n",
    "    # Find events\n",
    "    events = mne.find_events(raw = temp_raw, \n",
    "                             shortest_event = 1, # include events of length 1 sample \n",
    "                             initial_event = True) # include events occuring at sample 0\n",
    "\n",
    "    # Create an MNE Epochs object using the modified MNE Raw object\n",
    "    epochs = mne.Epochs(temp_raw, \n",
    "                        preload = True, \n",
    "                        events = events, \n",
    "                        event_id = event_dictionary, \n",
    "                        baseline = None, \n",
    "                        verbose = True, \n",
    "                        tmin = -2, \n",
    "                        tmax = 2, \n",
    "                        decim = 1)\n",
    "\n",
    "    # Drop the event channel before exporting data\n",
    "    epochs = epochs.drop_channels(['events'])\n",
    "\n",
    "    # Format the Epochs object into a pandas dataframe\n",
    "    epochs = epochs.to_data_frame(scalings = dict(seeg = 1e6, eeg = 1e6))\n",
    "    epochs = epochs.set_index(['time', 'condition', 'epoch']).stack().reset_index()\n",
    "    epochs.columns = ['time', 'condition', 'epoch', 'channel', 'value']\n",
    "\n",
    "    # Average sleep events within channel (optional)\n",
    "    epochs.drop(columns = ['epoch'], inplace = True)\n",
    "    epochs = epochs.groupby(['time', 'condition', 'channel']).mean().reset_index()\n",
    "\n",
    "    # Get data and annotate event type (SW/KC)\n",
    "    event_frame = pd.concat([event_frame, epochs])"
   ]
  },
  {
   "cell_type": "code",
   "execution_count": 14,
   "metadata": {},
   "outputs": [],
   "source": [
    "event_frame.to_csv(save_path)"
   ]
  }
 ],
 "metadata": {
  "kernelspec": {
   "display_name": "sandbox",
   "language": "python",
   "name": "python3"
  },
  "language_info": {
   "codemirror_mode": {
    "name": "ipython",
    "version": 3
   },
   "file_extension": ".py",
   "mimetype": "text/x-python",
   "name": "python",
   "nbconvert_exporter": "python",
   "pygments_lexer": "ipython3",
   "version": "3.11.4"
  },
  "orig_nbformat": 4,
  "vscode": {
   "interpreter": {
    "hash": "bceaa3bdda3825794b37c15d2000316b6f4a45a3d4f5e14660beed4f1d5f7638"
   }
  }
 },
 "nbformat": 4,
 "nbformat_minor": 2
}
