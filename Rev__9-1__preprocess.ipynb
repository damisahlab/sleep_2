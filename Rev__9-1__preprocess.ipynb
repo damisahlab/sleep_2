{
 "cells": [
  {
   "attachments": {},
   "cell_type": "markdown",
   "metadata": {},
   "source": [
    "### Configuration"
   ]
  },
  {
   "cell_type": "code",
   "execution_count": 1,
   "metadata": {},
   "outputs": [],
   "source": [
    "import os\n",
    "import re\n",
    "import numpy as np\n",
    "import pandas as pd\n",
    "\n",
    "import mne\n",
    "from tqdm import tqdm\n",
    "import datetime\n",
    "import hdf5storage\n",
    "\n",
    "import utils__config"
   ]
  },
  {
   "cell_type": "code",
   "execution_count": 2,
   "metadata": {},
   "outputs": [
    {
     "data": {
      "text/plain": [
       "'Z:\\\\Layton\\\\Sleep_083023'"
      ]
     },
     "execution_count": 2,
     "metadata": {},
     "output_type": "execute_result"
    }
   ],
   "source": [
    "os.chdir(utils__config.working_directory)\n",
    "os.getcwd()"
   ]
  },
  {
   "attachments": {},
   "cell_type": "markdown",
   "metadata": {},
   "source": [
    "### Parameters"
   ]
  },
  {
   "cell_type": "code",
   "execution_count": 3,
   "metadata": {},
   "outputs": [],
   "source": [
    "# dir_path = 'Z:/Layton/Sleep_083023/Cache/Subject01/S01_Feb02_wclus__1___ns5_to_mat'\n",
    "# save_path = 'Cache/Subject01/S01_Feb02_micro_1024hz.fif'\n",
    "\n",
    "# dir_path = 'Z:/Layton/Sleep_083023/Cache/Subject05/Jul11/S05_Jul11_wclus__1___ns5_to_mat'\n",
    "# save_path = 'Cache/Subject05/Jul11/S05_Jul11_micro_1024hz.fif'\n",
    "\n",
    "# dir_path = 'Z:/Layton/Sleep_083023/Cache/Subject05/Jul12/S05_Jul12_wclus__1___ns5_to_mat'\n",
    "# save_path = 'Cache/Subject05/Jul12/S05_Jul12_micro_1024hz.fif'\n",
    "\n",
    "dir_path = 'Z:/Layton/Sleep_083023/Cache/Subject05/Jul13/S05_Jul13_wclus__1___ns5_to_mat'\n",
    "save_path = 'Cache/Subject05/Jul13/S05_Jul13_micro_1024hz.fif'"
   ]
  },
  {
   "cell_type": "code",
   "execution_count": null,
   "metadata": {},
   "outputs": [],
   "source": [
    "stop_channel = 64\n",
    "sampling_freq = 1024\n",
    "n_jobs = -4"
   ]
  },
  {
   "attachments": {},
   "cell_type": "markdown",
   "metadata": {},
   "source": [
    "### Convert MAT to MNE Object"
   ]
  },
  {
   "cell_type": "code",
   "execution_count": 4,
   "metadata": {},
   "outputs": [
    {
     "name": "stderr",
     "output_type": "stream",
     "text": [
      "  0%|          | 0/64 [00:00<?, ?it/s]"
     ]
    },
    {
     "name": "stdout",
     "output_type": "stream",
     "text": [
      "Creating RawArray with float64 data, n_channels=1, n_times=1123200001\n",
      "    Range : 0 ... 1123200000 =      0.000 ... 37440.000 secs\n",
      "Ready.\n",
      "Sampling frequency of the instance is already 1024.0, returning unmodified.\n"
     ]
    },
    {
     "name": "stderr",
     "output_type": "stream",
     "text": [
      "  2%|▏         | 1/64 [02:05<2:11:54, 125.63s/it]"
     ]
    },
    {
     "name": "stdout",
     "output_type": "stream",
     "text": [
      "Creating RawArray with float64 data, n_channels=1, n_times=1123200001\n",
      "    Range : 0 ... 1123200000 =      0.000 ... 37440.000 secs\n",
      "Ready.\n",
      "Sampling frequency of the instance is already 1024.0, returning unmodified.\n"
     ]
    },
    {
     "name": "stderr",
     "output_type": "stream",
     "text": [
      "  3%|▎         | 2/64 [04:05<2:06:26, 122.37s/it]"
     ]
    },
    {
     "name": "stdout",
     "output_type": "stream",
     "text": [
      "Creating RawArray with float64 data, n_channels=1, n_times=1123200001\n",
      "    Range : 0 ... 1123200000 =      0.000 ... 37440.000 secs\n",
      "Ready.\n",
      "Sampling frequency of the instance is already 1024.0, returning unmodified.\n"
     ]
    },
    {
     "name": "stderr",
     "output_type": "stream",
     "text": [
      "  5%|▍         | 3/64 [06:12<2:06:29, 124.41s/it]"
     ]
    },
    {
     "name": "stdout",
     "output_type": "stream",
     "text": [
      "Creating RawArray with float64 data, n_channels=1, n_times=1123200001\n",
      "    Range : 0 ... 1123200000 =      0.000 ... 37440.000 secs\n",
      "Ready.\n",
      "Sampling frequency of the instance is already 1024.0, returning unmodified.\n"
     ]
    },
    {
     "name": "stderr",
     "output_type": "stream",
     "text": [
      "  6%|▋         | 4/64 [08:12<2:02:36, 122.60s/it]"
     ]
    },
    {
     "name": "stdout",
     "output_type": "stream",
     "text": [
      "Creating RawArray with float64 data, n_channels=1, n_times=1123200001\n",
      "    Range : 0 ... 1123200000 =      0.000 ... 37440.000 secs\n",
      "Ready.\n",
      "Sampling frequency of the instance is already 1024.0, returning unmodified.\n"
     ]
    },
    {
     "name": "stderr",
     "output_type": "stream",
     "text": [
      "  8%|▊         | 5/64 [10:12<1:59:32, 121.57s/it]"
     ]
    },
    {
     "name": "stdout",
     "output_type": "stream",
     "text": [
      "Creating RawArray with float64 data, n_channels=1, n_times=1123200001\n",
      "    Range : 0 ... 1123200000 =      0.000 ... 37440.000 secs\n",
      "Ready.\n",
      "Sampling frequency of the instance is already 1024.0, returning unmodified.\n"
     ]
    },
    {
     "name": "stderr",
     "output_type": "stream",
     "text": [
      "  9%|▉         | 6/64 [12:11<1:56:38, 120.66s/it]"
     ]
    },
    {
     "name": "stdout",
     "output_type": "stream",
     "text": [
      "Creating RawArray with float64 data, n_channels=1, n_times=1123200001\n",
      "    Range : 0 ... 1123200000 =      0.000 ... 37440.000 secs\n",
      "Ready.\n",
      "Sampling frequency of the instance is already 1024.0, returning unmodified.\n"
     ]
    },
    {
     "name": "stderr",
     "output_type": "stream",
     "text": [
      " 11%|█         | 7/64 [14:11<1:54:29, 120.51s/it]"
     ]
    },
    {
     "name": "stdout",
     "output_type": "stream",
     "text": [
      "Creating RawArray with float64 data, n_channels=1, n_times=1123200001\n",
      "    Range : 0 ... 1123200000 =      0.000 ... 37440.000 secs\n",
      "Ready.\n",
      "Sampling frequency of the instance is already 1024.0, returning unmodified.\n"
     ]
    },
    {
     "name": "stderr",
     "output_type": "stream",
     "text": [
      " 12%|█▎        | 8/64 [16:12<1:52:37, 120.66s/it]"
     ]
    },
    {
     "name": "stdout",
     "output_type": "stream",
     "text": [
      "Creating RawArray with float64 data, n_channels=1, n_times=1123200001\n",
      "    Range : 0 ... 1123200000 =      0.000 ... 37440.000 secs\n",
      "Ready.\n",
      "Sampling frequency of the instance is already 1024.0, returning unmodified.\n"
     ]
    },
    {
     "name": "stderr",
     "output_type": "stream",
     "text": [
      " 14%|█▍        | 9/64 [18:14<1:50:57, 121.04s/it]"
     ]
    },
    {
     "name": "stdout",
     "output_type": "stream",
     "text": [
      "Creating RawArray with float64 data, n_channels=1, n_times=1123200001\n",
      "    Range : 0 ... 1123200000 =      0.000 ... 37440.000 secs\n",
      "Ready.\n",
      "Sampling frequency of the instance is already 1024.0, returning unmodified.\n"
     ]
    },
    {
     "name": "stderr",
     "output_type": "stream",
     "text": [
      " 16%|█▌        | 10/64 [20:14<1:48:44, 120.82s/it]"
     ]
    },
    {
     "name": "stdout",
     "output_type": "stream",
     "text": [
      "Creating RawArray with float64 data, n_channels=1, n_times=1123200001\n",
      "    Range : 0 ... 1123200000 =      0.000 ... 37440.000 secs\n",
      "Ready.\n",
      "Sampling frequency of the instance is already 1024.0, returning unmodified.\n"
     ]
    },
    {
     "name": "stderr",
     "output_type": "stream",
     "text": [
      " 17%|█▋        | 11/64 [22:15<1:46:50, 120.96s/it]"
     ]
    },
    {
     "name": "stdout",
     "output_type": "stream",
     "text": [
      "Creating RawArray with float64 data, n_channels=1, n_times=1123200001\n",
      "    Range : 0 ... 1123200000 =      0.000 ... 37440.000 secs\n",
      "Ready.\n",
      "Sampling frequency of the instance is already 1024.0, returning unmodified.\n"
     ]
    },
    {
     "name": "stderr",
     "output_type": "stream",
     "text": [
      " 19%|█▉        | 12/64 [24:20<1:45:50, 122.13s/it]"
     ]
    },
    {
     "name": "stdout",
     "output_type": "stream",
     "text": [
      "Creating RawArray with float64 data, n_channels=1, n_times=1123200001\n",
      "    Range : 0 ... 1123200000 =      0.000 ... 37440.000 secs\n",
      "Ready.\n",
      "Sampling frequency of the instance is already 1024.0, returning unmodified.\n"
     ]
    },
    {
     "name": "stderr",
     "output_type": "stream",
     "text": [
      " 20%|██        | 13/64 [26:22<1:43:42, 122.01s/it]"
     ]
    },
    {
     "name": "stdout",
     "output_type": "stream",
     "text": [
      "Creating RawArray with float64 data, n_channels=1, n_times=1123200001\n",
      "    Range : 0 ... 1123200000 =      0.000 ... 37440.000 secs\n",
      "Ready.\n",
      "Sampling frequency of the instance is already 1024.0, returning unmodified.\n"
     ]
    },
    {
     "name": "stderr",
     "output_type": "stream",
     "text": [
      " 22%|██▏       | 14/64 [28:23<1:41:25, 121.71s/it]"
     ]
    },
    {
     "name": "stdout",
     "output_type": "stream",
     "text": [
      "Creating RawArray with float64 data, n_channels=1, n_times=1123200001\n",
      "    Range : 0 ... 1123200000 =      0.000 ... 37440.000 secs\n",
      "Ready.\n",
      "Sampling frequency of the instance is already 1024.0, returning unmodified.\n"
     ]
    },
    {
     "name": "stderr",
     "output_type": "stream",
     "text": [
      " 23%|██▎       | 15/64 [30:23<1:39:04, 121.32s/it]"
     ]
    },
    {
     "name": "stdout",
     "output_type": "stream",
     "text": [
      "Creating RawArray with float64 data, n_channels=1, n_times=1123200001\n",
      "    Range : 0 ... 1123200000 =      0.000 ... 37440.000 secs\n",
      "Ready.\n",
      "Sampling frequency of the instance is already 1024.0, returning unmodified.\n"
     ]
    },
    {
     "name": "stderr",
     "output_type": "stream",
     "text": [
      " 25%|██▌       | 16/64 [32:25<1:37:05, 121.36s/it]"
     ]
    },
    {
     "name": "stdout",
     "output_type": "stream",
     "text": [
      "Creating RawArray with float64 data, n_channels=1, n_times=1123200001\n",
      "    Range : 0 ... 1123200000 =      0.000 ... 37440.000 secs\n",
      "Ready.\n",
      "Sampling frequency of the instance is already 1024.0, returning unmodified.\n"
     ]
    },
    {
     "name": "stderr",
     "output_type": "stream",
     "text": [
      " 27%|██▋       | 17/64 [34:26<1:35:02, 121.32s/it]"
     ]
    },
    {
     "name": "stdout",
     "output_type": "stream",
     "text": [
      "Creating RawArray with float64 data, n_channels=1, n_times=1123200001\n",
      "    Range : 0 ... 1123200000 =      0.000 ... 37440.000 secs\n",
      "Ready.\n",
      "Sampling frequency of the instance is already 1024.0, returning unmodified.\n"
     ]
    },
    {
     "name": "stderr",
     "output_type": "stream",
     "text": [
      " 28%|██▊       | 18/64 [36:30<1:33:37, 122.12s/it]"
     ]
    },
    {
     "name": "stdout",
     "output_type": "stream",
     "text": [
      "Creating RawArray with float64 data, n_channels=1, n_times=1123200001\n",
      "    Range : 0 ... 1123200000 =      0.000 ... 37440.000 secs\n",
      "Ready.\n",
      "Sampling frequency of the instance is already 1024.0, returning unmodified.\n"
     ]
    },
    {
     "name": "stderr",
     "output_type": "stream",
     "text": [
      " 30%|██▉       | 19/64 [38:30<1:31:12, 121.62s/it]"
     ]
    },
    {
     "name": "stdout",
     "output_type": "stream",
     "text": [
      "Creating RawArray with float64 data, n_channels=1, n_times=1123200001\n",
      "    Range : 0 ... 1123200000 =      0.000 ... 37440.000 secs\n",
      "Ready.\n",
      "Sampling frequency of the instance is already 1024.0, returning unmodified.\n"
     ]
    },
    {
     "name": "stderr",
     "output_type": "stream",
     "text": [
      " 31%|███▏      | 20/64 [40:32<1:29:10, 121.61s/it]"
     ]
    },
    {
     "name": "stdout",
     "output_type": "stream",
     "text": [
      "Creating RawArray with float64 data, n_channels=1, n_times=1123200001\n",
      "    Range : 0 ... 1123200000 =      0.000 ... 37440.000 secs\n",
      "Ready.\n",
      "Sampling frequency of the instance is already 1024.0, returning unmodified.\n"
     ]
    },
    {
     "name": "stderr",
     "output_type": "stream",
     "text": [
      " 33%|███▎      | 21/64 [42:38<1:28:12, 123.07s/it]"
     ]
    },
    {
     "name": "stdout",
     "output_type": "stream",
     "text": [
      "Creating RawArray with float64 data, n_channels=1, n_times=1123200001\n",
      "    Range : 0 ... 1123200000 =      0.000 ... 37440.000 secs\n",
      "Ready.\n",
      "Sampling frequency of the instance is already 1024.0, returning unmodified.\n"
     ]
    },
    {
     "name": "stderr",
     "output_type": "stream",
     "text": [
      " 34%|███▍      | 22/64 [44:39<1:25:34, 122.25s/it]"
     ]
    },
    {
     "name": "stdout",
     "output_type": "stream",
     "text": [
      "Creating RawArray with float64 data, n_channels=1, n_times=1123200001\n",
      "    Range : 0 ... 1123200000 =      0.000 ... 37440.000 secs\n",
      "Ready.\n",
      "Sampling frequency of the instance is already 1024.0, returning unmodified.\n"
     ]
    },
    {
     "name": "stderr",
     "output_type": "stream",
     "text": [
      " 36%|███▌      | 23/64 [46:43<1:23:53, 122.78s/it]"
     ]
    },
    {
     "name": "stdout",
     "output_type": "stream",
     "text": [
      "Creating RawArray with float64 data, n_channels=1, n_times=1123200001\n",
      "    Range : 0 ... 1123200000 =      0.000 ... 37440.000 secs\n",
      "Ready.\n",
      "Sampling frequency of the instance is already 1024.0, returning unmodified.\n"
     ]
    },
    {
     "name": "stderr",
     "output_type": "stream",
     "text": [
      " 38%|███▊      | 24/64 [48:48<1:22:21, 123.54s/it]"
     ]
    },
    {
     "name": "stdout",
     "output_type": "stream",
     "text": [
      "Creating RawArray with float64 data, n_channels=1, n_times=1123200001\n",
      "    Range : 0 ... 1123200000 =      0.000 ... 37440.000 secs\n",
      "Ready.\n",
      "Sampling frequency of the instance is already 1024.0, returning unmodified.\n"
     ]
    },
    {
     "name": "stderr",
     "output_type": "stream",
     "text": [
      " 39%|███▉      | 25/64 [50:50<1:19:57, 123.01s/it]"
     ]
    },
    {
     "name": "stdout",
     "output_type": "stream",
     "text": [
      "Creating RawArray with float64 data, n_channels=1, n_times=1123200001\n",
      "    Range : 0 ... 1123200000 =      0.000 ... 37440.000 secs\n",
      "Ready.\n",
      "Sampling frequency of the instance is already 1024.0, returning unmodified.\n"
     ]
    },
    {
     "name": "stderr",
     "output_type": "stream",
     "text": [
      " 41%|████      | 26/64 [52:55<1:18:20, 123.70s/it]"
     ]
    },
    {
     "name": "stdout",
     "output_type": "stream",
     "text": [
      "Creating RawArray with float64 data, n_channels=1, n_times=1123200001\n",
      "    Range : 0 ... 1123200000 =      0.000 ... 37440.000 secs\n",
      "Ready.\n",
      "Sampling frequency of the instance is already 1024.0, returning unmodified.\n"
     ]
    },
    {
     "name": "stderr",
     "output_type": "stream",
     "text": [
      " 42%|████▏     | 27/64 [54:58<1:16:03, 123.35s/it]"
     ]
    },
    {
     "name": "stdout",
     "output_type": "stream",
     "text": [
      "Creating RawArray with float64 data, n_channels=1, n_times=1123200001\n",
      "    Range : 0 ... 1123200000 =      0.000 ... 37440.000 secs\n",
      "Ready.\n",
      "Sampling frequency of the instance is already 1024.0, returning unmodified.\n"
     ]
    },
    {
     "name": "stderr",
     "output_type": "stream",
     "text": [
      " 44%|████▍     | 28/64 [56:59<1:13:38, 122.74s/it]"
     ]
    },
    {
     "name": "stdout",
     "output_type": "stream",
     "text": [
      "Creating RawArray with float64 data, n_channels=1, n_times=1123200001\n",
      "    Range : 0 ... 1123200000 =      0.000 ... 37440.000 secs\n",
      "Ready.\n",
      "Sampling frequency of the instance is already 1024.0, returning unmodified.\n"
     ]
    },
    {
     "name": "stderr",
     "output_type": "stream",
     "text": [
      " 45%|████▌     | 29/64 [59:02<1:11:37, 122.78s/it]"
     ]
    },
    {
     "name": "stdout",
     "output_type": "stream",
     "text": [
      "Creating RawArray with float64 data, n_channels=1, n_times=1123200001\n",
      "    Range : 0 ... 1123200000 =      0.000 ... 37440.000 secs\n",
      "Ready.\n",
      "Sampling frequency of the instance is already 1024.0, returning unmodified.\n"
     ]
    },
    {
     "name": "stderr",
     "output_type": "stream",
     "text": [
      " 47%|████▋     | 30/64 [1:01:03<1:09:21, 122.38s/it]"
     ]
    },
    {
     "name": "stdout",
     "output_type": "stream",
     "text": [
      "Creating RawArray with float64 data, n_channels=1, n_times=1123200001\n",
      "    Range : 0 ... 1123200000 =      0.000 ... 37440.000 secs\n",
      "Ready.\n",
      "Sampling frequency of the instance is already 1024.0, returning unmodified.\n"
     ]
    },
    {
     "name": "stderr",
     "output_type": "stream",
     "text": [
      " 48%|████▊     | 31/64 [1:03:04<1:06:58, 121.77s/it]"
     ]
    },
    {
     "name": "stdout",
     "output_type": "stream",
     "text": [
      "Creating RawArray with float64 data, n_channels=1, n_times=1123200001\n",
      "    Range : 0 ... 1123200000 =      0.000 ... 37440.000 secs\n",
      "Ready.\n",
      "Sampling frequency of the instance is already 1024.0, returning unmodified.\n"
     ]
    },
    {
     "name": "stderr",
     "output_type": "stream",
     "text": [
      " 50%|█████     | 32/64 [1:05:05<1:04:48, 121.51s/it]"
     ]
    },
    {
     "name": "stdout",
     "output_type": "stream",
     "text": [
      "Creating RawArray with float64 data, n_channels=1, n_times=1123200001\n",
      "    Range : 0 ... 1123200000 =      0.000 ... 37440.000 secs\n",
      "Ready.\n",
      "Sampling frequency of the instance is already 1024.0, returning unmodified.\n"
     ]
    },
    {
     "name": "stderr",
     "output_type": "stream",
     "text": [
      " 52%|█████▏    | 33/64 [1:07:09<1:03:14, 122.41s/it]"
     ]
    },
    {
     "name": "stdout",
     "output_type": "stream",
     "text": [
      "Creating RawArray with float64 data, n_channels=1, n_times=1123200001\n",
      "    Range : 0 ... 1123200000 =      0.000 ... 37440.000 secs\n",
      "Ready.\n",
      "Sampling frequency of the instance is already 1024.0, returning unmodified.\n"
     ]
    },
    {
     "name": "stderr",
     "output_type": "stream",
     "text": [
      " 53%|█████▎    | 34/64 [1:09:10<1:00:55, 121.84s/it]"
     ]
    },
    {
     "name": "stdout",
     "output_type": "stream",
     "text": [
      "Creating RawArray with float64 data, n_channels=1, n_times=1123200001\n",
      "    Range : 0 ... 1123200000 =      0.000 ... 37440.000 secs\n",
      "Ready.\n",
      "Sampling frequency of the instance is already 1024.0, returning unmodified.\n"
     ]
    },
    {
     "name": "stderr",
     "output_type": "stream",
     "text": [
      " 55%|█████▍    | 35/64 [1:11:12<58:56, 121.96s/it]  "
     ]
    },
    {
     "name": "stdout",
     "output_type": "stream",
     "text": [
      "Creating RawArray with float64 data, n_channels=1, n_times=1123200001\n",
      "    Range : 0 ... 1123200000 =      0.000 ... 37440.000 secs\n",
      "Ready.\n",
      "Sampling frequency of the instance is already 1024.0, returning unmodified.\n"
     ]
    },
    {
     "name": "stderr",
     "output_type": "stream",
     "text": [
      " 56%|█████▋    | 36/64 [1:13:13<56:50, 121.80s/it]"
     ]
    },
    {
     "name": "stdout",
     "output_type": "stream",
     "text": [
      "Creating RawArray with float64 data, n_channels=1, n_times=1123200001\n",
      "    Range : 0 ... 1123200000 =      0.000 ... 37440.000 secs\n",
      "Ready.\n",
      "Sampling frequency of the instance is already 1024.0, returning unmodified.\n"
     ]
    },
    {
     "name": "stderr",
     "output_type": "stream",
     "text": [
      " 58%|█████▊    | 37/64 [1:15:14<54:42, 121.57s/it]"
     ]
    },
    {
     "name": "stdout",
     "output_type": "stream",
     "text": [
      "Creating RawArray with float64 data, n_channels=1, n_times=1123200001\n",
      "    Range : 0 ... 1123200000 =      0.000 ... 37440.000 secs\n",
      "Ready.\n",
      "Sampling frequency of the instance is already 1024.0, returning unmodified.\n"
     ]
    },
    {
     "name": "stderr",
     "output_type": "stream",
     "text": [
      " 59%|█████▉    | 38/64 [1:17:15<52:37, 121.43s/it]"
     ]
    },
    {
     "name": "stdout",
     "output_type": "stream",
     "text": [
      "Creating RawArray with float64 data, n_channels=1, n_times=1123200001\n",
      "    Range : 0 ... 1123200000 =      0.000 ... 37440.000 secs\n",
      "Ready.\n",
      "Sampling frequency of the instance is already 1024.0, returning unmodified.\n"
     ]
    },
    {
     "name": "stderr",
     "output_type": "stream",
     "text": [
      " 61%|██████    | 39/64 [1:19:18<50:43, 121.73s/it]"
     ]
    },
    {
     "name": "stdout",
     "output_type": "stream",
     "text": [
      "Creating RawArray with float64 data, n_channels=1, n_times=1123200001\n",
      "    Range : 0 ... 1123200000 =      0.000 ... 37440.000 secs\n",
      "Ready.\n",
      "Sampling frequency of the instance is already 1024.0, returning unmodified.\n"
     ]
    },
    {
     "name": "stderr",
     "output_type": "stream",
     "text": [
      " 62%|██████▎   | 40/64 [1:21:20<48:42, 121.79s/it]"
     ]
    },
    {
     "name": "stdout",
     "output_type": "stream",
     "text": [
      "Creating RawArray with float64 data, n_channels=1, n_times=1123200001\n",
      "    Range : 0 ... 1123200000 =      0.000 ... 37440.000 secs\n",
      "Ready.\n",
      "Sampling frequency of the instance is already 1024.0, returning unmodified.\n"
     ]
    },
    {
     "name": "stderr",
     "output_type": "stream",
     "text": [
      " 64%|██████▍   | 41/64 [1:23:28<47:25, 123.73s/it]"
     ]
    },
    {
     "name": "stdout",
     "output_type": "stream",
     "text": [
      "Creating RawArray with float64 data, n_channels=1, n_times=1123200001\n",
      "    Range : 0 ... 1123200000 =      0.000 ... 37440.000 secs\n",
      "Ready.\n",
      "Sampling frequency of the instance is already 1024.0, returning unmodified.\n"
     ]
    },
    {
     "name": "stderr",
     "output_type": "stream",
     "text": [
      " 66%|██████▌   | 42/64 [1:25:31<45:18, 123.57s/it]"
     ]
    },
    {
     "name": "stdout",
     "output_type": "stream",
     "text": [
      "Creating RawArray with float64 data, n_channels=1, n_times=1123200001\n",
      "    Range : 0 ... 1123200000 =      0.000 ... 37440.000 secs\n",
      "Ready.\n",
      "Sampling frequency of the instance is already 1024.0, returning unmodified.\n"
     ]
    },
    {
     "name": "stderr",
     "output_type": "stream",
     "text": [
      " 67%|██████▋   | 43/64 [1:27:34<43:11, 123.41s/it]"
     ]
    },
    {
     "name": "stdout",
     "output_type": "stream",
     "text": [
      "Creating RawArray with float64 data, n_channels=1, n_times=1123200001\n",
      "    Range : 0 ... 1123200000 =      0.000 ... 37440.000 secs\n",
      "Ready.\n",
      "Sampling frequency of the instance is already 1024.0, returning unmodified.\n"
     ]
    },
    {
     "name": "stderr",
     "output_type": "stream",
     "text": [
      " 69%|██████▉   | 44/64 [1:29:39<41:19, 123.96s/it]"
     ]
    },
    {
     "name": "stdout",
     "output_type": "stream",
     "text": [
      "Creating RawArray with float64 data, n_channels=1, n_times=1123200001\n",
      "    Range : 0 ... 1123200000 =      0.000 ... 37440.000 secs\n",
      "Ready.\n",
      "Sampling frequency of the instance is already 1024.0, returning unmodified.\n"
     ]
    },
    {
     "name": "stderr",
     "output_type": "stream",
     "text": [
      " 70%|███████   | 45/64 [1:31:41<39:04, 123.37s/it]"
     ]
    },
    {
     "name": "stdout",
     "output_type": "stream",
     "text": [
      "Creating RawArray with float64 data, n_channels=1, n_times=1123200001\n",
      "    Range : 0 ... 1123200000 =      0.000 ... 37440.000 secs\n",
      "Ready.\n",
      "Sampling frequency of the instance is already 1024.0, returning unmodified.\n"
     ]
    },
    {
     "name": "stderr",
     "output_type": "stream",
     "text": [
      " 72%|███████▏  | 46/64 [1:33:48<37:17, 124.29s/it]"
     ]
    },
    {
     "name": "stdout",
     "output_type": "stream",
     "text": [
      "Creating RawArray with float64 data, n_channels=1, n_times=1123200001\n",
      "    Range : 0 ... 1123200000 =      0.000 ... 37440.000 secs\n",
      "Ready.\n",
      "Sampling frequency of the instance is already 1024.0, returning unmodified.\n"
     ]
    },
    {
     "name": "stderr",
     "output_type": "stream",
     "text": [
      " 73%|███████▎  | 47/64 [1:35:53<35:17, 124.55s/it]"
     ]
    },
    {
     "name": "stdout",
     "output_type": "stream",
     "text": [
      "Creating RawArray with float64 data, n_channels=1, n_times=1123200001\n",
      "    Range : 0 ... 1123200000 =      0.000 ... 37440.000 secs\n",
      "Ready.\n",
      "Sampling frequency of the instance is already 1024.0, returning unmodified.\n"
     ]
    },
    {
     "name": "stderr",
     "output_type": "stream",
     "text": [
      " 75%|███████▌  | 48/64 [1:37:57<33:07, 124.25s/it]"
     ]
    },
    {
     "name": "stdout",
     "output_type": "stream",
     "text": [
      "Creating RawArray with float64 data, n_channels=1, n_times=1123200001\n",
      "    Range : 0 ... 1123200000 =      0.000 ... 37440.000 secs\n",
      "Ready.\n",
      "Sampling frequency of the instance is already 1024.0, returning unmodified.\n"
     ]
    },
    {
     "name": "stderr",
     "output_type": "stream",
     "text": [
      " 77%|███████▋  | 49/64 [1:39:59<30:56, 123.77s/it]"
     ]
    },
    {
     "name": "stdout",
     "output_type": "stream",
     "text": [
      "Creating RawArray with float64 data, n_channels=1, n_times=1123200001\n",
      "    Range : 0 ... 1123200000 =      0.000 ... 37440.000 secs\n",
      "Ready.\n",
      "Sampling frequency of the instance is already 1024.0, returning unmodified.\n"
     ]
    },
    {
     "name": "stderr",
     "output_type": "stream",
     "text": [
      " 78%|███████▊  | 50/64 [1:42:12<29:29, 126.36s/it]"
     ]
    },
    {
     "name": "stdout",
     "output_type": "stream",
     "text": [
      "Creating RawArray with float64 data, n_channels=1, n_times=1123200001\n",
      "    Range : 0 ... 1123200000 =      0.000 ... 37440.000 secs\n",
      "Ready.\n",
      "Sampling frequency of the instance is already 1024.0, returning unmodified.\n"
     ]
    },
    {
     "name": "stderr",
     "output_type": "stream",
     "text": [
      " 80%|███████▉  | 51/64 [1:44:17<27:17, 125.93s/it]"
     ]
    },
    {
     "name": "stdout",
     "output_type": "stream",
     "text": [
      "Creating RawArray with float64 data, n_channels=1, n_times=1123200001\n",
      "    Range : 0 ... 1123200000 =      0.000 ... 37440.000 secs\n",
      "Ready.\n",
      "Sampling frequency of the instance is already 1024.0, returning unmodified.\n"
     ]
    },
    {
     "name": "stderr",
     "output_type": "stream",
     "text": [
      " 81%|████████▏ | 52/64 [1:46:19<24:57, 124.76s/it]"
     ]
    },
    {
     "name": "stdout",
     "output_type": "stream",
     "text": [
      "Creating RawArray with float64 data, n_channels=1, n_times=1123200001\n",
      "    Range : 0 ... 1123200000 =      0.000 ... 37440.000 secs\n",
      "Ready.\n",
      "Sampling frequency of the instance is already 1024.0, returning unmodified.\n"
     ]
    },
    {
     "name": "stderr",
     "output_type": "stream",
     "text": [
      " 83%|████████▎ | 53/64 [1:48:26<23:01, 125.59s/it]"
     ]
    },
    {
     "name": "stdout",
     "output_type": "stream",
     "text": [
      "Creating RawArray with float64 data, n_channels=1, n_times=1123200001\n",
      "    Range : 0 ... 1123200000 =      0.000 ... 37440.000 secs\n",
      "Ready.\n",
      "Sampling frequency of the instance is already 1024.0, returning unmodified.\n"
     ]
    },
    {
     "name": "stderr",
     "output_type": "stream",
     "text": [
      " 84%|████████▍ | 54/64 [1:50:28<20:46, 124.62s/it]"
     ]
    },
    {
     "name": "stdout",
     "output_type": "stream",
     "text": [
      "Creating RawArray with float64 data, n_channels=1, n_times=1123200001\n",
      "    Range : 0 ... 1123200000 =      0.000 ... 37440.000 secs\n",
      "Ready.\n",
      "Sampling frequency of the instance is already 1024.0, returning unmodified.\n"
     ]
    },
    {
     "name": "stderr",
     "output_type": "stream",
     "text": [
      " 86%|████████▌ | 55/64 [1:52:31<18:36, 124.04s/it]"
     ]
    },
    {
     "name": "stdout",
     "output_type": "stream",
     "text": [
      "Creating RawArray with float64 data, n_channels=1, n_times=1123200001\n",
      "    Range : 0 ... 1123200000 =      0.000 ... 37440.000 secs\n",
      "Ready.\n",
      "Sampling frequency of the instance is already 1024.0, returning unmodified.\n"
     ]
    },
    {
     "name": "stderr",
     "output_type": "stream",
     "text": [
      " 88%|████████▊ | 56/64 [1:54:34<16:29, 123.73s/it]"
     ]
    },
    {
     "name": "stdout",
     "output_type": "stream",
     "text": [
      "Creating RawArray with float64 data, n_channels=1, n_times=1123200001\n",
      "    Range : 0 ... 1123200000 =      0.000 ... 37440.000 secs\n",
      "Ready.\n",
      "Sampling frequency of the instance is already 1024.0, returning unmodified.\n"
     ]
    },
    {
     "name": "stderr",
     "output_type": "stream",
     "text": [
      " 89%|████████▉ | 57/64 [1:56:46<14:43, 126.22s/it]"
     ]
    },
    {
     "name": "stdout",
     "output_type": "stream",
     "text": [
      "Creating RawArray with float64 data, n_channels=1, n_times=1123200001\n",
      "    Range : 0 ... 1123200000 =      0.000 ... 37440.000 secs\n",
      "Ready.\n",
      "Sampling frequency of the instance is already 1024.0, returning unmodified.\n"
     ]
    },
    {
     "name": "stderr",
     "output_type": "stream",
     "text": [
      " 91%|█████████ | 58/64 [1:58:51<12:35, 125.94s/it]"
     ]
    },
    {
     "name": "stdout",
     "output_type": "stream",
     "text": [
      "Creating RawArray with float64 data, n_channels=1, n_times=1123200001\n",
      "    Range : 0 ... 1123200000 =      0.000 ... 37440.000 secs\n",
      "Ready.\n",
      "Sampling frequency of the instance is already 1024.0, returning unmodified.\n"
     ]
    },
    {
     "name": "stderr",
     "output_type": "stream",
     "text": [
      " 92%|█████████▏| 59/64 [2:01:00<10:33, 126.66s/it]"
     ]
    },
    {
     "name": "stdout",
     "output_type": "stream",
     "text": [
      "Creating RawArray with float64 data, n_channels=1, n_times=1123200001\n",
      "    Range : 0 ... 1123200000 =      0.000 ... 37440.000 secs\n",
      "Ready.\n",
      "Sampling frequency of the instance is already 1024.0, returning unmodified.\n"
     ]
    },
    {
     "name": "stderr",
     "output_type": "stream",
     "text": [
      " 94%|█████████▍| 60/64 [2:03:05<08:25, 126.32s/it]"
     ]
    },
    {
     "name": "stdout",
     "output_type": "stream",
     "text": [
      "Creating RawArray with float64 data, n_channels=1, n_times=1123200001\n",
      "    Range : 0 ... 1123200000 =      0.000 ... 37440.000 secs\n",
      "Ready.\n",
      "Sampling frequency of the instance is already 1024.0, returning unmodified.\n"
     ]
    },
    {
     "name": "stderr",
     "output_type": "stream",
     "text": [
      " 95%|█████████▌| 61/64 [2:05:10<06:17, 125.97s/it]"
     ]
    },
    {
     "name": "stdout",
     "output_type": "stream",
     "text": [
      "Creating RawArray with float64 data, n_channels=1, n_times=1123200001\n",
      "    Range : 0 ... 1123200000 =      0.000 ... 37440.000 secs\n",
      "Ready.\n",
      "Sampling frequency of the instance is already 1024.0, returning unmodified.\n"
     ]
    },
    {
     "name": "stderr",
     "output_type": "stream",
     "text": [
      " 97%|█████████▋| 62/64 [2:07:16<04:11, 125.71s/it]"
     ]
    },
    {
     "name": "stdout",
     "output_type": "stream",
     "text": [
      "Creating RawArray with float64 data, n_channels=1, n_times=1123200001\n",
      "    Range : 0 ... 1123200000 =      0.000 ... 37440.000 secs\n",
      "Ready.\n",
      "Sampling frequency of the instance is already 1024.0, returning unmodified.\n"
     ]
    },
    {
     "name": "stderr",
     "output_type": "stream",
     "text": [
      " 98%|█████████▊| 63/64 [2:09:22<02:05, 125.86s/it]"
     ]
    },
    {
     "name": "stdout",
     "output_type": "stream",
     "text": [
      "Creating RawArray with float64 data, n_channels=1, n_times=1123200001\n",
      "    Range : 0 ... 1123200000 =      0.000 ... 37440.000 secs\n",
      "Ready.\n",
      "Sampling frequency of the instance is already 1024.0, returning unmodified.\n"
     ]
    },
    {
     "name": "stderr",
     "output_type": "stream",
     "text": [
      "100%|██████████| 64/64 [2:11:26<00:00, 123.23s/it]\n"
     ]
    }
   ],
   "source": [
    "for channel in tqdm(os.listdir(dir_path)[:stop_channel]):\n",
    "\n",
    "    # Load Data\n",
    "    file_path = os.path.join(dir_path, channel)\n",
    "    data = hdf5storage.loadmat(file_path)\n",
    "\n",
    "    # Convert V to uV\n",
    "    time_series = data['time_series'] * 1e-6\n",
    "\n",
    "    # Channel Name\n",
    "    ch_name = [re.search(r'Channel\\d+', channel).group(0)]\n",
    "\n",
    "    # Sampling Frequency\n",
    "    sfreq = data['meta_data']['sampling_rate'].astype(np.int64)[0][0][0]\n",
    "\n",
    "    # Start Time\n",
    "    raw_time = data['meta_data']['time_stamp'][0][0][0][0].astype(np.int64)\n",
    "    time_start = datetime.datetime(raw_time[0], raw_time[1], raw_time[3], \n",
    "                                   raw_time[4], raw_time[5], raw_time[6], \n",
    "                                   raw_time[7], tzinfo = datetime.timezone.utc)\n",
    "\n",
    "    # Create Raw object\n",
    "    info = mne.create_info(ch_names = ch_name,\n",
    "                           sfreq = sfreq,\n",
    "                           ch_types = 'seeg')\n",
    "\n",
    "    single_raw = mne.io.RawArray(data = time_series,\n",
    "                                 info = info)\n",
    "\n",
    "    single_raw.set_meas_date(time_start)\n",
    "\n",
    "    # Divide the recording in two if it's longer than 9.9 hours,\n",
    "    # because such a recording at 30 kHz is too much data for the\n",
    "    # MNE resample() function to handle.\n",
    "    total_time = single_raw.times[-1]\n",
    "    if total_time > 9.9 * 3600:  # 9.9 hours in seconds\n",
    "\n",
    "        overlap = total_time * 0.1  # 10% overlap\n",
    "        segment_length = total_time * 0.6  # 60% of total time\n",
    "\n",
    "        # First Segment: 0 - 60%\n",
    "        tmin = 0\n",
    "        segment1 = single_raw.copy().crop(tmin=tmin, tmax=tmin + segment_length)\n",
    "        segment1.resample(sfreq=sampling_freq)\n",
    "        segment1 = segment1.crop(tmin=tmin, tmax=total_time * 0.5)  # Crop to 50%\n",
    "\n",
    "        # Second Segment: 40% - 100%\n",
    "        tmin = total_time * 0.4  # Start at 40% of total time\n",
    "        segment2 = single_raw.copy().crop(tmin=tmin, tmax=total_time)\n",
    "        segment2.resample(sfreq=sampling_freq)\n",
    "        segment2 = segment2.crop(tmin=total_time * 0.5)  # Crop to 50%\n",
    "\n",
    "        # Concatenate the two segments\n",
    "        single_raw = mne.concatenate_raws([segment1, segment2])\n",
    "\n",
    "        # Resample\n",
    "        single_raw.resample(sfreq=sampling_freq)\n",
    "        \n",
    "    else:\n",
    "\n",
    "        single_raw.resample(sfreq=sampling_freq)\n",
    "\n",
    "    # Concatenate channels\n",
    "    if ('raw' in locals() or 'raw' in globals()):\n",
    "        raw.add_channels([single_raw])\n",
    "    else:\n",
    "        raw = single_raw.copy()"
   ]
  },
  {
   "attachments": {},
   "cell_type": "markdown",
   "metadata": {},
   "source": [
    "Filter"
   ]
  },
  {
   "cell_type": "code",
   "execution_count": 7,
   "metadata": {},
   "outputs": [
    {
     "name": "stdout",
     "output_type": "stream",
     "text": [
      "Filtering raw data in 2 contiguous segments\n",
      "Setting up band-pass filter from 0.3 - 2.6e+02 Hz\n",
      "\n",
      "FIR filter parameters\n",
      "---------------------\n",
      "Designing a one-pass, zero-phase, non-causal bandpass filter:\n",
      "- Windowed time-domain design (firwin) method\n",
      "- Hamming window with 0.0194 passband ripple and 53 dB stopband attenuation\n",
      "- Lower passband edge: 0.30\n",
      "- Lower transition bandwidth: 0.30 Hz (-6 dB cutoff frequency: 0.15 Hz)\n",
      "- Upper passband edge: 256.00 Hz\n",
      "- Upper transition bandwidth: 64.00 Hz (-6 dB cutoff frequency: 288.00 Hz)\n",
      "- Filter length: 11265 samples (11.001 s)\n",
      "\n"
     ]
    },
    {
     "name": "stderr",
     "output_type": "stream",
     "text": [
      "[Parallel(n_jobs=-4)]: Using backend LokyBackend with 29 concurrent workers.\n",
      "[Parallel(n_jobs=-4)]: Done  49 out of  64 | elapsed:   22.5s remaining:    6.8s\n",
      "[Parallel(n_jobs=-4)]: Done  62 out of  64 | elapsed:   24.3s remaining:    0.7s\n",
      "[Parallel(n_jobs=-4)]: Done  64 out of  64 | elapsed:   24.5s finished\n"
     ]
    },
    {
     "name": "stdout",
     "output_type": "stream",
     "text": [
      "Filtering raw data in 2 contiguous segments\n",
      "Setting up band-stop filter\n",
      "\n",
      "FIR filter parameters\n",
      "---------------------\n",
      "Designing a one-pass, zero-phase, non-causal bandstop filter:\n",
      "- Windowed time-domain design (firwin) method\n",
      "- Hamming window with 0.0194 passband ripple and 53 dB stopband attenuation\n",
      "- Lower transition bandwidth: 0.50 Hz\n",
      "- Upper transition bandwidth: 0.50 Hz\n",
      "- Filter length: 6759 samples (6.601 s)\n",
      "\n"
     ]
    },
    {
     "name": "stderr",
     "output_type": "stream",
     "text": [
      "[Parallel(n_jobs=1)]: Done  17 tasks      | elapsed:    5.6s\n"
     ]
    },
    {
     "name": "stdout",
     "output_type": "stream",
     "text": [
      "Setting up band-stop filter\n",
      "\n",
      "FIR filter parameters\n",
      "---------------------\n",
      "Designing a one-pass, zero-phase, non-causal bandstop filter:\n",
      "- Windowed time-domain design (firwin) method\n",
      "- Hamming window with 0.0194 passband ripple and 53 dB stopband attenuation\n",
      "- Lower transition bandwidth: 0.50 Hz\n",
      "- Upper transition bandwidth: 0.50 Hz\n",
      "- Filter length: 6759 samples (6.601 s)\n",
      "\n"
     ]
    },
    {
     "name": "stderr",
     "output_type": "stream",
     "text": [
      "[Parallel(n_jobs=1)]: Done  17 tasks      | elapsed:    1.1s\n"
     ]
    },
    {
     "data": {
      "text/html": [
       "<table class=\"table table-hover table-striped table-sm table-responsive small\">\n",
       "    <tr>\n",
       "        <th>Measurement date</th>\n",
       "        \n",
       "        <td>July 14, 2023  01:00:45 GMT</td>\n",
       "        \n",
       "    </tr>\n",
       "    <tr>\n",
       "        <th>Experimenter</th>\n",
       "        \n",
       "        <td>Unknown</td>\n",
       "        \n",
       "    </tr>\n",
       "        <th>Participant</th>\n",
       "        \n",
       "        <td>Unknown</td>\n",
       "        \n",
       "    </tr>\n",
       "    <tr>\n",
       "        <th>Digitized points</th>\n",
       "        \n",
       "        <td>0 points</td>\n",
       "        \n",
       "    </tr>\n",
       "    <tr>\n",
       "        <th>Good channels</th>\n",
       "        <td>64 sEEG</td>\n",
       "    </tr>\n",
       "    <tr>\n",
       "        <th>Bad channels</th>\n",
       "        <td>None</td>\n",
       "    </tr>\n",
       "    <tr>\n",
       "        <th>EOG channels</th>\n",
       "        <td>Not available</td>\n",
       "    </tr>\n",
       "    <tr>\n",
       "        <th>ECG channels</th>\n",
       "        <td>Not available</td>\n",
       "    \n",
       "    <tr>\n",
       "        <th>Sampling frequency</th>\n",
       "        <td>1024.00 Hz</td>\n",
       "    </tr>\n",
       "    \n",
       "    \n",
       "    <tr>\n",
       "        <th>Highpass</th>\n",
       "        <td>0.30 Hz</td>\n",
       "    </tr>\n",
       "    \n",
       "    \n",
       "    <tr>\n",
       "        <th>Lowpass</th>\n",
       "        <td>256.00 Hz</td>\n",
       "    </tr>\n",
       "    \n",
       "    \n",
       "    \n",
       "    <tr>\n",
       "        <th>Duration</th>\n",
       "        <td>06:14:24 (HH:MM:SS)</td>\n",
       "    </tr>\n",
       "</table>"
      ],
      "text/plain": [
       "<RawArray | 64 x 23003137 (22464.0 s), ~10.97 GB, data loaded>"
      ]
     },
     "execution_count": 7,
     "metadata": {},
     "output_type": "execute_result"
    }
   ],
   "source": [
    "# Bandpass filter \n",
    "raw.filter(l_freq = 0.3, h_freq = 256, n_jobs = n_jobs)\n",
    "\n",
    "# Notch filter to remove 60 Hz line noise\n",
    "raw.notch_filter(np.arange(60, sampling_freq/2, 60))"
   ]
  },
  {
   "attachments": {},
   "cell_type": "markdown",
   "metadata": {},
   "source": [
    "Export"
   ]
  },
  {
   "cell_type": "code",
   "execution_count": 8,
   "metadata": {},
   "outputs": [
    {
     "name": "stdout",
     "output_type": "stream",
     "text": [
      "Writing Z:\\Layton\\Sleep_083023\\Cache\\Subject05\\Jul13\\S05_Jul13_micro_1024hz.fif\n"
     ]
    },
    {
     "name": "stderr",
     "output_type": "stream",
     "text": [
      "C:\\Users\\lal85\\AppData\\Local\\Temp\\2\\ipykernel_11508\\2458318313.py:1: RuntimeWarning: This filename (Z:\\Layton\\Sleep_083023\\Cache\\Subject05\\Jul13\\S05_Jul13_micro_1024hz.fif) does not conform to MNE naming conventions. All raw files should end with raw.fif, raw_sss.fif, raw_tsss.fif, _meg.fif, _eeg.fif, _ieeg.fif, raw.fif.gz, raw_sss.fif.gz, raw_tsss.fif.gz, _meg.fif.gz, _eeg.fif.gz or _ieeg.fif.gz\n",
      "  raw.save(save_path, overwrite = True)\n"
     ]
    },
    {
     "name": "stdout",
     "output_type": "stream",
     "text": [
      "Overwriting existing file.\n",
      "Writing Z:\\Layton\\Sleep_083023\\Cache\\Subject05\\Jul13\\S05_Jul13_micro_1024hz-1.fif\n",
      "Overwriting existing file.\n",
      "Writing Z:\\Layton\\Sleep_083023\\Cache\\Subject05\\Jul13\\S05_Jul13_micro_1024hz-2.fif\n",
      "Closing Z:\\Layton\\Sleep_083023\\Cache\\Subject05\\Jul13\\S05_Jul13_micro_1024hz-2.fif\n",
      "Closing Z:\\Layton\\Sleep_083023\\Cache\\Subject05\\Jul13\\S05_Jul13_micro_1024hz-1.fif\n",
      "Closing Z:\\Layton\\Sleep_083023\\Cache\\Subject05\\Jul13\\S05_Jul13_micro_1024hz.fif\n",
      "[done]\n"
     ]
    }
   ],
   "source": [
    "raw.save(save_path, overwrite = True)"
   ]
  }
 ],
 "metadata": {
  "kernelspec": {
   "display_name": "sandbox",
   "language": "python",
   "name": "python3"
  },
  "language_info": {
   "codemirror_mode": {
    "name": "ipython",
    "version": 3
   },
   "file_extension": ".py",
   "mimetype": "text/x-python",
   "name": "python",
   "nbconvert_exporter": "python",
   "pygments_lexer": "ipython3",
   "version": "3.9.13"
  },
  "toc": {
   "base_numbering": 1,
   "nav_menu": {},
   "number_sections": true,
   "sideBar": true,
   "skip_h1_title": false,
   "title_cell": "Table of Contents",
   "title_sidebar": "Contents",
   "toc_cell": false,
   "toc_position": {},
   "toc_section_display": true,
   "toc_window_display": false
  },
  "varInspector": {
   "cols": {
    "lenName": 16,
    "lenType": 16,
    "lenVar": 40
   },
   "kernels_config": {
    "python": {
     "delete_cmd_postfix": "",
     "delete_cmd_prefix": "del ",
     "library": "var_list.py",
     "varRefreshCmd": "print(var_dic_list())"
    },
    "r": {
     "delete_cmd_postfix": ") ",
     "delete_cmd_prefix": "rm(",
     "library": "var_list.r",
     "varRefreshCmd": "cat(var_dic_list()) "
    }
   },
   "types_to_exclude": [
    "module",
    "function",
    "builtin_function_or_method",
    "instance",
    "_Feature"
   ],
   "window_display": false
  },
  "vscode": {
   "interpreter": {
    "hash": "bceaa3bdda3825794b37c15d2000316b6f4a45a3d4f5e14660beed4f1d5f7638"
   }
  }
 },
 "nbformat": 4,
 "nbformat_minor": 4
}
