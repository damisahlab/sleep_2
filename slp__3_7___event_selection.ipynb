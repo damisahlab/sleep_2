{
 "cells": [
  {
   "attachments": {},
   "cell_type": "markdown",
   "metadata": {},
   "source": [
    "### Configuration"
   ]
  },
  {
   "cell_type": "code",
   "execution_count": 1,
   "metadata": {},
   "outputs": [],
   "source": [
    "import os\n",
    "import numpy as np\n",
    "import pandas as pd\n",
    "\n",
    "from scipy.stats import zscore\n",
    "\n",
    "from utils__helpers_macro import ied_event_rejection, epoch_rejection\n",
    "from utils__helpers_macro import mark_isolation, robust_zscore\n",
    "import utils__config"
   ]
  },
  {
   "cell_type": "code",
   "execution_count": 2,
   "metadata": {},
   "outputs": [
    {
     "data": {
      "text/plain": [
       "'g:\\\\My Drive\\\\Residency\\\\Research\\\\Lab - Damisah\\\\Project - Sleep'"
      ]
     },
     "execution_count": 2,
     "metadata": {},
     "output_type": "execute_result"
    }
   ],
   "source": [
    "os.chdir(utils__config.working_directory)\n",
    "os.getcwd()"
   ]
  },
  {
   "attachments": {},
   "cell_type": "markdown",
   "metadata": {},
   "source": [
    "### Parameters"
   ]
  },
  {
   "cell_type": "code",
   "execution_count": 3,
   "metadata": {},
   "outputs": [],
   "source": [
    "potato_path = 'Cache/Subject01/S01_potatogram.csv'\n",
    "dictionary = 'Data/Subject01/S01_dictionary.xlsx'\n",
    "ied_path = 'Cache/Subject01/S01_IED.csv'\n",
    "epoch_path = 'Cache/Subject01/S01_bad_epochs.csv'\n",
    "raw_sw_path = 'Cache/Subject01/S01_SW_raw.csv'\n",
    "raw_kc_path = 'Cache/Subject01/S01_KC_raw.csv'\n",
    "raw_sp_path = 'Cache/Subject01/S01_SP_raw.csv'\n",
    "er_path = 'Cache/Subject01/S01_event_rates.csv'\n",
    "clean_sw_path = 'Cache/Subject01/S01_SW.csv'\n",
    "clean_sp_path = 'Cache/Subject01/S01_SP.csv'\n",
    "clean_kc_path = 'Cache/Subject01/S01_KC.csv'\n",
    "\n",
    "# potato_path = 'Cache/Subject02/Apr26/S02_potatogram.csv'\n",
    "# dictionary = 'Data/Subject02/S02_dictionary.xlsx'\n",
    "# ied_path = 'Cache/Subject02/Apr26/S02_IED.csv'\n",
    "# epoch_path = 'Cache/Subject02/Apr26/S02_bad_epochs.csv'\n",
    "# raw_sw_path = 'Cache/Subject02/Apr26/S02_SW_raw.csv'\n",
    "# raw_kc_path = 'Cache/Subject02/Apr26/S02_KC_raw.csv'\n",
    "# raw_sp_path = 'Cache/Subject02/Apr26/S02_SP_raw.csv'\n",
    "# er_path = 'Cache/Subject02/Apr26/S02_event_rates.csv'\n",
    "# clean_sw_path = 'Cache/Subject02/Apr26/S02_SW.csv'\n",
    "# clean_sp_path = 'Cache/Subject02/Apr26/S02_SP.csv'\n",
    "# clean_kc_path = 'Cache/Subject02/Apr26/S02_KC.csv'\n",
    "\n",
    "# potato_path = 'Cache/Subject02/Apr27/S02_potatogram.csv'\n",
    "# dictionary = 'Data/Subject02/S02_dictionary.xlsx'\n",
    "# ied_path = 'Cache/Subject02/Apr27/S02_IED.csv'\n",
    "# epoch_path = 'Cache/Subject02/Apr27/S02_bad_epochs.csv'\n",
    "# raw_sw_path = 'Cache/Subject02/Apr27/S02_SW_raw.csv'\n",
    "# raw_kc_path = 'Cache/Subject02/Apr27/S02_KC_raw.csv'\n",
    "# raw_sp_path = 'Cache/Subject02/Apr27/S02_SP_raw.csv'\n",
    "# er_path = 'Cache/Subject02/Apr27/S02_event_rates.csv'\n",
    "# clean_sw_path = 'Cache/Subject02/Apr27/S02_SW.csv'\n",
    "# clean_sp_path = 'Cache/Subject02/Apr27/S02_SP.csv'\n",
    "# clean_kc_path = 'Cache/Subject02/Apr27/S02_KC.csv'"
   ]
  },
  {
   "cell_type": "code",
   "execution_count": 5,
   "metadata": {},
   "outputs": [],
   "source": [
    "# Minimum number of events per minute of SWS\n",
    "sw_threshold = 3\n",
    "kc_threshold = 0.25\n",
    "sp_threshold = 0.25\n",
    "\n",
    "sampling_freq = 256"
   ]
  },
  {
   "attachments": {},
   "cell_type": "markdown",
   "metadata": {},
   "source": [
    "### Remove Events near IEDs"
   ]
  },
  {
   "cell_type": "code",
   "execution_count": 6,
   "metadata": {},
   "outputs": [],
   "source": [
    "ieds = pd.read_csv(ied_path)\n",
    "bad_epochs = pd.read_csv(epoch_path)\n",
    "slow_waves = pd.read_csv(raw_sw_path)\n",
    "k_complexes = pd.read_csv(raw_kc_path)\n",
    "spindles = pd.read_csv(raw_sp_path)"
   ]
  },
  {
   "cell_type": "code",
   "execution_count": 7,
   "metadata": {},
   "outputs": [
    {
     "name": "stdout",
     "output_type": "stream",
     "text": [
      "Number of rejected events:  11\n",
      "Total number of slow-waves:  23586\n"
     ]
    }
   ],
   "source": [
    "# Remove Slow Waves that overlap with IED's within +/- 1 second\n",
    "rejected_sw = ied_event_rejection(event_data = slow_waves,\n",
    "                                  ied_data = ieds,\n",
    "                                  rej_int = 1 # rejection interval in seconds\n",
    "                                  )\n",
    "\n",
    "slow_waves = slow_waves[~slow_waves['ID'].isin(rejected_sw)]\n",
    "print('Total number of slow-waves: ', len(slow_waves))"
   ]
  },
  {
   "cell_type": "code",
   "execution_count": 8,
   "metadata": {},
   "outputs": [
    {
     "name": "stdout",
     "output_type": "stream",
     "text": [
      "Number of rejected events:  0\n",
      "Total number of k-complexes:  1692\n"
     ]
    }
   ],
   "source": [
    "# Remove K-Complexes that overlap with IED's within +/- 1 second\n",
    "rejected_kc = ied_event_rejection(event_data = k_complexes,\n",
    "                                  ied_data = ieds,\n",
    "                                  rej_int = 1 # rejection interval in seconds\n",
    "                                  )\n",
    "\n",
    "k_complexes = k_complexes[~k_complexes['ID'].isin(rejected_kc)]\n",
    "print('Total number of k-complexes: ', len(k_complexes))"
   ]
  },
  {
   "cell_type": "code",
   "execution_count": 9,
   "metadata": {},
   "outputs": [
    {
     "name": "stdout",
     "output_type": "stream",
     "text": [
      "Number of rejected events:  3\n",
      "Total number of spindles:  7066\n"
     ]
    }
   ],
   "source": [
    "# Remove Spindles that overlap with IED's within +/- 1 second\n",
    "rejected_sp = ied_event_rejection(event_data = spindles,\n",
    "                                  ied_data = ieds,\n",
    "                                  rej_int = 1 # rejection interval in seconds\n",
    "                                  )\n",
    "\n",
    "spindles = spindles[~spindles['ID'].isin(rejected_sp)]\n",
    "print('Total number of spindles: ', len(spindles))"
   ]
  },
  {
   "attachments": {},
   "cell_type": "markdown",
   "metadata": {},
   "source": [
    "### Remove events intersecting with rejected epochs"
   ]
  },
  {
   "cell_type": "code",
   "execution_count": 10,
   "metadata": {},
   "outputs": [
    {
     "name": "stdout",
     "output_type": "stream",
     "text": [
      "Number of rejected events:  339\n",
      "Total number of slow-waves:  23247\n"
     ]
    }
   ],
   "source": [
    "rejected_sw = epoch_rejection(event_data = slow_waves,\n",
    "                              epoch_data = bad_epochs)\n",
    "\n",
    "slow_waves = slow_waves[~slow_waves['ID'].isin(rejected_sw)]\n",
    "print('Total number of slow-waves: ', len(slow_waves))"
   ]
  },
  {
   "cell_type": "code",
   "execution_count": 11,
   "metadata": {},
   "outputs": [
    {
     "name": "stdout",
     "output_type": "stream",
     "text": [
      "Number of rejected events:  43\n",
      "Total number of k-complexes:  1649\n"
     ]
    }
   ],
   "source": [
    "rejected_kc = epoch_rejection(event_data = k_complexes,\n",
    "                              epoch_data = bad_epochs)\n",
    "\n",
    "k_complexes = k_complexes[~k_complexes['ID'].isin(rejected_kc)]\n",
    "print('Total number of k-complexes: ', len(k_complexes))"
   ]
  },
  {
   "cell_type": "code",
   "execution_count": 12,
   "metadata": {},
   "outputs": [
    {
     "name": "stdout",
     "output_type": "stream",
     "text": [
      "Number of rejected events:  108\n",
      "Total number of spindles:  6958\n"
     ]
    }
   ],
   "source": [
    "rejected_sp = epoch_rejection(event_data = spindles,\n",
    "                              epoch_data = bad_epochs)\n",
    "\n",
    "spindles = spindles[~spindles['ID'].isin(rejected_sp)]\n",
    "print('Total number of spindles: ', len(spindles))"
   ]
  },
  {
   "attachments": {},
   "cell_type": "markdown",
   "metadata": {},
   "source": [
    "### Apply additional criteria for K-Complexes"
   ]
  },
  {
   "attachments": {},
   "cell_type": "markdown",
   "metadata": {},
   "source": [
    "Mark candidate events as K-Complexes if...\n",
    "1. It is isolated from other SW's by +/- 1.5 seconds\n",
    "2. Negative peak is asymmetrically prominent\n",
    "    - Peak-to-peak ratio > 3\n",
    "    - (or <0.66 if doing either positive or negative)\n",
    "4. It has a sharp slope (> 0.5 rSD compared to other SW's) - DEPRECATED"
   ]
  },
  {
   "attachments": {},
   "cell_type": "markdown",
   "metadata": {},
   "source": [
    "Mark isolated events"
   ]
  },
  {
   "cell_type": "code",
   "execution_count": 13,
   "metadata": {},
   "outputs": [
    {
     "name": "stdout",
     "output_type": "stream",
     "text": [
      "Number of isolated events:  1454\n"
     ]
    }
   ],
   "source": [
    "isolated_events = mark_isolation(event_data = k_complexes, rej_int = 1.5)\n",
    "\n",
    "k_complexes['isolated'] = False\n",
    "k_complexes.loc[k_complexes['ID'].isin(isolated_events), 'isolated'] = True"
   ]
  },
  {
   "attachments": {},
   "cell_type": "markdown",
   "metadata": {},
   "source": [
    "Mark events with large peak-to-trough ratios"
   ]
  },
  {
   "cell_type": "code",
   "execution_count": 14,
   "metadata": {},
   "outputs": [
    {
     "name": "stdout",
     "output_type": "stream",
     "text": [
      "Distribution of p2t ratios:\n",
      " count    1649.000000\n",
      "mean        4.127466\n",
      "std         4.434669\n",
      "min         0.541837\n",
      "25%         1.603966\n",
      "50%         2.614959\n",
      "75%         4.832712\n",
      "max        46.926998\n",
      "Name: p2t_ratio, dtype: float64 \n",
      "\n",
      "Number of large P2T-ratio K-Complexes:  697\n"
     ]
    }
   ],
   "source": [
    "k_complexes['p2t_ratio'] = k_complexes['ValNegPeak'].abs() / k_complexes['ValPosPeak']\n",
    "print('Distribution of p2t ratios:\\n', k_complexes['p2t_ratio'].describe(), '\\n')\n",
    "\n",
    "k_complexes['p2t'] = False\n",
    "#k_complexes.loc[(k_complexes['p2t_ratio'] > 2) | (k_complexes['p2t_ratio'] < 0.50), 'p2t'] = True\n",
    "k_complexes.loc[k_complexes['p2t_ratio'] > 3, 'p2t'] = True\n",
    "\n",
    "print('Number of large P2T-ratio K-Complexes: ', len(k_complexes.loc[k_complexes['p2t'] == True]))"
   ]
  },
  {
   "attachments": {},
   "cell_type": "markdown",
   "metadata": {},
   "source": [
    "Mark events that have a relatively sharp slope"
   ]
  },
  {
   "cell_type": "code",
   "execution_count": 15,
   "metadata": {},
   "outputs": [
    {
     "name": "stdout",
     "output_type": "stream",
     "text": [
      "Number of sharp slope K-Complexes:  559\n"
     ]
    }
   ],
   "source": [
    "k_complexes['slope_zscore'] = k_complexes.groupby('Channel')['Slope'].transform(robust_zscore)\n",
    "\n",
    "k_complexes['sharp_slope'] = False\n",
    "k_complexes.loc[k_complexes['slope_zscore'] > 0.5, 'sharp_slope'] = True\n",
    "\n",
    "print('Number of sharp slope K-Complexes: ', len(k_complexes.loc[k_complexes['sharp_slope'] == True]))"
   ]
  },
  {
   "attachments": {},
   "cell_type": "markdown",
   "metadata": {},
   "source": [
    "Create the final KC dataframe"
   ]
  },
  {
   "cell_type": "code",
   "execution_count": 16,
   "metadata": {},
   "outputs": [
    {
     "name": "stdout",
     "output_type": "stream",
     "text": [
      "Number of K-Complexes:  628\n"
     ]
    }
   ],
   "source": [
    "k_complexes = k_complexes[(k_complexes['isolated'] == True) & \n",
    "                          (k_complexes['p2t'] == True)# & \n",
    "                          #(k_complexes['sharp_slope'] == True)\n",
    "                          ]\n",
    "\n",
    "print('Number of K-Complexes: ', len(k_complexes))"
   ]
  },
  {
   "attachments": {},
   "cell_type": "markdown",
   "metadata": {},
   "source": [
    "### Remove channels with few events per minute"
   ]
  },
  {
   "cell_type": "code",
   "execution_count": 17,
   "metadata": {},
   "outputs": [
    {
     "name": "stdout",
     "output_type": "stream",
     "text": [
      "63.1 minutes of SWS\n"
     ]
    }
   ],
   "source": [
    "# Load hypnogram to calculate total SWS time\n",
    "hypnogram = np.loadtxt(potato_path, delimiter = ',')\n",
    "hypnogram = pd.DataFrame(hypnogram, columns = ['stage'])\n",
    "sws_samples = len(hypnogram.loc[hypnogram['stage'].isin([2, 3]), 'stage'])\n",
    "sws_minutes = (sws_samples / sampling_freq) / 60\n",
    "print(np.round(sws_minutes, decimals = 1), 'minutes of SWS')\n",
    "\n",
    "# Create event-per-minute summaries by channel\n",
    "sw_sum = pd.DataFrame(slow_waves.groupby('Channel').Channel.count())\n",
    "sw_sum.columns = ['sw']\n",
    "sw_sum = sw_sum.reset_index()\n",
    "sw_sum.sw = np.round(sw_sum.sw / sws_minutes, decimals = 1)\n",
    "\n",
    "kc_sum = pd.DataFrame(k_complexes.groupby('Channel').Channel.count())\n",
    "kc_sum.columns = ['kc']\n",
    "kc_sum = kc_sum.reset_index()\n",
    "kc_sum.kc = np.round(kc_sum.kc / sws_minutes, decimals = 1)\n",
    "\n",
    "sp_sum = pd.DataFrame(spindles.groupby('Channel').Channel.count())\n",
    "sp_sum.columns = ['sp']\n",
    "sp_sum = sp_sum.reset_index()\n",
    "sp_sum.sp = np.round(sp_sum.sp / sws_minutes, decimals = 1)\n",
    "\n",
    "# Export events-per-minute (epm) summary by channel\n",
    "event_sum = sw_sum.merge(kc_sum, on = 'Channel', how = 'outer')\n",
    "event_sum = event_sum.merge(sp_sum, on = 'Channel', how = 'outer')\n",
    "event_sum.to_csv(er_path, index = False)\n",
    "\n",
    "# Remove channels with less than event threshold\n",
    "sw_remove = sw_sum.loc[sw_sum.sw < sw_threshold, 'Channel']\n",
    "slow_waves = slow_waves[~slow_waves['Channel'].isin(sw_remove)]\n",
    "\n",
    "kc_remove = kc_sum.loc[kc_sum.kc < kc_threshold, 'Channel']\n",
    "k_complexes = k_complexes[~k_complexes['Channel'].isin(kc_remove)]\n",
    "\n",
    "sp_remove = sp_sum.loc[sp_sum.sp < sp_threshold, 'Channel']\n",
    "spindles = spindles[~spindles['Channel'].isin(sp_remove)]"
   ]
  },
  {
   "attachments": {},
   "cell_type": "markdown",
   "metadata": {},
   "source": [
    "Export"
   ]
  },
  {
   "cell_type": "code",
   "execution_count": 18,
   "metadata": {},
   "outputs": [],
   "source": [
    "slow_waves.to_csv(clean_sw_path, index = False)\n",
    "k_complexes.to_csv(clean_kc_path, index = False)\n",
    "spindles.to_csv(clean_sp_path, index = False)"
   ]
  }
 ],
 "metadata": {
  "kernelspec": {
   "display_name": "sandbox",
   "language": "python",
   "name": "python3"
  },
  "language_info": {
   "codemirror_mode": {
    "name": "ipython",
    "version": 3
   },
   "file_extension": ".py",
   "mimetype": "text/x-python",
   "name": "python",
   "nbconvert_exporter": "python",
   "pygments_lexer": "ipython3",
   "version": "3.9.12"
  },
  "orig_nbformat": 4,
  "vscode": {
   "interpreter": {
    "hash": "bceaa3bdda3825794b37c15d2000316b6f4a45a3d4f5e14660beed4f1d5f7638"
   }
  }
 },
 "nbformat": 4,
 "nbformat_minor": 2
}
