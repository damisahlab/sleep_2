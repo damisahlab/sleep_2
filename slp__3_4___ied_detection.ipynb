{
 "cells": [
  {
   "attachments": {},
   "cell_type": "markdown",
   "metadata": {},
   "source": [
    "### Configuration"
   ]
  },
  {
   "cell_type": "code",
   "execution_count": 1,
   "metadata": {},
   "outputs": [],
   "source": [
    "import os\n",
    "import numpy as np\n",
    "import pandas as pd\n",
    "import xarray as xr\n",
    "import mne\n",
    "\n",
    "import utils__config"
   ]
  },
  {
   "cell_type": "code",
   "execution_count": 2,
   "metadata": {},
   "outputs": [],
   "source": [
    "# You will need to install the Kleen Lab's IED detector manually by downloading it from GitHub,\n",
    "# dragging it into your environment library folder, and renaming it. Then drag the contents of\n",
    "# the linelength_event_detector sub-folder into the main folder. Conda doesn't like importing\n",
    "# packages (linelength_event_detector) if they have a sub-folder with the exact same name.\n",
    "\n",
    "from linelength_event_detector.lleventdetector import lleventdetector\n",
    "from linelength_event_detector.lltransform import lltransform\n",
    "from linelength_event_detector.lldetect_events import lldetect_events"
   ]
  },
  {
   "cell_type": "code",
   "execution_count": 3,
   "metadata": {},
   "outputs": [
    {
     "data": {
      "text/plain": [
       "'g:\\\\My Drive\\\\Residency\\\\Research\\\\Lab - Damisah\\\\Project - Sleep'"
      ]
     },
     "execution_count": 3,
     "metadata": {},
     "output_type": "execute_result"
    }
   ],
   "source": [
    "os.chdir(utils__config.working_directory)\n",
    "os.getcwd()"
   ]
  },
  {
   "attachments": {},
   "cell_type": "markdown",
   "metadata": {},
   "source": [
    "### Parameters"
   ]
  },
  {
   "cell_type": "code",
   "execution_count": 4,
   "metadata": {},
   "outputs": [],
   "source": [
    "fif_path = 'Cache/Subject01/S01_Feb02_256hz.fif'\n",
    "dictionary_path = 'Data/Subject01/S01_dictionary.xlsx'\n",
    "bad_channel_path = 'Cache/Subject01/S01_bad_channels.csv'\n",
    "ied_path = 'Cache/Subject01/S01_IED.csv'\n",
    "\n",
    "# fif_path = 'Cache/Subject02/Apr26/S02_Apr26_256hz.fif'\n",
    "# dictionary_path = 'Data/Subject02/S02_dictionary.xlsx'\n",
    "# bad_channel_path = 'Cache/Subject02/Apr26/S02_bad_channels.csv'\n",
    "# ied_path = 'Cache/Subject02/Apr26/S02_IED.csv'\n",
    "\n",
    "# fif_path = 'Cache/Subject02/Apr27/S02_Apr27_256hz.fif'\n",
    "# dictionary_path = 'Data/Subject02/S02_dictionary.xlsx'\n",
    "# bad_channel_path = 'Cache/Subject02/Apr27/S02_bad_channels.csv'\n",
    "# ied_path = 'Cache/Subject02/Apr27/S02_IED.csv'"
   ]
  },
  {
   "cell_type": "code",
   "execution_count": 6,
   "metadata": {},
   "outputs": [],
   "source": [
    "sampling_freq = 256"
   ]
  },
  {
   "attachments": {},
   "cell_type": "markdown",
   "metadata": {},
   "source": [
    "### IED Detection"
   ]
  },
  {
   "cell_type": "code",
   "execution_count": 7,
   "metadata": {},
   "outputs": [
    {
     "name": "stderr",
     "output_type": "stream",
     "text": [
      "C:\\Users\\Layton\\AppData\\Local\\Temp\\ipykernel_19800\\4201120138.py:1: RuntimeWarning: This filename (Cache/Subject01/S01_Feb02_256hz.fif) does not conform to MNE naming conventions. All raw files should end with raw.fif, raw_sss.fif, raw_tsss.fif, _meg.fif, _eeg.fif, _ieeg.fif, raw.fif.gz, raw_sss.fif.gz, raw_tsss.fif.gz, _meg.fif.gz, _eeg.fif.gz or _ieeg.fif.gz\n",
      "  raw = mne.io.read_raw_fif(fif_path, preload = True, verbose = False)\n"
     ]
    },
    {
     "name": "stdout",
     "output_type": "stream",
     "text": [
      "Channel count after bad channel removal: 68\n"
     ]
    }
   ],
   "source": [
    "raw = mne.io.read_raw_fif(fif_path, preload = True, verbose = False)\n",
    "\n",
    "# Select only macroelectrodes\n",
    "raw.pick_types(seeg = True, ecog = True)\n",
    "\n",
    "# Remove bad channels\n",
    "bad_channels = pd.read_csv(bad_channel_path)\n",
    "bad_channels = bad_channels[bad_channels['channel'].isin(raw.ch_names)]\n",
    "raw.drop_channels(ch_names = bad_channels['channel'].astype('string'))\n",
    "print('Channel count after bad channel removal:', len(raw.ch_names))"
   ]
  },
  {
   "cell_type": "code",
   "execution_count": 8,
   "metadata": {},
   "outputs": [],
   "source": [
    "ied_data = raw.get_data()\n",
    "\n",
    "#  Inputs: d = list of float values (EEG data)\n",
    "#          sfx = scalar (sampling frequency)\n",
    "\n",
    "# Outputs: ets = 2d list (each row is one event; column 0 is start times\n",
    "#                of each event; column 1 is stop times)\n",
    "#          ech = 1d list of strings (each string is 1 event, each element\n",
    "#                in string is the number of the channel involved)\n",
    "\n",
    "ets, ech = lldetect_events(d = ied_data, sfx = sampling_freq)"
   ]
  },
  {
   "cell_type": "code",
   "execution_count": 9,
   "metadata": {},
   "outputs": [],
   "source": [
    "# Split the channel numbers by their common divider, a comma\n",
    "channels = pd.DataFrame(ech)[0].str.split(',')\n",
    "\n",
    "# Convert IED times into a pandas dataframe for easier munging\n",
    "ied_times = pd.DataFrame(data=ets, columns=['start', 'stop'])\n",
    "\n",
    "# Initialize iterators\n",
    "ied_df = pd.DataFrame()\n",
    "ied_number = 0\n",
    "\n",
    "# For every list of channels in the big list\n",
    "for index in np.arange(0, len(channels)):\n",
    "    # select the IED start/stop times for this IED\n",
    "    times = ied_times.iloc[index]\n",
    "\n",
    "    # advance the IED unique identifier\n",
    "    ied_number = ied_number + 1\n",
    "\n",
    "    # for every channel in the list of channels\n",
    "    # that observed this particular IED\n",
    "    for sub_index in np.arange(0, len(channels[index])):\n",
    "        # since each list ends with a comma, each IED\n",
    "        # will have a fake \"empty\" channel its end\n",
    "        if channels[index][sub_index] == '':\n",
    "            continue\n",
    "\n",
    "        ch_index = int(channels[index][sub_index])\n",
    "        ch_name = raw.ch_names[ch_index]\n",
    "\n",
    "        # create the entry for this channel-IED combo\n",
    "        ied_series = pd.DataFrame((ied_number,\n",
    "                                   ch_name,\n",
    "                                   ied_times.iloc[index][0],\n",
    "                                   ied_times.iloc[index][1]))\n",
    "\n",
    "        # add to the growing big dataframe\n",
    "        ied_df = pd.concat([ied_df, ied_series.transpose()])\n",
    "\n",
    "# Formatting\n",
    "ied_df.columns = ['ied_number', 'name', 'start_time', 'stop_time']\n",
    "ied_df.ied_number = ied_df.ied_number.astype(int)\n",
    "\n",
    "# Merge with channel meta-data\n",
    "macro_df = pd.read_excel(dictionary_path)\n",
    "ied_df = ied_df.merge(macro_df, on='name')\n",
    "ied_df['ROI'] = ied_df['laterality'] + '_' + ied_df['region']\n",
    "\n",
    "# Convert start/stop times from 'samples' to 'seconds'\n",
    "ied_df['start_time'] = ied_df['start_time'] / sampling_freq\n",
    "ied_df['stop_time'] = ied_df['stop_time'] / sampling_freq"
   ]
  },
  {
   "cell_type": "code",
   "execution_count": 10,
   "metadata": {},
   "outputs": [],
   "source": [
    "ied_df.to_csv(ied_path, index = False)"
   ]
  }
 ],
 "metadata": {
  "kernelspec": {
   "display_name": "sandbox",
   "language": "python",
   "name": "python3"
  },
  "language_info": {
   "codemirror_mode": {
    "name": "ipython",
    "version": 3
   },
   "file_extension": ".py",
   "mimetype": "text/x-python",
   "name": "python",
   "nbconvert_exporter": "python",
   "pygments_lexer": "ipython3",
   "version": "3.9.12"
  },
  "orig_nbformat": 4
 },
 "nbformat": 4,
 "nbformat_minor": 2
}
