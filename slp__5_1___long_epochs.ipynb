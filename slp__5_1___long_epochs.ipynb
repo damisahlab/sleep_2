{
 "cells": [
  {
   "attachments": {},
   "cell_type": "markdown",
   "metadata": {},
   "source": [
    "### Configuration"
   ]
  },
  {
   "cell_type": "code",
   "execution_count": 1,
   "metadata": {},
   "outputs": [],
   "source": [
    "import os\n",
    "import re\n",
    "import numpy as np\n",
    "import pandas as pd\n",
    "import datetime\n",
    "\n",
    "import mne\n",
    "from scipy.stats import zscore\n",
    "from tqdm import tqdm\n",
    "\n",
    "from utils__helpers_macro import hilbert_powerphase, hilbert_envelope\n",
    "from utils__helpers_epoch import epoch_sw, epoch_sw_2, epoch_spikes\n",
    "import utils__config"
   ]
  },
  {
   "cell_type": "code",
   "execution_count": 2,
   "metadata": {},
   "outputs": [
    {
     "data": {
      "text/plain": [
       "'g:\\\\My Drive\\\\Residency\\\\Research\\\\Lab - Damisah\\\\Project - Sleep'"
      ]
     },
     "execution_count": 2,
     "metadata": {},
     "output_type": "execute_result"
    }
   ],
   "source": [
    "\n",
    "os.chdir(utils__config.working_directory)\n",
    "os.getcwd()"
   ]
  },
  {
   "attachments": {},
   "cell_type": "markdown",
   "metadata": {},
   "source": [
    "### Parameters"
   ]
  },
  {
   "cell_type": "code",
   "execution_count": 3,
   "metadata": {},
   "outputs": [],
   "source": [
    "fif_path = 'Cache/Subject01/S01_Feb02_256hz.fif'\n",
    "bad_channel_path = 'Cache/Subject01/S01_bad_channels.csv'\n",
    "hypno_path = 'Cache/Subject01/S01_hypnogram.csv' \n",
    "spike_path = 'Cache/Subject01/S01_spikes.csv'\n",
    "spike_out_path = 'Cache/Subject01/S01_spike_epochs_30s.csv'\n",
    "hypno_out_path = 'Cache/Subject01/S01_hypno_epochs_30s.csv' \n",
    "\n",
    "# fif_path = 'Cache/Subject02/Apr26/S02_Apr26_256hz.fif'\n",
    "# bad_channel_path = 'Cache/Subject02/Apr26/S02_bad_channels.csv'\n",
    "# hypno_path = 'Cache/Subject02/Apr26/S02_hypnogram.csv'\n",
    "# spike_path = 'Cache/Subject02/Apr26/S02_spikes.csv'\n",
    "# spike_out_path = 'Cache/Subject02/Apr26/S02_spike_epochs_30s.csv'\n",
    "# hypno_out_path = 'Cache/Subject02/Apr26/S02_hypno_epochs_30s.csv'\n",
    "\n",
    "# fif_path = 'Cache/Subject02/Apr27/S02_Apr27_256hz.fif'\n",
    "# bad_channel_path = 'Cache/Subject02/Apr27/S02_bad_channels.csv'\n",
    "# hypno_path = 'Cache/Subject02/Apr27/S02_hypnogram.csv'\n",
    "# spike_path = 'Cache/Subject02/Apr27/S02_spikes.csv'\n",
    "# spike_out_path = 'Cache/Subject02/Apr27/S02_spike_epochs_30s.csv'\n",
    "# hypno_out_path = 'Cache/Subject02/Apr27/S02_hypno_epochs_30s.csv'"
   ]
  },
  {
   "cell_type": "code",
   "execution_count": 4,
   "metadata": {},
   "outputs": [],
   "source": [
    "epoch_length = 30 # bin width in seconds\n",
    "sampling_freq = 256 # (s.f. used to detect slow waves)\n",
    "hypno_sfreq = 256 # (s.f. used to make hypnogram)\n",
    "tmin = 'none' # datetime.datetime(2022, 4, 28, 0, 0, 0, 0, tzinfo = datetime.timezone.utc)\n",
    "tmax = 'none'"
   ]
  },
  {
   "attachments": {},
   "cell_type": "markdown",
   "metadata": {},
   "source": [
    "### Load Data"
   ]
  },
  {
   "cell_type": "code",
   "execution_count": 5,
   "metadata": {},
   "outputs": [
    {
     "name": "stdout",
     "output_type": "stream",
     "text": [
      "Opening raw data file Cache/Subject01/S01_Feb02_256hz.fif...\n"
     ]
    },
    {
     "name": "stderr",
     "output_type": "stream",
     "text": [
      "C:\\Users\\Layton\\AppData\\Local\\Temp\\ipykernel_20200\\1349684526.py:1: RuntimeWarning: This filename (Cache/Subject01/S01_Feb02_256hz.fif) does not conform to MNE naming conventions. All raw files should end with raw.fif, raw_sss.fif, raw_tsss.fif, _meg.fif, _eeg.fif, _ieeg.fif, raw.fif.gz, raw_sss.fif.gz, raw_tsss.fif.gz, _meg.fif.gz, _eeg.fif.gz or _ieeg.fif.gz\n",
      "  raw = mne.io.read_raw_fif(fif_path, preload = True, verbose = None)\n"
     ]
    },
    {
     "name": "stdout",
     "output_type": "stream",
     "text": [
      "Isotrak not found\n",
      "    Range : 0 ... 1843573 =      0.000 ...  7201.457 secs\n",
      "Ready.\n",
      "Reading 0 ... 1843573  =      0.000 ...  7201.457 secs...\n"
     ]
    }
   ],
   "source": [
    "raw = mne.io.read_raw_fif(fif_path, preload = True, verbose = None)\n",
    "\n",
    "# Select only macroelectrodes\n",
    "raw.pick_types(seeg = True, ecog = True)\n",
    "\n",
    "# Remove rejected channels\n",
    "bad_channels = pd.read_csv(bad_channel_path)\n",
    "bad_channels = bad_channels[bad_channels['channel'].isin(raw.ch_names)]\n",
    "raw.drop_channels(ch_names = bad_channels['channel'].astype('string'))\n",
    "\n",
    "# Set the bin size; we set the stop interval\n",
    "# to the total length of the recording\n",
    "if tmin != 'none':\n",
    "\n",
    "    last_bin = int((tmax - tmin).seconds / epoch_length) # will use this later\n",
    "    bin_list = np.arange(0, (tmax - tmin).seconds + 1, epoch_length)\n",
    "\n",
    "# Define tmin/tmax as the start/end of recording if not specified\n",
    "else:\n",
    "    \n",
    "    tmin = raw.times[0]\n",
    "    tmax = raw.times[-1]\n",
    "\n",
    "    last_bin = int((tmax - tmin) / epoch_length) # will use this later\n",
    "    bin_list = np.arange(0, (tmax - tmin) + 1, epoch_length)"
   ]
  },
  {
   "attachments": {},
   "cell_type": "markdown",
   "metadata": {},
   "source": [
    "### Bin Hypnogram into Epochs"
   ]
  },
  {
   "cell_type": "code",
   "execution_count": 6,
   "metadata": {},
   "outputs": [],
   "source": [
    "hypno = pd.read_csv(hypno_path, header = None)\n",
    "hypno = hypno.reset_index()\n",
    "hypno.columns = ['idx', 'stage']\n",
    "\n",
    "# Bin the hypnogram into epochs based on sample number\n",
    "hypno['epoch'] = pd.cut(hypno['idx'], bins = bin_list * hypno_sfreq, labels = False, include_lowest = True)\n",
    "\n",
    "# Select the mode of the sleep stage within each epoch\n",
    "hypno = hypno.groupby(['epoch'])['stage'].agg(pd.Series.mode).reset_index()\n",
    "\n",
    "hypno.to_csv(hypno_out_path, index = False)"
   ]
  },
  {
   "attachments": {},
   "cell_type": "markdown",
   "metadata": {},
   "source": [
    "### Bin spikes into FR per Epoch"
   ]
  },
  {
   "cell_type": "code",
   "execution_count": 7,
   "metadata": {},
   "outputs": [],
   "source": [
    "spikes = epoch_spikes(spike_path = spike_path, \n",
    "                      bin_width = epoch_length, \n",
    "                      bin_list = bin_list, \n",
    "                      last_bin = last_bin)\n",
    "\n",
    "spikes.to_csv(spike_out_path, index = False)"
   ]
  }
 ],
 "metadata": {
  "kernelspec": {
   "display_name": "sandbox",
   "language": "python",
   "name": "python3"
  },
  "language_info": {
   "codemirror_mode": {
    "name": "ipython",
    "version": 3
   },
   "file_extension": ".py",
   "mimetype": "text/x-python",
   "name": "python",
   "nbconvert_exporter": "python",
   "pygments_lexer": "ipython3",
   "version": "3.9.12"
  },
  "orig_nbformat": 4,
  "vscode": {
   "interpreter": {
    "hash": "bceaa3bdda3825794b37c15d2000316b6f4a45a3d4f5e14660beed4f1d5f7638"
   }
  }
 },
 "nbformat": 4,
 "nbformat_minor": 2
}
